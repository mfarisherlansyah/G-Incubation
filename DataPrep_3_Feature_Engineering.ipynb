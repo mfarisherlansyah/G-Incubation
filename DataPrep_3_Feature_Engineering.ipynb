{
 "cells": [
  {
   "cell_type": "markdown",
   "metadata": {
    "id": "Gq1fvRtAqd-Q"
   },
   "source": [
    "# Introduction to Feature Engineering <font color='blue'></font>"
   ]
  },
  {
   "cell_type": "markdown",
   "metadata": {
    "id": "cghp5yNjqd-X"
   },
   "source": [
    "# 0) Importing the right tools <font color='blue'> (5 min) </font>"
   ]
  },
  {
   "cell_type": "markdown",
   "metadata": {
    "id": "Id1HV24Vqd-Y"
   },
   "source": [
    "### <font color='red'>0.1) Import the necessary packages: </font>\n",
    "\n",
    "- pandas (aliased as pd)\n",
    "- numpy (aliased as np)\n",
    "- seaborn (aliased as sns)\n",
    "- matplotlib.pyplot (aliased as plt)"
   ]
  },
  {
   "cell_type": "code",
   "execution_count": 2,
   "metadata": {
    "id": "4OPrUb2wqd-a",
    "jupyter": {
     "outputs_hidden": false
    }
   },
   "outputs": [
    {
     "name": "stdout",
     "output_type": "stream",
     "text": [
      "Populating the interactive namespace from numpy and matplotlib\n"
     ]
    }
   ],
   "source": [
    "from __future__ import division\n",
    "\n",
    "import warnings\n",
    "warnings.filterwarnings('ignore')\n",
    "\n",
    "#### IMPORT THE NECESSARY PACKAGES WITH THEIR ALIASES ####\n",
    "import pandas as pd\n",
    "import numpy as np\n",
    "import seaborn as sns\n",
    "import matplotlib.pyplot as plt\n",
    "\n",
    "\n",
    "%pylab inline "
   ]
  },
  {
   "cell_type": "markdown",
   "metadata": {
    "id": "Ttwg7Jtlqd-d"
   },
   "source": [
    "### <font color='red'>0.2) Import the dataset from <i>'../data/my_data_after_simple_prep.csv'</i></font>"
   ]
  },
  {
   "cell_type": "code",
   "execution_count": 3,
   "metadata": {
    "id": "h6-I0BPbqd-e"
   },
   "outputs": [],
   "source": [
    "raw_data = pd.read_csv('my_data_after_simple_prep.csv')\n",
    "data = raw_data.copy()"
   ]
  },
  {
   "cell_type": "markdown",
   "metadata": {
    "id": "InhsJPo-qd-e"
   },
   "source": [
    "### <font color='red'>0.3) Print samples of data so you are familiar with the data </font>"
   ]
  },
  {
   "cell_type": "code",
   "execution_count": 4,
   "metadata": {
    "id": "1LYakqK_qd-g"
   },
   "outputs": [
    {
     "data": {
      "text/html": [
       "<div>\n",
       "<style scoped>\n",
       "    .dataframe tbody tr th:only-of-type {\n",
       "        vertical-align: middle;\n",
       "    }\n",
       "\n",
       "    .dataframe tbody tr th {\n",
       "        vertical-align: top;\n",
       "    }\n",
       "\n",
       "    .dataframe thead th {\n",
       "        text-align: right;\n",
       "    }\n",
       "</style>\n",
       "<table border=\"1\" class=\"dataframe\">\n",
       "  <thead>\n",
       "    <tr style=\"text-align: right;\">\n",
       "      <th></th>\n",
       "      <th>tripduration</th>\n",
       "      <th>starttime</th>\n",
       "      <th>stoptime</th>\n",
       "      <th>start station id</th>\n",
       "      <th>start station name</th>\n",
       "      <th>start station latitude</th>\n",
       "      <th>start station longitude</th>\n",
       "      <th>end station id</th>\n",
       "      <th>end station name</th>\n",
       "      <th>end station latitude</th>\n",
       "      <th>end station longitude</th>\n",
       "      <th>bikeid</th>\n",
       "      <th>usertype</th>\n",
       "      <th>birth year</th>\n",
       "      <th>gender</th>\n",
       "    </tr>\n",
       "  </thead>\n",
       "  <tbody>\n",
       "    <tr>\n",
       "      <th>803037</th>\n",
       "      <td>164</td>\n",
       "      <td>2015-06-26 14:19:00</td>\n",
       "      <td>2015-06-26 14:22:00</td>\n",
       "      <td>497</td>\n",
       "      <td>E 17 St &amp; Broadway</td>\n",
       "      <td>40.737050</td>\n",
       "      <td>-73.990093</td>\n",
       "      <td>297</td>\n",
       "      <td>E 15 St &amp; 3 Ave</td>\n",
       "      <td>40.734232</td>\n",
       "      <td>-73.986923</td>\n",
       "      <td>20083</td>\n",
       "      <td>Subscriber</td>\n",
       "      <td>1988.0</td>\n",
       "      <td>1</td>\n",
       "    </tr>\n",
       "    <tr>\n",
       "      <th>608120</th>\n",
       "      <td>1241</td>\n",
       "      <td>2015-06-20 21:03:00</td>\n",
       "      <td>2015-06-20 21:24:00</td>\n",
       "      <td>537</td>\n",
       "      <td>Lexington Ave &amp; E 24 St</td>\n",
       "      <td>40.740259</td>\n",
       "      <td>-73.984092</td>\n",
       "      <td>116</td>\n",
       "      <td>W 17 St &amp; 8 Ave</td>\n",
       "      <td>40.741776</td>\n",
       "      <td>-74.001497</td>\n",
       "      <td>20249</td>\n",
       "      <td>Customer</td>\n",
       "      <td>1979.0</td>\n",
       "      <td>0</td>\n",
       "    </tr>\n",
       "  </tbody>\n",
       "</table>\n",
       "</div>"
      ],
      "text/plain": [
       "        tripduration            starttime             stoptime  \\\n",
       "803037           164  2015-06-26 14:19:00  2015-06-26 14:22:00   \n",
       "608120          1241  2015-06-20 21:03:00  2015-06-20 21:24:00   \n",
       "\n",
       "        start station id       start station name  start station latitude  \\\n",
       "803037               497       E 17 St & Broadway               40.737050   \n",
       "608120               537  Lexington Ave & E 24 St               40.740259   \n",
       "\n",
       "        start station longitude  end station id end station name  \\\n",
       "803037               -73.990093             297  E 15 St & 3 Ave   \n",
       "608120               -73.984092             116  W 17 St & 8 Ave   \n",
       "\n",
       "        end station latitude  end station longitude  bikeid    usertype  \\\n",
       "803037             40.734232             -73.986923   20083  Subscriber   \n",
       "608120             40.741776             -74.001497   20249    Customer   \n",
       "\n",
       "        birth year  gender  \n",
       "803037      1988.0       1  \n",
       "608120      1979.0       0  "
      ]
     },
     "execution_count": 4,
     "metadata": {},
     "output_type": "execute_result"
    }
   ],
   "source": [
    "data.sample(2)"
   ]
  },
  {
   "cell_type": "markdown",
   "metadata": {
    "id": "HBk-oHCkqd-l"
   },
   "source": [
    "## 1) Weekend, Weekday <font color='blue'> (20 min) </font>"
   ]
  },
  {
   "cell_type": "markdown",
   "metadata": {
    "id": "LK0mEM-zqd-m"
   },
   "source": [
    "### Weekday"
   ]
  },
  {
   "cell_type": "markdown",
   "metadata": {
    "id": "lvSV67KLqd-n"
   },
   "source": [
    "### <font color='red'>1.1) Import the <i>calendar</i> package and get help on it </font>"
   ]
  },
  {
   "cell_type": "code",
   "execution_count": 5,
   "metadata": {
    "id": "Q4_AlNUDqd-n"
   },
   "outputs": [],
   "source": [
    "#### IMPORT THE PACKAGE ####\n",
    "import calendar"
   ]
  },
  {
   "cell_type": "code",
   "execution_count": 6,
   "metadata": {
    "id": "eqtw1Mgsqd-o",
    "jupyter": {
     "outputs_hidden": true
    }
   },
   "outputs": [
    {
     "name": "stdout",
     "output_type": "stream",
     "text": [
      "Help on module calendar:\n",
      "\n",
      "NAME\n",
      "    calendar - Calendar printing functions\n",
      "\n",
      "DESCRIPTION\n",
      "    Note when comparing these calendars to the ones printed by cal(1): By\n",
      "    default, these calendars have Monday as the first day of the week, and\n",
      "    Sunday as the last (the European convention). Use setfirstweekday() to\n",
      "    set the first day of the week (0=Monday, 6=Sunday).\n",
      "\n",
      "CLASSES\n",
      "    builtins.ValueError(builtins.Exception)\n",
      "        IllegalMonthError\n",
      "        IllegalWeekdayError\n",
      "    builtins.object\n",
      "        Calendar\n",
      "            HTMLCalendar\n",
      "                LocaleHTMLCalendar\n",
      "            TextCalendar\n",
      "                LocaleTextCalendar\n",
      "    \n",
      "    class Calendar(builtins.object)\n",
      "     |  Calendar(firstweekday=0)\n",
      "     |  \n",
      "     |  Base calendar class. This class doesn't do any formatting. It simply\n",
      "     |  provides data to subclasses.\n",
      "     |  \n",
      "     |  Methods defined here:\n",
      "     |  \n",
      "     |  __init__(self, firstweekday=0)\n",
      "     |      Initialize self.  See help(type(self)) for accurate signature.\n",
      "     |  \n",
      "     |  getfirstweekday(self)\n",
      "     |  \n",
      "     |  itermonthdates(self, year, month)\n",
      "     |      Return an iterator for one month. The iterator will yield datetime.date\n",
      "     |      values and will always iterate through complete weeks, so it will yield\n",
      "     |      dates outside the specified month.\n",
      "     |  \n",
      "     |  itermonthdays(self, year, month)\n",
      "     |      Like itermonthdates(), but will yield day numbers. For days outside\n",
      "     |      the specified month the day number is 0.\n",
      "     |  \n",
      "     |  itermonthdays2(self, year, month)\n",
      "     |      Like itermonthdates(), but will yield (day number, weekday number)\n",
      "     |      tuples. For days outside the specified month the day number is 0.\n",
      "     |  \n",
      "     |  itermonthdays3(self, year, month)\n",
      "     |      Like itermonthdates(), but will yield (year, month, day) tuples.  Can be\n",
      "     |      used for dates outside of datetime.date range.\n",
      "     |  \n",
      "     |  itermonthdays4(self, year, month)\n",
      "     |      Like itermonthdates(), but will yield (year, month, day, day_of_week) tuples.\n",
      "     |      Can be used for dates outside of datetime.date range.\n",
      "     |  \n",
      "     |  iterweekdays(self)\n",
      "     |      Return an iterator for one week of weekday numbers starting with the\n",
      "     |      configured first one.\n",
      "     |  \n",
      "     |  monthdatescalendar(self, year, month)\n",
      "     |      Return a matrix (list of lists) representing a month's calendar.\n",
      "     |      Each row represents a week; week entries are datetime.date values.\n",
      "     |  \n",
      "     |  monthdays2calendar(self, year, month)\n",
      "     |      Return a matrix representing a month's calendar.\n",
      "     |      Each row represents a week; week entries are\n",
      "     |      (day number, weekday number) tuples. Day numbers outside this month\n",
      "     |      are zero.\n",
      "     |  \n",
      "     |  monthdayscalendar(self, year, month)\n",
      "     |      Return a matrix representing a month's calendar.\n",
      "     |      Each row represents a week; days outside this month are zero.\n",
      "     |  \n",
      "     |  setfirstweekday(self, firstweekday)\n",
      "     |  \n",
      "     |  yeardatescalendar(self, year, width=3)\n",
      "     |      Return the data for the specified year ready for formatting. The return\n",
      "     |      value is a list of month rows. Each month row contains up to width months.\n",
      "     |      Each month contains between 4 and 6 weeks and each week contains 1-7\n",
      "     |      days. Days are datetime.date objects.\n",
      "     |  \n",
      "     |  yeardays2calendar(self, year, width=3)\n",
      "     |      Return the data for the specified year ready for formatting (similar to\n",
      "     |      yeardatescalendar()). Entries in the week lists are\n",
      "     |      (day number, weekday number) tuples. Day numbers outside this month are\n",
      "     |      zero.\n",
      "     |  \n",
      "     |  yeardayscalendar(self, year, width=3)\n",
      "     |      Return the data for the specified year ready for formatting (similar to\n",
      "     |      yeardatescalendar()). Entries in the week lists are day numbers.\n",
      "     |      Day numbers outside this month are zero.\n",
      "     |  \n",
      "     |  ----------------------------------------------------------------------\n",
      "     |  Data descriptors defined here:\n",
      "     |  \n",
      "     |  __dict__\n",
      "     |      dictionary for instance variables (if defined)\n",
      "     |  \n",
      "     |  __weakref__\n",
      "     |      list of weak references to the object (if defined)\n",
      "     |  \n",
      "     |  firstweekday\n",
      "    \n",
      "    class HTMLCalendar(Calendar)\n",
      "     |  HTMLCalendar(firstweekday=0)\n",
      "     |  \n",
      "     |  This calendar returns complete HTML pages.\n",
      "     |  \n",
      "     |  Method resolution order:\n",
      "     |      HTMLCalendar\n",
      "     |      Calendar\n",
      "     |      builtins.object\n",
      "     |  \n",
      "     |  Methods defined here:\n",
      "     |  \n",
      "     |  formatday(self, day, weekday)\n",
      "     |      Return a day as a table cell.\n",
      "     |  \n",
      "     |  formatmonth(self, theyear, themonth, withyear=True)\n",
      "     |      Return a formatted month as a table.\n",
      "     |  \n",
      "     |  formatmonthname(self, theyear, themonth, withyear=True)\n",
      "     |      Return a month name as a table row.\n",
      "     |  \n",
      "     |  formatweek(self, theweek)\n",
      "     |      Return a complete week as a table row.\n",
      "     |  \n",
      "     |  formatweekday(self, day)\n",
      "     |      Return a weekday name as a table header.\n",
      "     |  \n",
      "     |  formatweekheader(self)\n",
      "     |      Return a header for a week as a table row.\n",
      "     |  \n",
      "     |  formatyear(self, theyear, width=3)\n",
      "     |      Return a formatted year as a table of tables.\n",
      "     |  \n",
      "     |  formatyearpage(self, theyear, width=3, css='calendar.css', encoding=None)\n",
      "     |      Return a formatted year as a complete HTML page.\n",
      "     |  \n",
      "     |  ----------------------------------------------------------------------\n",
      "     |  Data and other attributes defined here:\n",
      "     |  \n",
      "     |  cssclass_month = 'month'\n",
      "     |  \n",
      "     |  cssclass_month_head = 'month'\n",
      "     |  \n",
      "     |  cssclass_noday = 'noday'\n",
      "     |  \n",
      "     |  cssclass_year = 'year'\n",
      "     |  \n",
      "     |  cssclass_year_head = 'year'\n",
      "     |  \n",
      "     |  cssclasses = ['mon', 'tue', 'wed', 'thu', 'fri', 'sat', 'sun']\n",
      "     |  \n",
      "     |  cssclasses_weekday_head = ['mon', 'tue', 'wed', 'thu', 'fri', 'sat', '...\n",
      "     |  \n",
      "     |  ----------------------------------------------------------------------\n",
      "     |  Methods inherited from Calendar:\n",
      "     |  \n",
      "     |  __init__(self, firstweekday=0)\n",
      "     |      Initialize self.  See help(type(self)) for accurate signature.\n",
      "     |  \n",
      "     |  getfirstweekday(self)\n",
      "     |  \n",
      "     |  itermonthdates(self, year, month)\n",
      "     |      Return an iterator for one month. The iterator will yield datetime.date\n",
      "     |      values and will always iterate through complete weeks, so it will yield\n",
      "     |      dates outside the specified month.\n",
      "     |  \n",
      "     |  itermonthdays(self, year, month)\n",
      "     |      Like itermonthdates(), but will yield day numbers. For days outside\n",
      "     |      the specified month the day number is 0.\n",
      "     |  \n",
      "     |  itermonthdays2(self, year, month)\n",
      "     |      Like itermonthdates(), but will yield (day number, weekday number)\n",
      "     |      tuples. For days outside the specified month the day number is 0.\n",
      "     |  \n",
      "     |  itermonthdays3(self, year, month)\n",
      "     |      Like itermonthdates(), but will yield (year, month, day) tuples.  Can be\n",
      "     |      used for dates outside of datetime.date range.\n",
      "     |  \n",
      "     |  itermonthdays4(self, year, month)\n",
      "     |      Like itermonthdates(), but will yield (year, month, day, day_of_week) tuples.\n",
      "     |      Can be used for dates outside of datetime.date range.\n",
      "     |  \n",
      "     |  iterweekdays(self)\n",
      "     |      Return an iterator for one week of weekday numbers starting with the\n",
      "     |      configured first one.\n",
      "     |  \n",
      "     |  monthdatescalendar(self, year, month)\n",
      "     |      Return a matrix (list of lists) representing a month's calendar.\n",
      "     |      Each row represents a week; week entries are datetime.date values.\n",
      "     |  \n",
      "     |  monthdays2calendar(self, year, month)\n",
      "     |      Return a matrix representing a month's calendar.\n",
      "     |      Each row represents a week; week entries are\n",
      "     |      (day number, weekday number) tuples. Day numbers outside this month\n",
      "     |      are zero.\n",
      "     |  \n",
      "     |  monthdayscalendar(self, year, month)\n",
      "     |      Return a matrix representing a month's calendar.\n",
      "     |      Each row represents a week; days outside this month are zero.\n",
      "     |  \n",
      "     |  setfirstweekday(self, firstweekday)\n",
      "     |  \n",
      "     |  yeardatescalendar(self, year, width=3)\n",
      "     |      Return the data for the specified year ready for formatting. The return\n",
      "     |      value is a list of month rows. Each month row contains up to width months.\n",
      "     |      Each month contains between 4 and 6 weeks and each week contains 1-7\n",
      "     |      days. Days are datetime.date objects.\n",
      "     |  \n",
      "     |  yeardays2calendar(self, year, width=3)\n",
      "     |      Return the data for the specified year ready for formatting (similar to\n",
      "     |      yeardatescalendar()). Entries in the week lists are\n",
      "     |      (day number, weekday number) tuples. Day numbers outside this month are\n",
      "     |      zero.\n",
      "     |  \n",
      "     |  yeardayscalendar(self, year, width=3)\n",
      "     |      Return the data for the specified year ready for formatting (similar to\n",
      "     |      yeardatescalendar()). Entries in the week lists are day numbers.\n",
      "     |      Day numbers outside this month are zero.\n",
      "     |  \n",
      "     |  ----------------------------------------------------------------------\n",
      "     |  Data descriptors inherited from Calendar:\n",
      "     |  \n",
      "     |  __dict__\n",
      "     |      dictionary for instance variables (if defined)\n",
      "     |  \n",
      "     |  __weakref__\n",
      "     |      list of weak references to the object (if defined)\n",
      "     |  \n",
      "     |  firstweekday\n",
      "    \n",
      "    class IllegalMonthError(builtins.ValueError)\n",
      "     |  IllegalMonthError(month)\n",
      "     |  \n",
      "     |  Inappropriate argument value (of correct type).\n",
      "     |  \n",
      "     |  Method resolution order:\n",
      "     |      IllegalMonthError\n",
      "     |      builtins.ValueError\n",
      "     |      builtins.Exception\n",
      "     |      builtins.BaseException\n",
      "     |      builtins.object\n",
      "     |  \n",
      "     |  Methods defined here:\n",
      "     |  \n",
      "     |  __init__(self, month)\n",
      "     |      Initialize self.  See help(type(self)) for accurate signature.\n",
      "     |  \n",
      "     |  __str__(self)\n",
      "     |      Return str(self).\n",
      "     |  \n",
      "     |  ----------------------------------------------------------------------\n",
      "     |  Data descriptors defined here:\n",
      "     |  \n",
      "     |  __weakref__\n",
      "     |      list of weak references to the object (if defined)\n",
      "     |  \n",
      "     |  ----------------------------------------------------------------------\n",
      "     |  Static methods inherited from builtins.ValueError:\n",
      "     |  \n",
      "     |  __new__(*args, **kwargs) from builtins.type\n",
      "     |      Create and return a new object.  See help(type) for accurate signature.\n",
      "     |  \n",
      "     |  ----------------------------------------------------------------------\n",
      "     |  Methods inherited from builtins.BaseException:\n",
      "     |  \n",
      "     |  __delattr__(self, name, /)\n",
      "     |      Implement delattr(self, name).\n",
      "     |  \n",
      "     |  __getattribute__(self, name, /)\n",
      "     |      Return getattr(self, name).\n",
      "     |  \n",
      "     |  __reduce__(...)\n",
      "     |      Helper for pickle.\n",
      "     |  \n",
      "     |  __repr__(self, /)\n",
      "     |      Return repr(self).\n",
      "     |  \n",
      "     |  __setattr__(self, name, value, /)\n",
      "     |      Implement setattr(self, name, value).\n",
      "     |  \n",
      "     |  __setstate__(...)\n",
      "     |  \n",
      "     |  with_traceback(...)\n",
      "     |      Exception.with_traceback(tb) --\n",
      "     |      set self.__traceback__ to tb and return self.\n",
      "     |  \n",
      "     |  ----------------------------------------------------------------------\n",
      "     |  Data descriptors inherited from builtins.BaseException:\n",
      "     |  \n",
      "     |  __cause__\n",
      "     |      exception cause\n",
      "     |  \n",
      "     |  __context__\n",
      "     |      exception context\n",
      "     |  \n",
      "     |  __dict__\n",
      "     |  \n",
      "     |  __suppress_context__\n",
      "     |  \n",
      "     |  __traceback__\n",
      "     |  \n",
      "     |  args\n",
      "    \n",
      "    class IllegalWeekdayError(builtins.ValueError)\n",
      "     |  IllegalWeekdayError(weekday)\n",
      "     |  \n",
      "     |  Inappropriate argument value (of correct type).\n",
      "     |  \n",
      "     |  Method resolution order:\n",
      "     |      IllegalWeekdayError\n",
      "     |      builtins.ValueError\n",
      "     |      builtins.Exception\n",
      "     |      builtins.BaseException\n",
      "     |      builtins.object\n",
      "     |  \n",
      "     |  Methods defined here:\n",
      "     |  \n",
      "     |  __init__(self, weekday)\n",
      "     |      Initialize self.  See help(type(self)) for accurate signature.\n",
      "     |  \n",
      "     |  __str__(self)\n",
      "     |      Return str(self).\n",
      "     |  \n",
      "     |  ----------------------------------------------------------------------\n",
      "     |  Data descriptors defined here:\n",
      "     |  \n",
      "     |  __weakref__\n",
      "     |      list of weak references to the object (if defined)\n",
      "     |  \n",
      "     |  ----------------------------------------------------------------------\n",
      "     |  Static methods inherited from builtins.ValueError:\n",
      "     |  \n",
      "     |  __new__(*args, **kwargs) from builtins.type\n",
      "     |      Create and return a new object.  See help(type) for accurate signature.\n",
      "     |  \n",
      "     |  ----------------------------------------------------------------------\n",
      "     |  Methods inherited from builtins.BaseException:\n",
      "     |  \n",
      "     |  __delattr__(self, name, /)\n",
      "     |      Implement delattr(self, name).\n",
      "     |  \n",
      "     |  __getattribute__(self, name, /)\n",
      "     |      Return getattr(self, name).\n",
      "     |  \n",
      "     |  __reduce__(...)\n",
      "     |      Helper for pickle.\n",
      "     |  \n",
      "     |  __repr__(self, /)\n",
      "     |      Return repr(self).\n",
      "     |  \n",
      "     |  __setattr__(self, name, value, /)\n",
      "     |      Implement setattr(self, name, value).\n",
      "     |  \n",
      "     |  __setstate__(...)\n",
      "     |  \n",
      "     |  with_traceback(...)\n",
      "     |      Exception.with_traceback(tb) --\n",
      "     |      set self.__traceback__ to tb and return self.\n",
      "     |  \n",
      "     |  ----------------------------------------------------------------------\n",
      "     |  Data descriptors inherited from builtins.BaseException:\n",
      "     |  \n",
      "     |  __cause__\n",
      "     |      exception cause\n",
      "     |  \n",
      "     |  __context__\n",
      "     |      exception context\n",
      "     |  \n",
      "     |  __dict__\n",
      "     |  \n",
      "     |  __suppress_context__\n",
      "     |  \n",
      "     |  __traceback__\n",
      "     |  \n",
      "     |  args\n",
      "    \n",
      "    class LocaleHTMLCalendar(HTMLCalendar)\n",
      "     |  LocaleHTMLCalendar(firstweekday=0, locale=None)\n",
      "     |  \n",
      "     |  This class can be passed a locale name in the constructor and will return\n",
      "     |  month and weekday names in the specified locale. If this locale includes\n",
      "     |  an encoding all strings containing month and weekday names will be returned\n",
      "     |  as unicode.\n",
      "     |  \n",
      "     |  Method resolution order:\n",
      "     |      LocaleHTMLCalendar\n",
      "     |      HTMLCalendar\n",
      "     |      Calendar\n",
      "     |      builtins.object\n",
      "     |  \n",
      "     |  Methods defined here:\n",
      "     |  \n",
      "     |  __init__(self, firstweekday=0, locale=None)\n",
      "     |      Initialize self.  See help(type(self)) for accurate signature.\n",
      "     |  \n",
      "     |  formatmonthname(self, theyear, themonth, withyear=True)\n",
      "     |      Return a month name as a table row.\n",
      "     |  \n",
      "     |  formatweekday(self, day)\n",
      "     |      Return a weekday name as a table header.\n",
      "     |  \n",
      "     |  ----------------------------------------------------------------------\n",
      "     |  Methods inherited from HTMLCalendar:\n",
      "     |  \n",
      "     |  formatday(self, day, weekday)\n",
      "     |      Return a day as a table cell.\n",
      "     |  \n",
      "     |  formatmonth(self, theyear, themonth, withyear=True)\n",
      "     |      Return a formatted month as a table.\n",
      "     |  \n",
      "     |  formatweek(self, theweek)\n",
      "     |      Return a complete week as a table row.\n",
      "     |  \n",
      "     |  formatweekheader(self)\n",
      "     |      Return a header for a week as a table row.\n",
      "     |  \n",
      "     |  formatyear(self, theyear, width=3)\n",
      "     |      Return a formatted year as a table of tables.\n",
      "     |  \n",
      "     |  formatyearpage(self, theyear, width=3, css='calendar.css', encoding=None)\n",
      "     |      Return a formatted year as a complete HTML page.\n",
      "     |  \n",
      "     |  ----------------------------------------------------------------------\n",
      "     |  Data and other attributes inherited from HTMLCalendar:\n",
      "     |  \n",
      "     |  cssclass_month = 'month'\n",
      "     |  \n",
      "     |  cssclass_month_head = 'month'\n",
      "     |  \n",
      "     |  cssclass_noday = 'noday'\n",
      "     |  \n",
      "     |  cssclass_year = 'year'\n",
      "     |  \n",
      "     |  cssclass_year_head = 'year'\n",
      "     |  \n",
      "     |  cssclasses = ['mon', 'tue', 'wed', 'thu', 'fri', 'sat', 'sun']\n",
      "     |  \n",
      "     |  cssclasses_weekday_head = ['mon', 'tue', 'wed', 'thu', 'fri', 'sat', '...\n",
      "     |  \n",
      "     |  ----------------------------------------------------------------------\n",
      "     |  Methods inherited from Calendar:\n",
      "     |  \n",
      "     |  getfirstweekday(self)\n",
      "     |  \n",
      "     |  itermonthdates(self, year, month)\n",
      "     |      Return an iterator for one month. The iterator will yield datetime.date\n",
      "     |      values and will always iterate through complete weeks, so it will yield\n",
      "     |      dates outside the specified month.\n",
      "     |  \n",
      "     |  itermonthdays(self, year, month)\n",
      "     |      Like itermonthdates(), but will yield day numbers. For days outside\n",
      "     |      the specified month the day number is 0.\n",
      "     |  \n",
      "     |  itermonthdays2(self, year, month)\n",
      "     |      Like itermonthdates(), but will yield (day number, weekday number)\n",
      "     |      tuples. For days outside the specified month the day number is 0.\n",
      "     |  \n",
      "     |  itermonthdays3(self, year, month)\n",
      "     |      Like itermonthdates(), but will yield (year, month, day) tuples.  Can be\n",
      "     |      used for dates outside of datetime.date range.\n",
      "     |  \n",
      "     |  itermonthdays4(self, year, month)\n",
      "     |      Like itermonthdates(), but will yield (year, month, day, day_of_week) tuples.\n",
      "     |      Can be used for dates outside of datetime.date range.\n",
      "     |  \n",
      "     |  iterweekdays(self)\n",
      "     |      Return an iterator for one week of weekday numbers starting with the\n",
      "     |      configured first one.\n",
      "     |  \n",
      "     |  monthdatescalendar(self, year, month)\n",
      "     |      Return a matrix (list of lists) representing a month's calendar.\n",
      "     |      Each row represents a week; week entries are datetime.date values.\n",
      "     |  \n",
      "     |  monthdays2calendar(self, year, month)\n",
      "     |      Return a matrix representing a month's calendar.\n",
      "     |      Each row represents a week; week entries are\n",
      "     |      (day number, weekday number) tuples. Day numbers outside this month\n",
      "     |      are zero.\n",
      "     |  \n",
      "     |  monthdayscalendar(self, year, month)\n",
      "     |      Return a matrix representing a month's calendar.\n",
      "     |      Each row represents a week; days outside this month are zero.\n",
      "     |  \n",
      "     |  setfirstweekday(self, firstweekday)\n",
      "     |  \n",
      "     |  yeardatescalendar(self, year, width=3)\n",
      "     |      Return the data for the specified year ready for formatting. The return\n",
      "     |      value is a list of month rows. Each month row contains up to width months.\n",
      "     |      Each month contains between 4 and 6 weeks and each week contains 1-7\n",
      "     |      days. Days are datetime.date objects.\n",
      "     |  \n",
      "     |  yeardays2calendar(self, year, width=3)\n",
      "     |      Return the data for the specified year ready for formatting (similar to\n",
      "     |      yeardatescalendar()). Entries in the week lists are\n",
      "     |      (day number, weekday number) tuples. Day numbers outside this month are\n",
      "     |      zero.\n",
      "     |  \n",
      "     |  yeardayscalendar(self, year, width=3)\n",
      "     |      Return the data for the specified year ready for formatting (similar to\n",
      "     |      yeardatescalendar()). Entries in the week lists are day numbers.\n",
      "     |      Day numbers outside this month are zero.\n",
      "     |  \n",
      "     |  ----------------------------------------------------------------------\n",
      "     |  Data descriptors inherited from Calendar:\n",
      "     |  \n",
      "     |  __dict__\n",
      "     |      dictionary for instance variables (if defined)\n",
      "     |  \n",
      "     |  __weakref__\n",
      "     |      list of weak references to the object (if defined)\n",
      "     |  \n",
      "     |  firstweekday\n",
      "    \n",
      "    class LocaleTextCalendar(TextCalendar)\n",
      "     |  LocaleTextCalendar(firstweekday=0, locale=None)\n",
      "     |  \n",
      "     |  This class can be passed a locale name in the constructor and will return\n",
      "     |  month and weekday names in the specified locale. If this locale includes\n",
      "     |  an encoding all strings containing month and weekday names will be returned\n",
      "     |  as unicode.\n",
      "     |  \n",
      "     |  Method resolution order:\n",
      "     |      LocaleTextCalendar\n",
      "     |      TextCalendar\n",
      "     |      Calendar\n",
      "     |      builtins.object\n",
      "     |  \n",
      "     |  Methods defined here:\n",
      "     |  \n",
      "     |  __init__(self, firstweekday=0, locale=None)\n",
      "     |      Initialize self.  See help(type(self)) for accurate signature.\n",
      "     |  \n",
      "     |  formatmonthname(self, theyear, themonth, width, withyear=True)\n",
      "     |      Return a formatted month name.\n",
      "     |  \n",
      "     |  formatweekday(self, day, width)\n",
      "     |      Returns a formatted week day name.\n",
      "     |  \n",
      "     |  ----------------------------------------------------------------------\n",
      "     |  Methods inherited from TextCalendar:\n",
      "     |  \n",
      "     |  formatday(self, day, weekday, width)\n",
      "     |      Returns a formatted day.\n",
      "     |  \n",
      "     |  formatmonth(self, theyear, themonth, w=0, l=0)\n",
      "     |      Return a month's calendar string (multi-line).\n",
      "     |  \n",
      "     |  formatweek(self, theweek, width)\n",
      "     |      Returns a single week in a string (no newline).\n",
      "     |  \n",
      "     |  formatweekheader(self, width)\n",
      "     |      Return a header for a week.\n",
      "     |  \n",
      "     |  formatyear(self, theyear, w=2, l=1, c=6, m=3)\n",
      "     |      Returns a year's calendar as a multi-line string.\n",
      "     |  \n",
      "     |  prmonth(self, theyear, themonth, w=0, l=0)\n",
      "     |      Print a month's calendar.\n",
      "     |  \n",
      "     |  prweek(self, theweek, width)\n",
      "     |      Print a single week (no newline).\n",
      "     |  \n",
      "     |  pryear(self, theyear, w=0, l=0, c=6, m=3)\n",
      "     |      Print a year's calendar.\n",
      "     |  \n",
      "     |  ----------------------------------------------------------------------\n",
      "     |  Methods inherited from Calendar:\n",
      "     |  \n",
      "     |  getfirstweekday(self)\n",
      "     |  \n",
      "     |  itermonthdates(self, year, month)\n",
      "     |      Return an iterator for one month. The iterator will yield datetime.date\n",
      "     |      values and will always iterate through complete weeks, so it will yield\n",
      "     |      dates outside the specified month.\n",
      "     |  \n",
      "     |  itermonthdays(self, year, month)\n",
      "     |      Like itermonthdates(), but will yield day numbers. For days outside\n",
      "     |      the specified month the day number is 0.\n",
      "     |  \n",
      "     |  itermonthdays2(self, year, month)\n",
      "     |      Like itermonthdates(), but will yield (day number, weekday number)\n",
      "     |      tuples. For days outside the specified month the day number is 0.\n",
      "     |  \n",
      "     |  itermonthdays3(self, year, month)\n",
      "     |      Like itermonthdates(), but will yield (year, month, day) tuples.  Can be\n",
      "     |      used for dates outside of datetime.date range.\n",
      "     |  \n",
      "     |  itermonthdays4(self, year, month)\n",
      "     |      Like itermonthdates(), but will yield (year, month, day, day_of_week) tuples.\n",
      "     |      Can be used for dates outside of datetime.date range.\n",
      "     |  \n",
      "     |  iterweekdays(self)\n",
      "     |      Return an iterator for one week of weekday numbers starting with the\n",
      "     |      configured first one.\n",
      "     |  \n",
      "     |  monthdatescalendar(self, year, month)\n",
      "     |      Return a matrix (list of lists) representing a month's calendar.\n",
      "     |      Each row represents a week; week entries are datetime.date values.\n",
      "     |  \n",
      "     |  monthdays2calendar(self, year, month)\n",
      "     |      Return a matrix representing a month's calendar.\n",
      "     |      Each row represents a week; week entries are\n",
      "     |      (day number, weekday number) tuples. Day numbers outside this month\n",
      "     |      are zero.\n",
      "     |  \n",
      "     |  monthdayscalendar(self, year, month)\n",
      "     |      Return a matrix representing a month's calendar.\n",
      "     |      Each row represents a week; days outside this month are zero.\n",
      "     |  \n",
      "     |  setfirstweekday(self, firstweekday)\n",
      "     |  \n",
      "     |  yeardatescalendar(self, year, width=3)\n",
      "     |      Return the data for the specified year ready for formatting. The return\n",
      "     |      value is a list of month rows. Each month row contains up to width months.\n",
      "     |      Each month contains between 4 and 6 weeks and each week contains 1-7\n",
      "     |      days. Days are datetime.date objects.\n",
      "     |  \n",
      "     |  yeardays2calendar(self, year, width=3)\n",
      "     |      Return the data for the specified year ready for formatting (similar to\n",
      "     |      yeardatescalendar()). Entries in the week lists are\n",
      "     |      (day number, weekday number) tuples. Day numbers outside this month are\n",
      "     |      zero.\n",
      "     |  \n",
      "     |  yeardayscalendar(self, year, width=3)\n",
      "     |      Return the data for the specified year ready for formatting (similar to\n",
      "     |      yeardatescalendar()). Entries in the week lists are day numbers.\n",
      "     |      Day numbers outside this month are zero.\n",
      "     |  \n",
      "     |  ----------------------------------------------------------------------\n",
      "     |  Data descriptors inherited from Calendar:\n",
      "     |  \n",
      "     |  __dict__\n",
      "     |      dictionary for instance variables (if defined)\n",
      "     |  \n",
      "     |  __weakref__\n",
      "     |      list of weak references to the object (if defined)\n",
      "     |  \n",
      "     |  firstweekday\n",
      "    \n",
      "    class TextCalendar(Calendar)\n",
      "     |  TextCalendar(firstweekday=0)\n",
      "     |  \n",
      "     |  Subclass of Calendar that outputs a calendar as a simple plain text\n",
      "     |  similar to the UNIX program cal.\n",
      "     |  \n",
      "     |  Method resolution order:\n",
      "     |      TextCalendar\n",
      "     |      Calendar\n",
      "     |      builtins.object\n",
      "     |  \n",
      "     |  Methods defined here:\n",
      "     |  \n",
      "     |  formatday(self, day, weekday, width)\n",
      "     |      Returns a formatted day.\n",
      "     |  \n",
      "     |  formatmonth(self, theyear, themonth, w=0, l=0)\n",
      "     |      Return a month's calendar string (multi-line).\n",
      "     |  \n",
      "     |  formatmonthname(self, theyear, themonth, width, withyear=True)\n",
      "     |      Return a formatted month name.\n",
      "     |  \n",
      "     |  formatweek(self, theweek, width)\n",
      "     |      Returns a single week in a string (no newline).\n",
      "     |  \n",
      "     |  formatweekday(self, day, width)\n",
      "     |      Returns a formatted week day name.\n",
      "     |  \n",
      "     |  formatweekheader(self, width)\n",
      "     |      Return a header for a week.\n",
      "     |  \n",
      "     |  formatyear(self, theyear, w=2, l=1, c=6, m=3)\n",
      "     |      Returns a year's calendar as a multi-line string.\n",
      "     |  \n",
      "     |  prmonth(self, theyear, themonth, w=0, l=0)\n",
      "     |      Print a month's calendar.\n",
      "     |  \n",
      "     |  prweek(self, theweek, width)\n",
      "     |      Print a single week (no newline).\n",
      "     |  \n",
      "     |  pryear(self, theyear, w=0, l=0, c=6, m=3)\n",
      "     |      Print a year's calendar.\n",
      "     |  \n",
      "     |  ----------------------------------------------------------------------\n",
      "     |  Methods inherited from Calendar:\n",
      "     |  \n",
      "     |  __init__(self, firstweekday=0)\n",
      "     |      Initialize self.  See help(type(self)) for accurate signature.\n",
      "     |  \n",
      "     |  getfirstweekday(self)\n",
      "     |  \n",
      "     |  itermonthdates(self, year, month)\n",
      "     |      Return an iterator for one month. The iterator will yield datetime.date\n",
      "     |      values and will always iterate through complete weeks, so it will yield\n",
      "     |      dates outside the specified month.\n",
      "     |  \n",
      "     |  itermonthdays(self, year, month)\n",
      "     |      Like itermonthdates(), but will yield day numbers. For days outside\n",
      "     |      the specified month the day number is 0.\n",
      "     |  \n",
      "     |  itermonthdays2(self, year, month)\n",
      "     |      Like itermonthdates(), but will yield (day number, weekday number)\n",
      "     |      tuples. For days outside the specified month the day number is 0.\n",
      "     |  \n",
      "     |  itermonthdays3(self, year, month)\n",
      "     |      Like itermonthdates(), but will yield (year, month, day) tuples.  Can be\n",
      "     |      used for dates outside of datetime.date range.\n",
      "     |  \n",
      "     |  itermonthdays4(self, year, month)\n",
      "     |      Like itermonthdates(), but will yield (year, month, day, day_of_week) tuples.\n",
      "     |      Can be used for dates outside of datetime.date range.\n",
      "     |  \n",
      "     |  iterweekdays(self)\n",
      "     |      Return an iterator for one week of weekday numbers starting with the\n",
      "     |      configured first one.\n",
      "     |  \n",
      "     |  monthdatescalendar(self, year, month)\n",
      "     |      Return a matrix (list of lists) representing a month's calendar.\n",
      "     |      Each row represents a week; week entries are datetime.date values.\n",
      "     |  \n",
      "     |  monthdays2calendar(self, year, month)\n",
      "     |      Return a matrix representing a month's calendar.\n",
      "     |      Each row represents a week; week entries are\n",
      "     |      (day number, weekday number) tuples. Day numbers outside this month\n",
      "     |      are zero.\n",
      "     |  \n",
      "     |  monthdayscalendar(self, year, month)\n",
      "     |      Return a matrix representing a month's calendar.\n",
      "     |      Each row represents a week; days outside this month are zero.\n",
      "     |  \n",
      "     |  setfirstweekday(self, firstweekday)\n",
      "     |  \n",
      "     |  yeardatescalendar(self, year, width=3)\n",
      "     |      Return the data for the specified year ready for formatting. The return\n",
      "     |      value is a list of month rows. Each month row contains up to width months.\n",
      "     |      Each month contains between 4 and 6 weeks and each week contains 1-7\n",
      "     |      days. Days are datetime.date objects.\n",
      "     |  \n",
      "     |  yeardays2calendar(self, year, width=3)\n",
      "     |      Return the data for the specified year ready for formatting (similar to\n",
      "     |      yeardatescalendar()). Entries in the week lists are\n",
      "     |      (day number, weekday number) tuples. Day numbers outside this month are\n",
      "     |      zero.\n",
      "     |  \n",
      "     |  yeardayscalendar(self, year, width=3)\n",
      "     |      Return the data for the specified year ready for formatting (similar to\n",
      "     |      yeardatescalendar()). Entries in the week lists are day numbers.\n",
      "     |      Day numbers outside this month are zero.\n",
      "     |  \n",
      "     |  ----------------------------------------------------------------------\n",
      "     |  Data descriptors inherited from Calendar:\n",
      "     |  \n",
      "     |  __dict__\n",
      "     |      dictionary for instance variables (if defined)\n",
      "     |  \n",
      "     |  __weakref__\n",
      "     |      list of weak references to the object (if defined)\n",
      "     |  \n",
      "     |  firstweekday\n",
      "\n",
      "FUNCTIONS\n",
      "    calendar = formatyear(theyear, w=2, l=1, c=6, m=3) method of TextCalendar instance\n",
      "        Returns a year's calendar as a multi-line string.\n",
      "    \n",
      "    firstweekday = getfirstweekday() method of TextCalendar instance\n",
      "    \n",
      "    isleap(year)\n",
      "        Return True for leap years, False for non-leap years.\n",
      "    \n",
      "    leapdays(y1, y2)\n",
      "        Return number of leap years in range [y1, y2).\n",
      "        Assume y1 <= y2.\n",
      "    \n",
      "    month = formatmonth(theyear, themonth, w=0, l=0) method of TextCalendar instance\n",
      "        Return a month's calendar string (multi-line).\n",
      "    \n",
      "    monthcalendar = monthdayscalendar(year, month) method of TextCalendar instance\n",
      "        Return a matrix representing a month's calendar.\n",
      "        Each row represents a week; days outside this month are zero.\n",
      "    \n",
      "    monthrange(year, month)\n",
      "        Return weekday (0-6 ~ Mon-Sun) and number of days (28-31) for\n",
      "        year, month.\n",
      "    \n",
      "    prcal = pryear(theyear, w=0, l=0, c=6, m=3) method of TextCalendar instance\n",
      "        Print a year's calendar.\n",
      "    \n",
      "    prmonth(theyear, themonth, w=0, l=0) method of TextCalendar instance\n",
      "        Print a month's calendar.\n",
      "    \n",
      "    setfirstweekday(firstweekday)\n",
      "    \n",
      "    timegm(tuple)\n",
      "        Unrelated but handy function to calculate Unix timestamp from GMT.\n",
      "    \n",
      "    weekday(year, month, day)\n",
      "        Return weekday (0-6 ~ Mon-Sun) for year, month (1-12), day (1-31).\n",
      "    \n",
      "    weekheader = formatweekheader(width) method of TextCalendar instance\n",
      "        Return a header for a week.\n",
      "\n",
      "DATA\n",
      "    __all__ = ['IllegalMonthError', 'IllegalWeekdayError', 'setfirstweekda...\n",
      "    day_abbr = <calendar._localized_day object>\n",
      "    day_name = <calendar._localized_day object>\n",
      "    month_abbr = <calendar._localized_month object>\n",
      "    month_name = <calendar._localized_month object>\n",
      "\n",
      "FILE\n",
      "    c:\\users\\dell\\anaconda3\\lib\\calendar.py\n",
      "\n",
      "\n"
     ]
    }
   ],
   "source": [
    "#### CALL HELP ON IT ####\n",
    "help(calendar)"
   ]
  },
  {
   "cell_type": "markdown",
   "metadata": {
    "id": "jXy1Tejcqd-p"
   },
   "source": [
    "### <font color='red'>1.2) Run the following block, so it changes starttime and stoptime columns of <i>data</i> to the right <i>datetime</i> format </font>"
   ]
  },
  {
   "cell_type": "code",
   "execution_count": 7,
   "metadata": {
    "id": "-d8wVXm3qd-q"
   },
   "outputs": [],
   "source": [
    "data['starttime'] = pd.to_datetime(data['starttime'], format=\"%Y-%m-%d %H:%M\")\n",
    "data['stoptime'] = pd.to_datetime(data['stoptime'], format=\"%Y-%m-%d %H:%M\")"
   ]
  },
  {
   "cell_type": "code",
   "execution_count": 8,
   "metadata": {
    "id": "u3HMUlKYqd-q"
   },
   "outputs": [
    {
     "data": {
      "text/html": [
       "<div>\n",
       "<style scoped>\n",
       "    .dataframe tbody tr th:only-of-type {\n",
       "        vertical-align: middle;\n",
       "    }\n",
       "\n",
       "    .dataframe tbody tr th {\n",
       "        vertical-align: top;\n",
       "    }\n",
       "\n",
       "    .dataframe thead th {\n",
       "        text-align: right;\n",
       "    }\n",
       "</style>\n",
       "<table border=\"1\" class=\"dataframe\">\n",
       "  <thead>\n",
       "    <tr style=\"text-align: right;\">\n",
       "      <th></th>\n",
       "      <th>tripduration</th>\n",
       "      <th>starttime</th>\n",
       "      <th>stoptime</th>\n",
       "      <th>start station id</th>\n",
       "      <th>start station name</th>\n",
       "      <th>start station latitude</th>\n",
       "      <th>start station longitude</th>\n",
       "      <th>end station id</th>\n",
       "      <th>end station name</th>\n",
       "      <th>end station latitude</th>\n",
       "      <th>end station longitude</th>\n",
       "      <th>bikeid</th>\n",
       "      <th>usertype</th>\n",
       "      <th>birth year</th>\n",
       "      <th>gender</th>\n",
       "    </tr>\n",
       "  </thead>\n",
       "  <tbody>\n",
       "    <tr>\n",
       "      <th>212053</th>\n",
       "      <td>645</td>\n",
       "      <td>2015-06-08 20:03:00</td>\n",
       "      <td>2015-06-08 20:14:00</td>\n",
       "      <td>499</td>\n",
       "      <td>Broadway &amp; W 60 St</td>\n",
       "      <td>40.769155</td>\n",
       "      <td>-73.981918</td>\n",
       "      <td>465</td>\n",
       "      <td>Broadway &amp; W 41 St</td>\n",
       "      <td>40.755136</td>\n",
       "      <td>-73.98658</td>\n",
       "      <td>19320</td>\n",
       "      <td>Subscriber</td>\n",
       "      <td>1987.0</td>\n",
       "      <td>2</td>\n",
       "    </tr>\n",
       "  </tbody>\n",
       "</table>\n",
       "</div>"
      ],
      "text/plain": [
       "        tripduration           starttime            stoptime  \\\n",
       "212053           645 2015-06-08 20:03:00 2015-06-08 20:14:00   \n",
       "\n",
       "        start station id  start station name  start station latitude  \\\n",
       "212053               499  Broadway & W 60 St               40.769155   \n",
       "\n",
       "        start station longitude  end station id    end station name  \\\n",
       "212053               -73.981918             465  Broadway & W 41 St   \n",
       "\n",
       "        end station latitude  end station longitude  bikeid    usertype  \\\n",
       "212053             40.755136              -73.98658   19320  Subscriber   \n",
       "\n",
       "        birth year  gender  \n",
       "212053      1987.0       2  "
      ]
     },
     "execution_count": 8,
     "metadata": {},
     "output_type": "execute_result"
    }
   ],
   "source": [
    "data.sample(1)"
   ]
  },
  {
   "cell_type": "markdown",
   "metadata": {
    "id": "NtsUTntLqd-r"
   },
   "source": [
    "### <font color='red'>1.3) Run the following block with different day indexes, so you can see what <i>calendar.day_name[index_day]</i> returns </font>"
   ]
  },
  {
   "cell_type": "code",
   "execution_count": 9,
   "metadata": {
    "id": "_Ixut_KIqd-r",
    "jupyter": {
     "outputs_hidden": false
    }
   },
   "outputs": [
    {
     "name": "stdout",
     "output_type": "stream",
     "text": [
      "0 Monday\n",
      "1 Tuesday\n",
      "2 Wednesday\n",
      "3 Thursday\n",
      "4 Friday\n",
      "5 Saturday\n",
      "6 Sunday\n"
     ]
    }
   ],
   "source": [
    "index_day = range(0,7)\n",
    "for i in index_day:\n",
    "    print (i, calendar.day_name[i])"
   ]
  },
  {
   "cell_type": "markdown",
   "metadata": {
    "id": "9sj36adqqd-s"
   },
   "source": [
    "### <font color='red'>1.4) Run the following block so you get the day index of a given observation, as well as its week-day using <i>calendar</i></font>"
   ]
  },
  {
   "cell_type": "code",
   "execution_count": 10,
   "metadata": {
    "id": "EJJryiI3qd-s"
   },
   "outputs": [],
   "source": [
    "example_observation = data.iloc[800000] #take the first row data"
   ]
  },
  {
   "cell_type": "code",
   "execution_count": 11,
   "metadata": {
    "id": "Rc4tys-Qqd-t"
   },
   "outputs": [
    {
     "name": "stdout",
     "output_type": "stream",
     "text": [
      "tripduration                                    365\n",
      "starttime                       2015-06-26 12:51:00\n",
      "stoptime                        2015-06-26 12:57:00\n",
      "start station id                                265\n",
      "start station name         Stanton St & Chrystie St\n",
      "start station latitude                    40.722293\n",
      "start station longitude                  -73.991475\n",
      "end station id                                  150\n",
      "end station name                  E 2 St & Avenue C\n",
      "end station latitude                      40.720874\n",
      "end station longitude                    -73.980858\n",
      "bikeid                                        16219\n",
      "usertype                                 Subscriber\n",
      "birth year                                   1988.0\n",
      "gender                                            1\n",
      "Name: 800000, dtype: object\n"
     ]
    }
   ],
   "source": [
    "print(example_observation)"
   ]
  },
  {
   "cell_type": "code",
   "execution_count": 12,
   "metadata": {
    "id": "Ggfcyl6cqd-t"
   },
   "outputs": [
    {
     "name": "stdout",
     "output_type": "stream",
     "text": [
      "starttime: 2015-06-26 12:51:00\n"
     ]
    }
   ],
   "source": [
    "print(\"starttime:\", example_observation.starttime)"
   ]
  },
  {
   "cell_type": "code",
   "execution_count": 13,
   "metadata": {
    "id": "jonLWjdfqd-u"
   },
   "outputs": [
    {
     "name": "stdout",
     "output_type": "stream",
     "text": [
      "starttime weekday index: 4\n"
     ]
    }
   ],
   "source": [
    "print(\"starttime weekday index:\", example_observation.starttime.weekday())"
   ]
  },
  {
   "cell_type": "code",
   "execution_count": 14,
   "metadata": {
    "id": "0vkTswB0qd-w"
   },
   "outputs": [
    {
     "name": "stdout",
     "output_type": "stream",
     "text": [
      "starttime weekday name: Friday\n"
     ]
    }
   ],
   "source": [
    "day_index = example_observation.starttime.weekday()\n",
    "print(\"starttime weekday name:\", calendar.day_name[day_index])"
   ]
  },
  {
   "cell_type": "code",
   "execution_count": 15,
   "metadata": {
    "id": "05j18HLnqd-x",
    "jupyter": {
     "outputs_hidden": false
    }
   },
   "outputs": [
    {
     "name": "stdout",
     "output_type": "stream",
     "text": [
      "tripduration                                   1338\n",
      "starttime                       2015-06-01 00:00:00\n",
      "stoptime                        2015-06-01 00:22:00\n",
      "start station id                                128\n",
      "start station name         MacDougal St & Prince St\n",
      "start station latitude                    40.727103\n",
      "start station longitude                  -74.002971\n",
      "end station id                                 2021\n",
      "end station name                    W 45 St & 8 Ave\n",
      "end station latitude                      40.759291\n",
      "end station longitude                    -73.988597\n",
      "bikeid                                        20721\n",
      "usertype                                 Subscriber\n",
      "birth year                                   1984.0\n",
      "gender                                            1\n",
      "Name: 0, dtype: object\n",
      "starttime: 2015-06-01 00:00:00\n",
      "starttime weekday index: 0\n",
      "starttime weekday name: Monday\n"
     ]
    }
   ],
   "source": [
    "example_observation = data.iloc[0] #take the first row data\n",
    "print(example_observation)\n",
    "print(\"starttime:\", example_observation.starttime)\n",
    "print(\"starttime weekday index:\", example_observation.starttime.weekday())\n",
    "print(\"starttime weekday name:\", calendar.day_name[example_observation.starttime.weekday()])"
   ]
  },
  {
   "cell_type": "code",
   "execution_count": 16,
   "metadata": {
    "id": "4lArZtK6qd-x"
   },
   "outputs": [
    {
     "data": {
      "text/html": [
       "<div>\n",
       "<style scoped>\n",
       "    .dataframe tbody tr th:only-of-type {\n",
       "        vertical-align: middle;\n",
       "    }\n",
       "\n",
       "    .dataframe tbody tr th {\n",
       "        vertical-align: top;\n",
       "    }\n",
       "\n",
       "    .dataframe thead th {\n",
       "        text-align: right;\n",
       "    }\n",
       "</style>\n",
       "<table border=\"1\" class=\"dataframe\">\n",
       "  <thead>\n",
       "    <tr style=\"text-align: right;\">\n",
       "      <th></th>\n",
       "      <th>tripduration</th>\n",
       "      <th>starttime</th>\n",
       "      <th>stoptime</th>\n",
       "      <th>start station id</th>\n",
       "      <th>start station name</th>\n",
       "      <th>start station latitude</th>\n",
       "      <th>start station longitude</th>\n",
       "      <th>end station id</th>\n",
       "      <th>end station name</th>\n",
       "      <th>end station latitude</th>\n",
       "      <th>end station longitude</th>\n",
       "      <th>bikeid</th>\n",
       "      <th>usertype</th>\n",
       "      <th>birth year</th>\n",
       "      <th>gender</th>\n",
       "    </tr>\n",
       "  </thead>\n",
       "  <tbody>\n",
       "    <tr>\n",
       "      <th>57598</th>\n",
       "      <td>1657</td>\n",
       "      <td>2015-06-03 19:59:00</td>\n",
       "      <td>2015-06-03 20:27:00</td>\n",
       "      <td>168</td>\n",
       "      <td>W 18 St &amp; 6 Ave</td>\n",
       "      <td>40.739713</td>\n",
       "      <td>-73.994564</td>\n",
       "      <td>259</td>\n",
       "      <td>South St &amp; Whitehall St</td>\n",
       "      <td>40.701221</td>\n",
       "      <td>-74.012342</td>\n",
       "      <td>21689</td>\n",
       "      <td>Subscriber</td>\n",
       "      <td>1969.0</td>\n",
       "      <td>1</td>\n",
       "    </tr>\n",
       "    <tr>\n",
       "      <th>137711</th>\n",
       "      <td>622</td>\n",
       "      <td>2015-06-06 15:08:00</td>\n",
       "      <td>2015-06-06 15:18:00</td>\n",
       "      <td>276</td>\n",
       "      <td>Duane St &amp; Greenwich St</td>\n",
       "      <td>40.717488</td>\n",
       "      <td>-74.010455</td>\n",
       "      <td>368</td>\n",
       "      <td>Carmine St &amp; 6 Ave</td>\n",
       "      <td>40.730386</td>\n",
       "      <td>-74.002150</td>\n",
       "      <td>19882</td>\n",
       "      <td>Subscriber</td>\n",
       "      <td>1988.0</td>\n",
       "      <td>2</td>\n",
       "    </tr>\n",
       "  </tbody>\n",
       "</table>\n",
       "</div>"
      ],
      "text/plain": [
       "        tripduration           starttime            stoptime  \\\n",
       "57598           1657 2015-06-03 19:59:00 2015-06-03 20:27:00   \n",
       "137711           622 2015-06-06 15:08:00 2015-06-06 15:18:00   \n",
       "\n",
       "        start station id       start station name  start station latitude  \\\n",
       "57598                168          W 18 St & 6 Ave               40.739713   \n",
       "137711               276  Duane St & Greenwich St               40.717488   \n",
       "\n",
       "        start station longitude  end station id         end station name  \\\n",
       "57598                -73.994564             259  South St & Whitehall St   \n",
       "137711               -74.010455             368       Carmine St & 6 Ave   \n",
       "\n",
       "        end station latitude  end station longitude  bikeid    usertype  \\\n",
       "57598              40.701221             -74.012342   21689  Subscriber   \n",
       "137711             40.730386             -74.002150   19882  Subscriber   \n",
       "\n",
       "        birth year  gender  \n",
       "57598       1969.0       1  \n",
       "137711      1988.0       2  "
      ]
     },
     "execution_count": 16,
     "metadata": {},
     "output_type": "execute_result"
    }
   ],
   "source": [
    "data.sample(2)"
   ]
  },
  {
   "cell_type": "markdown",
   "metadata": {
    "id": "LCWkAo9pqd-y"
   },
   "source": [
    "### <font color='red'>1.5) Create a column in the dataframe, containing the day of the week of a given trip. You can use the following functions:</font>\n",
    "- pd.column_name.apply()\n",
    "- calendar.day_name[day_number_here] (notice the brackets)\n",
    "- datetime.weekday()\n",
    "\n",
    "<font color='green'> <b>Any function can be passed to pd.column_name.apply(name_of_your_function), for instance you could use the <i>lambda functions</i></b>:\n",
    "- new_column = pd.column_name.apply(lambda x: x.attribute_of_x) will create a new column, based on the attributes of elements of the old column.<font color='green'>"
   ]
  },
  {
   "cell_type": "code",
   "execution_count": 17,
   "metadata": {
    "id": "rp218Pcpqd-y",
    "jupyter": {
     "outputs_hidden": false
    }
   },
   "outputs": [],
   "source": [
    "# apply akan mengimplementasikan fungsi ke setiap row\n",
    "data['start_day'] = data[\"starttime\"].apply(lambda x: calendar.day_name[x.weekday()])\n",
    "# x mengacu pada data['starttime']\n",
    "#### ADD THE DAY OF THE WEEK IN THIS NEW DATAFRAME COLUMN ####"
   ]
  },
  {
   "cell_type": "code",
   "execution_count": 18,
   "metadata": {},
   "outputs": [],
   "source": [
    "data['start_day_again'] = data.apply(lambda x: calendar.day_name[x['starttime'].weekday()], axis = 1)"
   ]
  },
  {
   "cell_type": "code",
   "execution_count": 19,
   "metadata": {},
   "outputs": [
    {
     "data": {
      "text/plain": [
       "7583        Monday\n",
       "421980      Monday\n",
       "141883    Saturday\n",
       "Name: start_day_again, dtype: object"
      ]
     },
     "execution_count": 19,
     "metadata": {},
     "output_type": "execute_result"
    }
   ],
   "source": [
    "data['start_day_again'].sample(3)"
   ]
  },
  {
   "cell_type": "markdown",
   "metadata": {
    "id": "ezq3iKt5qd-y"
   },
   "source": [
    "### <font color='red'>1.6) Print samples of data to make sure the column has been created successfully </font>"
   ]
  },
  {
   "cell_type": "code",
   "execution_count": 20,
   "metadata": {
    "id": "n2PQABwQqd-z",
    "jupyter": {
     "outputs_hidden": false
    }
   },
   "outputs": [
    {
     "data": {
      "text/html": [
       "<div>\n",
       "<style scoped>\n",
       "    .dataframe tbody tr th:only-of-type {\n",
       "        vertical-align: middle;\n",
       "    }\n",
       "\n",
       "    .dataframe tbody tr th {\n",
       "        vertical-align: top;\n",
       "    }\n",
       "\n",
       "    .dataframe thead th {\n",
       "        text-align: right;\n",
       "    }\n",
       "</style>\n",
       "<table border=\"1\" class=\"dataframe\">\n",
       "  <thead>\n",
       "    <tr style=\"text-align: right;\">\n",
       "      <th></th>\n",
       "      <th>starttime</th>\n",
       "      <th>start_day</th>\n",
       "    </tr>\n",
       "  </thead>\n",
       "  <tbody>\n",
       "    <tr>\n",
       "      <th>430725</th>\n",
       "      <td>2015-06-15 13:35:00</td>\n",
       "      <td>Monday</td>\n",
       "    </tr>\n",
       "    <tr>\n",
       "      <th>478325</th>\n",
       "      <td>2015-06-17 06:51:00</td>\n",
       "      <td>Wednesday</td>\n",
       "    </tr>\n",
       "  </tbody>\n",
       "</table>\n",
       "</div>"
      ],
      "text/plain": [
       "                 starttime  start_day\n",
       "430725 2015-06-15 13:35:00     Monday\n",
       "478325 2015-06-17 06:51:00  Wednesday"
      ]
     },
     "execution_count": 20,
     "metadata": {},
     "output_type": "execute_result"
    }
   ],
   "source": [
    "col = ['starttime', 'start_day']\n",
    "data[col].sample(2)"
   ]
  },
  {
   "cell_type": "markdown",
   "metadata": {
    "id": "_N2q07z2qd-z"
   },
   "source": [
    "### <font color='red'>1.7) Use the <i>seaborn</i> package, and more specifically <i>sns.countplot</i>, to plot the number of trips per week day</font>"
   ]
  },
  {
   "cell_type": "code",
   "execution_count": 21,
   "metadata": {
    "id": "_3XyqNgNqd-0",
    "jupyter": {
     "outputs_hidden": false
    }
   },
   "outputs": [
    {
     "data": {
      "text/plain": [
       "Text(0.5,1,'Number of Trips by Weekday')"
      ]
     },
     "execution_count": 21,
     "metadata": {},
     "output_type": "execute_result"
    },
    {
     "data": {
      "image/png": "[encoded data removed]",
      "text/plain": [
       "<Figure size 1440x720 with 1 Axes>"
      ]
     },
     "metadata": {
      "needs_background": "light"
     },
     "output_type": "display_data"
    }
   ],
   "source": [
    "plt.figure(figsize=[20,10])\n",
    "g = sns.countplot(data['start_day'])\n",
    "for p in g.patches:\n",
    "    g.text(p.get_x()+0.2, p.get_height()+1, '%i' % p.get_height(), size = 12) \n",
    "    \n",
    "plt.title('Number of Trips by Weekday')"
   ]
  },
  {
   "cell_type": "markdown",
   "metadata": {},
   "source": [
    "Kelihatan bahwa di saat weekend orang cenderung jarang menggunakan sepeda."
   ]
  },
  {
   "cell_type": "markdown",
   "metadata": {
    "id": "RZFss1fSqd-0"
   },
   "source": [
    "### <font color='red'>1.8) Define a new binary column, with True if day is on the weekend, False otherwise. You can use the <i>pandas.column_name.apply(your_function_here)</i> function.</font>"
   ]
  },
  {
   "cell_type": "code",
   "execution_count": 22,
   "metadata": {
    "id": "u_2RC75Uqd-1"
   },
   "outputs": [],
   "source": [
    "data['is_weekend'] = data['start_day'].apply(lambda x: 1 if (x == 'Saturday' or x == 'Sunday') else 0)\n",
    "##### NEW BINARY COLUMN, 1 IF OBSERVATION IS A WEEKEND TRIP, 0 OTHERWISE ####\n",
    "                    #### YOU CAN USE A LAMBDA FUNCTION HERE like this : .apply(lambda x: x in set_to_check) ####"
   ]
  },
  {
   "cell_type": "markdown",
   "metadata": {
    "id": "1UeT06IUqd-1"
   },
   "source": [
    "### <font color='red'>1.9) Plot samples of data to check success of operation</font>"
   ]
  },
  {
   "cell_type": "code",
   "execution_count": 23,
   "metadata": {
    "id": "CSr6YW9Aqd-1",
    "jupyter": {
     "outputs_hidden": false
    }
   },
   "outputs": [
    {
     "data": {
      "text/html": [
       "<div>\n",
       "<style scoped>\n",
       "    .dataframe tbody tr th:only-of-type {\n",
       "        vertical-align: middle;\n",
       "    }\n",
       "\n",
       "    .dataframe tbody tr th {\n",
       "        vertical-align: top;\n",
       "    }\n",
       "\n",
       "    .dataframe thead th {\n",
       "        text-align: right;\n",
       "    }\n",
       "</style>\n",
       "<table border=\"1\" class=\"dataframe\">\n",
       "  <thead>\n",
       "    <tr style=\"text-align: right;\">\n",
       "      <th></th>\n",
       "      <th>start_day</th>\n",
       "      <th>is_weekend</th>\n",
       "    </tr>\n",
       "  </thead>\n",
       "  <tbody>\n",
       "    <tr>\n",
       "      <th>517369</th>\n",
       "      <td>Thursday</td>\n",
       "      <td>0</td>\n",
       "    </tr>\n",
       "    <tr>\n",
       "      <th>533616</th>\n",
       "      <td>Thursday</td>\n",
       "      <td>0</td>\n",
       "    </tr>\n",
       "    <tr>\n",
       "      <th>865743</th>\n",
       "      <td>Monday</td>\n",
       "      <td>0</td>\n",
       "    </tr>\n",
       "    <tr>\n",
       "      <th>507600</th>\n",
       "      <td>Wednesday</td>\n",
       "      <td>0</td>\n",
       "    </tr>\n",
       "    <tr>\n",
       "      <th>448581</th>\n",
       "      <td>Tuesday</td>\n",
       "      <td>0</td>\n",
       "    </tr>\n",
       "  </tbody>\n",
       "</table>\n",
       "</div>"
      ],
      "text/plain": [
       "        start_day  is_weekend\n",
       "517369   Thursday           0\n",
       "533616   Thursday           0\n",
       "865743     Monday           0\n",
       "507600  Wednesday           0\n",
       "448581    Tuesday           0"
      ]
     },
     "execution_count": 23,
     "metadata": {},
     "output_type": "execute_result"
    }
   ],
   "source": [
    "col = ['start_day', 'is_weekend']\n",
    "data[col].sample(5)"
   ]
  },
  {
   "cell_type": "markdown",
   "metadata": {
    "id": "EWkWVZfdqd-2"
   },
   "source": [
    "## 2) Morning/afternoon/evening/night <font color='blue'> (15 min) </font>"
   ]
  },
  {
   "cell_type": "markdown",
   "metadata": {
    "id": "bIsdAP9Kqd-2"
   },
   "source": [
    "### <font color='red'>2.1) Define a function that returns a string depending on its parameter x. If:</font>\n",
    "- x.hour is strictly under 6 or strictly over 22, return 'night'\n",
    "- x.hour is strictly over 18 and under 22, return 'evening'\n",
    "- x.hour is strictly over 12 and under 18, return 'afternoon'\n",
    "- otherwise return 'morning'"
   ]
  },
  {
   "cell_type": "code",
   "execution_count": 24,
   "metadata": {
    "id": "-hNSlvwlqd-2",
    "jupyter": {
     "outputs_hidden": false
    }
   },
   "outputs": [],
   "source": [
    "def time_of_day(x):\n",
    "    if x.hour < 6 or x.hour >= 22:    #### COMPLETE THE FUNCTION BELOW ####\n",
    "        return 'night'\n",
    "    elif x.hour > 18 and x.hour < 22:\n",
    "        return 'evening'\n",
    "    elif x.hour >= 12 and x.hour <= 18:\n",
    "        return 'afternoon'\n",
    "    else:\n",
    "        return 'morning'"
   ]
  },
  {
   "cell_type": "code",
   "execution_count": 25,
   "metadata": {},
   "outputs": [
    {
     "name": "stdout",
     "output_type": "stream",
     "text": [
      "tripduration                                  1364\n",
      "starttime                      2015-06-28 18:40:00\n",
      "stoptime                       2015-06-28 19:03:00\n",
      "start station id                               225\n",
      "start station name         W 14 St & The High Line\n",
      "start station latitude                   40.741951\n",
      "start station longitude                  -74.00803\n",
      "end station id                                 530\n",
      "end station name                  11 Ave & W 59 St\n",
      "end station latitude                     40.771522\n",
      "end station longitude                   -73.990541\n",
      "bikeid                                       20880\n",
      "usertype                                  Customer\n",
      "birth year                                  1979.0\n",
      "gender                                           0\n",
      "start_day                                   Sunday\n",
      "start_day_again                             Sunday\n",
      "is_weekend                                       1\n",
      "Name: 853867, dtype: object\n"
     ]
    }
   ],
   "source": [
    "print(data.iloc[853867])"
   ]
  },
  {
   "cell_type": "code",
   "execution_count": 26,
   "metadata": {},
   "outputs": [
    {
     "name": "stdout",
     "output_type": "stream",
     "text": [
      "18\n"
     ]
    }
   ],
   "source": [
    "print(data.iloc[853867]['starttime'].hour)"
   ]
  },
  {
   "cell_type": "code",
   "execution_count": 27,
   "metadata": {},
   "outputs": [
    {
     "data": {
      "text/plain": [
       "'afternoon'"
      ]
     },
     "execution_count": 27,
     "metadata": {},
     "output_type": "execute_result"
    }
   ],
   "source": [
    "time_of_day(data.iloc[853867]['starttime'])"
   ]
  },
  {
   "cell_type": "markdown",
   "metadata": {
    "id": "uS6mFyJDqd-3"
   },
   "source": [
    "### <font color='red'>2.2) Apply the function to the <i>starttime</i> column of <i>data</i> to create a new feature , using <i>pd.apply(your_function)</i> function</font>"
   ]
  },
  {
   "cell_type": "code",
   "execution_count": 28,
   "metadata": {
    "id": "kPjmBfatqd-3",
    "jupyter": {
     "outputs_hidden": false
    }
   },
   "outputs": [
    {
     "data": {
      "text/html": [
       "<div>\n",
       "<style scoped>\n",
       "    .dataframe tbody tr th:only-of-type {\n",
       "        vertical-align: middle;\n",
       "    }\n",
       "\n",
       "    .dataframe tbody tr th {\n",
       "        vertical-align: top;\n",
       "    }\n",
       "\n",
       "    .dataframe thead th {\n",
       "        text-align: right;\n",
       "    }\n",
       "</style>\n",
       "<table border=\"1\" class=\"dataframe\">\n",
       "  <thead>\n",
       "    <tr style=\"text-align: right;\">\n",
       "      <th></th>\n",
       "      <th>starttime</th>\n",
       "      <th>start_moment</th>\n",
       "    </tr>\n",
       "  </thead>\n",
       "  <tbody>\n",
       "    <tr>\n",
       "      <th>633603</th>\n",
       "      <td>2015-06-21 21:13:00</td>\n",
       "      <td>evening</td>\n",
       "    </tr>\n",
       "    <tr>\n",
       "      <th>326763</th>\n",
       "      <td>2015-06-11 23:47:00</td>\n",
       "      <td>night</td>\n",
       "    </tr>\n",
       "    <tr>\n",
       "      <th>499763</th>\n",
       "      <td>2015-06-17 17:06:00</td>\n",
       "      <td>afternoon</td>\n",
       "    </tr>\n",
       "    <tr>\n",
       "      <th>94178</th>\n",
       "      <td>2015-06-04 23:48:00</td>\n",
       "      <td>night</td>\n",
       "    </tr>\n",
       "    <tr>\n",
       "      <th>659283</th>\n",
       "      <td>2015-06-22 17:35:00</td>\n",
       "      <td>afternoon</td>\n",
       "    </tr>\n",
       "  </tbody>\n",
       "</table>\n",
       "</div>"
      ],
      "text/plain": [
       "                 starttime start_moment\n",
       "633603 2015-06-21 21:13:00      evening\n",
       "326763 2015-06-11 23:47:00        night\n",
       "499763 2015-06-17 17:06:00    afternoon\n",
       "94178  2015-06-04 23:48:00        night\n",
       "659283 2015-06-22 17:35:00    afternoon"
      ]
     },
     "execution_count": 28,
     "metadata": {},
     "output_type": "execute_result"
    }
   ],
   "source": [
    "data['start_moment'] = data['starttime'].apply(time_of_day)\n",
    "col = ['starttime', 'start_moment']\n",
    "data[col].sample(5)\n",
    "#### APPLY THE FUNCTION TO data.starttime IN ORDER TO CREATE A NEW FEATURE ####"
   ]
  },
  {
   "cell_type": "code",
   "execution_count": 29,
   "metadata": {
    "id": "l0VlkgKCqd-4"
   },
   "outputs": [
    {
     "data": {
      "text/html": [
       "<div>\n",
       "<style scoped>\n",
       "    .dataframe tbody tr th:only-of-type {\n",
       "        vertical-align: middle;\n",
       "    }\n",
       "\n",
       "    .dataframe tbody tr th {\n",
       "        vertical-align: top;\n",
       "    }\n",
       "\n",
       "    .dataframe thead th {\n",
       "        text-align: right;\n",
       "    }\n",
       "</style>\n",
       "<table border=\"1\" class=\"dataframe\">\n",
       "  <thead>\n",
       "    <tr style=\"text-align: right;\">\n",
       "      <th></th>\n",
       "      <th>tripduration</th>\n",
       "      <th>starttime</th>\n",
       "      <th>stoptime</th>\n",
       "      <th>start station id</th>\n",
       "      <th>start station name</th>\n",
       "      <th>start station latitude</th>\n",
       "      <th>start station longitude</th>\n",
       "      <th>end station id</th>\n",
       "      <th>end station name</th>\n",
       "      <th>end station latitude</th>\n",
       "      <th>end station longitude</th>\n",
       "      <th>bikeid</th>\n",
       "      <th>usertype</th>\n",
       "      <th>birth year</th>\n",
       "      <th>gender</th>\n",
       "      <th>start_day</th>\n",
       "      <th>start_day_again</th>\n",
       "      <th>is_weekend</th>\n",
       "      <th>start_moment</th>\n",
       "    </tr>\n",
       "  </thead>\n",
       "  <tbody>\n",
       "    <tr>\n",
       "      <th>295</th>\n",
       "      <td>355</td>\n",
       "      <td>2015-06-01 06:00:00</td>\n",
       "      <td>2015-06-01 06:06:00</td>\n",
       "      <td>484</td>\n",
       "      <td>W 44 St &amp; 5 Ave</td>\n",
       "      <td>40.755003</td>\n",
       "      <td>-73.980144</td>\n",
       "      <td>447</td>\n",
       "      <td>8 Ave &amp; W 52 St</td>\n",
       "      <td>40.763707</td>\n",
       "      <td>-73.985162</td>\n",
       "      <td>18178</td>\n",
       "      <td>Subscriber</td>\n",
       "      <td>1975.0</td>\n",
       "      <td>1</td>\n",
       "      <td>Monday</td>\n",
       "      <td>Monday</td>\n",
       "      <td>0</td>\n",
       "      <td>morning</td>\n",
       "    </tr>\n",
       "    <tr>\n",
       "      <th>296</th>\n",
       "      <td>525</td>\n",
       "      <td>2015-06-01 06:00:00</td>\n",
       "      <td>2015-06-01 06:08:00</td>\n",
       "      <td>300</td>\n",
       "      <td>Shevchenko Pl &amp; E 7 St</td>\n",
       "      <td>40.728145</td>\n",
       "      <td>-73.990214</td>\n",
       "      <td>402</td>\n",
       "      <td>Broadway &amp; E 22 St</td>\n",
       "      <td>40.740343</td>\n",
       "      <td>-73.989551</td>\n",
       "      <td>18167</td>\n",
       "      <td>Subscriber</td>\n",
       "      <td>1983.0</td>\n",
       "      <td>2</td>\n",
       "      <td>Monday</td>\n",
       "      <td>Monday</td>\n",
       "      <td>0</td>\n",
       "      <td>morning</td>\n",
       "    </tr>\n",
       "    <tr>\n",
       "      <th>297</th>\n",
       "      <td>405</td>\n",
       "      <td>2015-06-01 06:00:00</td>\n",
       "      <td>2015-06-01 06:07:00</td>\n",
       "      <td>271</td>\n",
       "      <td>Ashland Pl &amp; Hanson Pl</td>\n",
       "      <td>40.685282</td>\n",
       "      <td>-73.978058</td>\n",
       "      <td>242</td>\n",
       "      <td>Flushing Ave &amp; Carlton Ave</td>\n",
       "      <td>40.697883</td>\n",
       "      <td>-73.973503</td>\n",
       "      <td>20999</td>\n",
       "      <td>Subscriber</td>\n",
       "      <td>1965.0</td>\n",
       "      <td>1</td>\n",
       "      <td>Monday</td>\n",
       "      <td>Monday</td>\n",
       "      <td>0</td>\n",
       "      <td>morning</td>\n",
       "    </tr>\n",
       "    <tr>\n",
       "      <th>298</th>\n",
       "      <td>685</td>\n",
       "      <td>2015-06-01 06:00:00</td>\n",
       "      <td>2015-06-01 06:11:00</td>\n",
       "      <td>167</td>\n",
       "      <td>E 39 St &amp; 3 Ave</td>\n",
       "      <td>40.748901</td>\n",
       "      <td>-73.976049</td>\n",
       "      <td>489</td>\n",
       "      <td>10 Ave &amp; W 28 St</td>\n",
       "      <td>40.750664</td>\n",
       "      <td>-74.001768</td>\n",
       "      <td>18082</td>\n",
       "      <td>Subscriber</td>\n",
       "      <td>1992.0</td>\n",
       "      <td>1</td>\n",
       "      <td>Monday</td>\n",
       "      <td>Monday</td>\n",
       "      <td>0</td>\n",
       "      <td>morning</td>\n",
       "    </tr>\n",
       "    <tr>\n",
       "      <th>299</th>\n",
       "      <td>311</td>\n",
       "      <td>2015-06-01 06:00:00</td>\n",
       "      <td>2015-06-01 06:05:00</td>\n",
       "      <td>153</td>\n",
       "      <td>E 40 St &amp; 5 Ave</td>\n",
       "      <td>40.752062</td>\n",
       "      <td>-73.981632</td>\n",
       "      <td>359</td>\n",
       "      <td>E 47 St &amp; Park Ave</td>\n",
       "      <td>40.755103</td>\n",
       "      <td>-73.974987</td>\n",
       "      <td>19821</td>\n",
       "      <td>Subscriber</td>\n",
       "      <td>1960.0</td>\n",
       "      <td>2</td>\n",
       "      <td>Monday</td>\n",
       "      <td>Monday</td>\n",
       "      <td>0</td>\n",
       "      <td>morning</td>\n",
       "    </tr>\n",
       "  </tbody>\n",
       "</table>\n",
       "</div>"
      ],
      "text/plain": [
       "     tripduration           starttime            stoptime  start station id  \\\n",
       "295           355 2015-06-01 06:00:00 2015-06-01 06:06:00               484   \n",
       "296           525 2015-06-01 06:00:00 2015-06-01 06:08:00               300   \n",
       "297           405 2015-06-01 06:00:00 2015-06-01 06:07:00               271   \n",
       "298           685 2015-06-01 06:00:00 2015-06-01 06:11:00               167   \n",
       "299           311 2015-06-01 06:00:00 2015-06-01 06:05:00               153   \n",
       "\n",
       "         start station name  start station latitude  start station longitude  \\\n",
       "295         W 44 St & 5 Ave               40.755003               -73.980144   \n",
       "296  Shevchenko Pl & E 7 St               40.728145               -73.990214   \n",
       "297  Ashland Pl & Hanson Pl               40.685282               -73.978058   \n",
       "298         E 39 St & 3 Ave               40.748901               -73.976049   \n",
       "299         E 40 St & 5 Ave               40.752062               -73.981632   \n",
       "\n",
       "     end station id            end station name  end station latitude  \\\n",
       "295             447             8 Ave & W 52 St             40.763707   \n",
       "296             402          Broadway & E 22 St             40.740343   \n",
       "297             242  Flushing Ave & Carlton Ave             40.697883   \n",
       "298             489            10 Ave & W 28 St             40.750664   \n",
       "299             359          E 47 St & Park Ave             40.755103   \n",
       "\n",
       "     end station longitude  bikeid    usertype  birth year  gender start_day  \\\n",
       "295             -73.985162   18178  Subscriber      1975.0       1    Monday   \n",
       "296             -73.989551   18167  Subscriber      1983.0       2    Monday   \n",
       "297             -73.973503   20999  Subscriber      1965.0       1    Monday   \n",
       "298             -74.001768   18082  Subscriber      1992.0       1    Monday   \n",
       "299             -73.974987   19821  Subscriber      1960.0       2    Monday   \n",
       "\n",
       "    start_day_again  is_weekend start_moment  \n",
       "295          Monday           0      morning  \n",
       "296          Monday           0      morning  \n",
       "297          Monday           0      morning  \n",
       "298          Monday           0      morning  \n",
       "299          Monday           0      morning  "
      ]
     },
     "execution_count": 29,
     "metadata": {},
     "output_type": "execute_result"
    }
   ],
   "source": [
    "data[data['start_moment'] == 'morning'].head()"
   ]
  },
  {
   "cell_type": "markdown",
   "metadata": {
    "id": "7fwd99ntqd-5"
   },
   "source": [
    "### <font color='red'>2.3) Use <i>seaborn.countplot()</i> to plot the number of trips per moment of the day, with axes labels, and a title</font>"
   ]
  },
  {
   "cell_type": "code",
   "execution_count": 30,
   "metadata": {
    "id": "tPhZEvymqd-5",
    "jupyter": {
     "outputs_hidden": false
    }
   },
   "outputs": [
    {
     "data": {
      "text/plain": [
       "Text(0,0.5,'Number of Trips')"
      ]
     },
     "execution_count": 30,
     "metadata": {},
     "output_type": "execute_result"
    },
    {
     "data": {
      "image/png": "[encoded data removed]",
      "text/plain": [
       "<Figure size 432x288 with 1 Axes>"
      ]
     },
     "metadata": {
      "needs_background": "light"
     },
     "output_type": "display_data"
    }
   ],
   "source": [
    "g = sns.countplot(data.start_moment)\n",
    "for p in g.patches:\n",
    "    g.text(p.get_x()+0.2, p.get_height()+1, '%i' % p.get_height(), size = 10)\n",
    "g.set_xticklabels(g.xaxis.get_majorticklabels(), rotation=30)\n",
    "plt.title('Number of Trips by Time')\n",
    "plt.xlabel('Moment of Day')\n",
    "plt.ylabel('Number of Trips')"
   ]
  },
  {
   "cell_type": "markdown",
   "metadata": {
    "id": "D9DIbHaDqd-6"
   },
   "source": [
    "### <font color='red'>2.4) Use <i>seaborn.countplot()</i> to plot the number of trips per weekday and per time of day</font>"
   ]
  },
  {
   "cell_type": "code",
   "execution_count": 31,
   "metadata": {
    "id": "zj2phM9qqd-6",
    "jupyter": {
     "outputs_hidden": false
    }
   },
   "outputs": [
    {
     "data": {
      "text/plain": [
       "Text(0,0.5,'Number of Trips')"
      ]
     },
     "execution_count": 31,
     "metadata": {},
     "output_type": "execute_result"
    },
    {
     "data": {
      "image/png": "[encoded data removed]",
      "text/plain": [
       "<Figure size 1440x1080 with 1 Axes>"
      ]
     },
     "metadata": {
      "needs_background": "light"
     },
     "output_type": "display_data"
    }
   ],
   "source": [
    "plt.figure(figsize=[20,15])\n",
    "g = sns.countplot(data['start_day'], hue=data['start_moment'])\n",
    "for p in g.patches:\n",
    "    g.text(p.get_x()+0.0001, p.get_height()+1, '%i' % p.get_height(), size = 13)\n",
    "plt.title('Number of Trips by Time')\n",
    "plt.xlabel('Day')\n",
    "plt.ylabel('Number of Trips')"
   ]
  },
  {
   "cell_type": "markdown",
   "metadata": {
    "id": "bASoGU3Nqd-7"
   },
   "source": [
    "## 3) Is circle trip <font color='blue'> (5 min) </font>"
   ]
  },
  {
   "cell_type": "markdown",
   "metadata": {
    "id": "MXl11Vjnqd-7"
   },
   "source": [
    "### <font color='red'>3.1) Define a new binary column, with 1 if trip was loopy, 0 otherwise. You can use a boolean comparison of two columns of the dataframe:</font>\n",
    "\n",
    "- example of boolean condition : <b>data.column_1 == data.column_2</b>"
   ]
  },
  {
   "cell_type": "code",
   "execution_count": 32,
   "metadata": {
    "id": "tup_6Blbqd-7",
    "jupyter": {
     "outputs_hidden": false
    }
   },
   "outputs": [
    {
     "data": {
      "text/html": [
       "<div>\n",
       "<style scoped>\n",
       "    .dataframe tbody tr th:only-of-type {\n",
       "        vertical-align: middle;\n",
       "    }\n",
       "\n",
       "    .dataframe tbody tr th {\n",
       "        vertical-align: top;\n",
       "    }\n",
       "\n",
       "    .dataframe thead th {\n",
       "        text-align: right;\n",
       "    }\n",
       "</style>\n",
       "<table border=\"1\" class=\"dataframe\">\n",
       "  <thead>\n",
       "    <tr style=\"text-align: right;\">\n",
       "      <th></th>\n",
       "      <th>tripduration</th>\n",
       "      <th>starttime</th>\n",
       "      <th>stoptime</th>\n",
       "      <th>start station id</th>\n",
       "      <th>start station name</th>\n",
       "      <th>start station latitude</th>\n",
       "      <th>start station longitude</th>\n",
       "      <th>end station id</th>\n",
       "      <th>end station name</th>\n",
       "      <th>end station latitude</th>\n",
       "      <th>end station longitude</th>\n",
       "      <th>bikeid</th>\n",
       "      <th>usertype</th>\n",
       "      <th>birth year</th>\n",
       "      <th>gender</th>\n",
       "      <th>start_day</th>\n",
       "      <th>start_day_again</th>\n",
       "      <th>is_weekend</th>\n",
       "      <th>start_moment</th>\n",
       "    </tr>\n",
       "  </thead>\n",
       "  <tbody>\n",
       "    <tr>\n",
       "      <th>800923</th>\n",
       "      <td>239</td>\n",
       "      <td>2015-06-26 13:18:00</td>\n",
       "      <td>2015-06-26 13:22:00</td>\n",
       "      <td>394</td>\n",
       "      <td>E 9 St &amp; Avenue C</td>\n",
       "      <td>40.725213</td>\n",
       "      <td>-73.977688</td>\n",
       "      <td>511</td>\n",
       "      <td>E 14 St &amp; Avenue B</td>\n",
       "      <td>40.729387</td>\n",
       "      <td>-73.977724</td>\n",
       "      <td>17050</td>\n",
       "      <td>Subscriber</td>\n",
       "      <td>1979.0</td>\n",
       "      <td>2</td>\n",
       "      <td>Friday</td>\n",
       "      <td>Friday</td>\n",
       "      <td>0</td>\n",
       "      <td>afternoon</td>\n",
       "    </tr>\n",
       "    <tr>\n",
       "      <th>801614</th>\n",
       "      <td>1276</td>\n",
       "      <td>2015-06-26 13:38:00</td>\n",
       "      <td>2015-06-26 13:59:00</td>\n",
       "      <td>2012</td>\n",
       "      <td>E 27 St &amp; 1 Ave</td>\n",
       "      <td>40.739445</td>\n",
       "      <td>-73.976806</td>\n",
       "      <td>330</td>\n",
       "      <td>Reade St &amp; Broadway</td>\n",
       "      <td>40.714505</td>\n",
       "      <td>-74.005628</td>\n",
       "      <td>19354</td>\n",
       "      <td>Subscriber</td>\n",
       "      <td>1983.0</td>\n",
       "      <td>1</td>\n",
       "      <td>Friday</td>\n",
       "      <td>Friday</td>\n",
       "      <td>0</td>\n",
       "      <td>afternoon</td>\n",
       "    </tr>\n",
       "  </tbody>\n",
       "</table>\n",
       "</div>"
      ],
      "text/plain": [
       "        tripduration           starttime            stoptime  \\\n",
       "800923           239 2015-06-26 13:18:00 2015-06-26 13:22:00   \n",
       "801614          1276 2015-06-26 13:38:00 2015-06-26 13:59:00   \n",
       "\n",
       "        start station id start station name  start station latitude  \\\n",
       "800923               394  E 9 St & Avenue C               40.725213   \n",
       "801614              2012    E 27 St & 1 Ave               40.739445   \n",
       "\n",
       "        start station longitude  end station id     end station name  \\\n",
       "800923               -73.977688             511   E 14 St & Avenue B   \n",
       "801614               -73.976806             330  Reade St & Broadway   \n",
       "\n",
       "        end station latitude  end station longitude  bikeid    usertype  \\\n",
       "800923             40.729387             -73.977724   17050  Subscriber   \n",
       "801614             40.714505             -74.005628   19354  Subscriber   \n",
       "\n",
       "        birth year  gender start_day start_day_again  is_weekend start_moment  \n",
       "800923      1979.0       2    Friday          Friday           0    afternoon  \n",
       "801614      1983.0       1    Friday          Friday           0    afternoon  "
      ]
     },
     "execution_count": 32,
     "metadata": {},
     "output_type": "execute_result"
    }
   ],
   "source": [
    "data.sample(2)"
   ]
  },
  {
   "cell_type": "code",
   "execution_count": 33,
   "metadata": {
    "id": "-w4vodfkqd-7",
    "jupyter": {
     "outputs_hidden": false
    }
   },
   "outputs": [],
   "source": [
    "data['is_circle_trip'] = data.apply(lambda x: 1 if x['start station id'] == x['end station id'] else 0, axis = 1)\n",
    "# pada saat kita harus menulis fungsi lambda, kita butuh dua kolom berbeda. sehingga untuk mewakili x, tidak bisa pakai satu\n",
    "# kolom itu saja, jadinya harus pakai satu dataframe\n",
    "#data['is_circle_trip'] = data['start station id'] == data['end station id']\n",
    "#### USE A COMPARISON OF TWO COLUMNS OF THE DATAFRAME TO CHECK FOR A LOOP ####"
   ]
  },
  {
   "cell_type": "code",
   "execution_count": 34,
   "metadata": {},
   "outputs": [
    {
     "data": {
      "text/html": [
       "<div>\n",
       "<style scoped>\n",
       "    .dataframe tbody tr th:only-of-type {\n",
       "        vertical-align: middle;\n",
       "    }\n",
       "\n",
       "    .dataframe tbody tr th {\n",
       "        vertical-align: top;\n",
       "    }\n",
       "\n",
       "    .dataframe thead th {\n",
       "        text-align: right;\n",
       "    }\n",
       "</style>\n",
       "<table border=\"1\" class=\"dataframe\">\n",
       "  <thead>\n",
       "    <tr style=\"text-align: right;\">\n",
       "      <th></th>\n",
       "      <th>start station name</th>\n",
       "      <th>end station name</th>\n",
       "      <th>is_circle_trip</th>\n",
       "    </tr>\n",
       "  </thead>\n",
       "  <tbody>\n",
       "    <tr>\n",
       "      <th>401575</th>\n",
       "      <td>Willoughby Ave &amp; Hall St</td>\n",
       "      <td>Fulton St &amp; Grand Ave</td>\n",
       "      <td>0</td>\n",
       "    </tr>\n",
       "    <tr>\n",
       "      <th>509639</th>\n",
       "      <td>Broadway &amp; W 49 St</td>\n",
       "      <td>E 39 St &amp; 2 Ave</td>\n",
       "      <td>0</td>\n",
       "    </tr>\n",
       "    <tr>\n",
       "      <th>775323</th>\n",
       "      <td>West Thames St</td>\n",
       "      <td>South End Ave &amp; Liberty St</td>\n",
       "      <td>0</td>\n",
       "    </tr>\n",
       "  </tbody>\n",
       "</table>\n",
       "</div>"
      ],
      "text/plain": [
       "              start station name            end station name  is_circle_trip\n",
       "401575  Willoughby Ave & Hall St       Fulton St & Grand Ave               0\n",
       "509639        Broadway & W 49 St             E 39 St & 2 Ave               0\n",
       "775323            West Thames St  South End Ave & Liberty St               0"
      ]
     },
     "execution_count": 34,
     "metadata": {},
     "output_type": "execute_result"
    }
   ],
   "source": [
    "data[['start station name', 'end station name', 'is_circle_trip']].sample(3)"
   ]
  },
  {
   "cell_type": "code",
   "execution_count": 35,
   "metadata": {
    "id": "1paCvfinqd-8"
   },
   "outputs": [
    {
     "data": {
      "text/html": [
       "<div>\n",
       "<style scoped>\n",
       "    .dataframe tbody tr th:only-of-type {\n",
       "        vertical-align: middle;\n",
       "    }\n",
       "\n",
       "    .dataframe tbody tr th {\n",
       "        vertical-align: top;\n",
       "    }\n",
       "\n",
       "    .dataframe thead th {\n",
       "        text-align: right;\n",
       "    }\n",
       "</style>\n",
       "<table border=\"1\" class=\"dataframe\">\n",
       "  <thead>\n",
       "    <tr style=\"text-align: right;\">\n",
       "      <th></th>\n",
       "      <th>tripduration</th>\n",
       "      <th>starttime</th>\n",
       "      <th>stoptime</th>\n",
       "      <th>start station id</th>\n",
       "      <th>start station name</th>\n",
       "      <th>start station latitude</th>\n",
       "      <th>start station longitude</th>\n",
       "      <th>end station id</th>\n",
       "      <th>end station name</th>\n",
       "      <th>end station latitude</th>\n",
       "      <th>end station longitude</th>\n",
       "      <th>bikeid</th>\n",
       "      <th>usertype</th>\n",
       "      <th>birth year</th>\n",
       "      <th>gender</th>\n",
       "      <th>start_day</th>\n",
       "      <th>start_day_again</th>\n",
       "      <th>is_weekend</th>\n",
       "      <th>start_moment</th>\n",
       "      <th>is_circle_trip</th>\n",
       "    </tr>\n",
       "  </thead>\n",
       "  <tbody>\n",
       "    <tr>\n",
       "      <th>270467</th>\n",
       "      <td>681</td>\n",
       "      <td>2015-06-10 15:42:00</td>\n",
       "      <td>2015-06-10 15:54:00</td>\n",
       "      <td>174</td>\n",
       "      <td>E 25 St &amp; 1 Ave</td>\n",
       "      <td>40.738177</td>\n",
       "      <td>-73.977387</td>\n",
       "      <td>402</td>\n",
       "      <td>Broadway &amp; E 22 St</td>\n",
       "      <td>40.740343</td>\n",
       "      <td>-73.989551</td>\n",
       "      <td>16287</td>\n",
       "      <td>Subscriber</td>\n",
       "      <td>1983.0</td>\n",
       "      <td>2</td>\n",
       "      <td>Wednesday</td>\n",
       "      <td>Wednesday</td>\n",
       "      <td>0</td>\n",
       "      <td>afternoon</td>\n",
       "      <td>0</td>\n",
       "    </tr>\n",
       "    <tr>\n",
       "      <th>821103</th>\n",
       "      <td>1688</td>\n",
       "      <td>2015-06-26 20:59:00</td>\n",
       "      <td>2015-06-26 21:27:00</td>\n",
       "      <td>331</td>\n",
       "      <td>Pike St &amp; Monroe St</td>\n",
       "      <td>40.711731</td>\n",
       "      <td>-73.991930</td>\n",
       "      <td>331</td>\n",
       "      <td>Pike St &amp; Monroe St</td>\n",
       "      <td>40.711731</td>\n",
       "      <td>-73.991930</td>\n",
       "      <td>22189</td>\n",
       "      <td>Subscriber</td>\n",
       "      <td>1962.0</td>\n",
       "      <td>1</td>\n",
       "      <td>Friday</td>\n",
       "      <td>Friday</td>\n",
       "      <td>0</td>\n",
       "      <td>evening</td>\n",
       "      <td>1</td>\n",
       "    </tr>\n",
       "  </tbody>\n",
       "</table>\n",
       "</div>"
      ],
      "text/plain": [
       "        tripduration           starttime            stoptime  \\\n",
       "270467           681 2015-06-10 15:42:00 2015-06-10 15:54:00   \n",
       "821103          1688 2015-06-26 20:59:00 2015-06-26 21:27:00   \n",
       "\n",
       "        start station id   start station name  start station latitude  \\\n",
       "270467               174      E 25 St & 1 Ave               40.738177   \n",
       "821103               331  Pike St & Monroe St               40.711731   \n",
       "\n",
       "        start station longitude  end station id     end station name  \\\n",
       "270467               -73.977387             402   Broadway & E 22 St   \n",
       "821103               -73.991930             331  Pike St & Monroe St   \n",
       "\n",
       "        end station latitude  end station longitude  bikeid    usertype  \\\n",
       "270467             40.740343             -73.989551   16287  Subscriber   \n",
       "821103             40.711731             -73.991930   22189  Subscriber   \n",
       "\n",
       "        birth year  gender  start_day start_day_again  is_weekend  \\\n",
       "270467      1983.0       2  Wednesday       Wednesday           0   \n",
       "821103      1962.0       1     Friday          Friday           0   \n",
       "\n",
       "       start_moment  is_circle_trip  \n",
       "270467    afternoon               0  \n",
       "821103      evening               1  "
      ]
     },
     "execution_count": 35,
     "metadata": {},
     "output_type": "execute_result"
    }
   ],
   "source": [
    "pd.set_option('display.max_columns', None)\n",
    "data.sample(2)"
   ]
  },
  {
   "cell_type": "markdown",
   "metadata": {
    "id": "I9cRKV4Bqd-8"
   },
   "source": [
    "### <font color='red'>3.2) Print the proportion of circle trips in the dataset</font>"
   ]
  },
  {
   "cell_type": "code",
   "execution_count": 36,
   "metadata": {
    "id": "CrJ1Ehm0qd-8",
    "jupyter": {
     "outputs_hidden": false
    }
   },
   "outputs": [
    {
     "data": {
      "text/plain": [
       "0.0217509800819977"
      ]
     },
     "execution_count": 36,
     "metadata": {},
     "output_type": "execute_result"
    }
   ],
   "source": [
    "data['is_circle_trip'].sum()/data['is_circle_trip'].count()"
   ]
  },
  {
   "cell_type": "markdown",
   "metadata": {
    "id": "sZ8q0SlBqd-9"
   },
   "source": [
    "## 4) Understanding trip evolution in June <font color='blue'> (15 min) </font>"
   ]
  },
  {
   "cell_type": "markdown",
   "metadata": {
    "id": "2ELJcF78qd-9"
   },
   "source": [
    "### <font color='red'>4.1) Add a new column with the trip day number. Since all trips in the dataset occured in June, we will name this column \"june_day\". You can use the <i>datetime.day</i> attribute of the starttime</font>"
   ]
  },
  {
   "cell_type": "code",
   "execution_count": 37,
   "metadata": {
    "id": "yoEcCYO1qd-9",
    "jupyter": {
     "outputs_hidden": false
    }
   },
   "outputs": [],
   "source": [
    "data['june_day'] = data['starttime'].apply(lambda x: x.day)\n",
    "#### ADD A NEW FEATURE: THE DAY IN JUNE ####\n",
    "                    #### HINT : use data.starttime.apply(your_lambda_function) #####"
   ]
  },
  {
   "cell_type": "code",
   "execution_count": 38,
   "metadata": {
    "id": "5okP74j2qd-9"
   },
   "outputs": [
    {
     "data": {
      "text/html": [
       "<div>\n",
       "<style scoped>\n",
       "    .dataframe tbody tr th:only-of-type {\n",
       "        vertical-align: middle;\n",
       "    }\n",
       "\n",
       "    .dataframe tbody tr th {\n",
       "        vertical-align: top;\n",
       "    }\n",
       "\n",
       "    .dataframe thead th {\n",
       "        text-align: right;\n",
       "    }\n",
       "</style>\n",
       "<table border=\"1\" class=\"dataframe\">\n",
       "  <thead>\n",
       "    <tr style=\"text-align: right;\">\n",
       "      <th></th>\n",
       "      <th>june_day</th>\n",
       "      <th>starttime</th>\n",
       "    </tr>\n",
       "  </thead>\n",
       "  <tbody>\n",
       "    <tr>\n",
       "      <th>191400</th>\n",
       "      <td>8</td>\n",
       "      <td>2015-06-08 10:46:00</td>\n",
       "    </tr>\n",
       "    <tr>\n",
       "      <th>595502</th>\n",
       "      <td>20</td>\n",
       "      <td>2015-06-20 13:12:00</td>\n",
       "    </tr>\n",
       "  </tbody>\n",
       "</table>\n",
       "</div>"
      ],
      "text/plain": [
       "        june_day           starttime\n",
       "191400         8 2015-06-08 10:46:00\n",
       "595502        20 2015-06-20 13:12:00"
      ]
     },
     "execution_count": 38,
     "metadata": {},
     "output_type": "execute_result"
    }
   ],
   "source": [
    "data[['june_day', 'starttime']].sample(2)"
   ]
  },
  {
   "cell_type": "markdown",
   "metadata": {
    "id": "moPgYd0vqd--"
   },
   "source": [
    "### <font color='red'>4.2) Group by the columns with respect to day in June, using <i>data.groupby()</i></font>"
   ]
  },
  {
   "cell_type": "code",
   "execution_count": 39,
   "metadata": {
    "id": "YF4bCbLJqd--",
    "jupyter": {
     "outputs_hidden": false
    }
   },
   "outputs": [],
   "source": [
    "grouped_by_data = data.groupby(data['june_day'], as_index = False)"
   ]
  },
  {
   "cell_type": "code",
   "execution_count": 40,
   "metadata": {},
   "outputs": [
    {
     "data": {
      "text/html": [
       "<div>\n",
       "<style scoped>\n",
       "    .dataframe tbody tr th:only-of-type {\n",
       "        vertical-align: middle;\n",
       "    }\n",
       "\n",
       "    .dataframe tbody tr th {\n",
       "        vertical-align: top;\n",
       "    }\n",
       "\n",
       "    .dataframe thead th {\n",
       "        text-align: right;\n",
       "    }\n",
       "</style>\n",
       "<table border=\"1\" class=\"dataframe\">\n",
       "  <thead>\n",
       "    <tr style=\"text-align: right;\">\n",
       "      <th></th>\n",
       "      <th>tripduration</th>\n",
       "      <th>starttime</th>\n",
       "      <th>stoptime</th>\n",
       "      <th>start station id</th>\n",
       "      <th>start station name</th>\n",
       "      <th>start station latitude</th>\n",
       "      <th>start station longitude</th>\n",
       "      <th>end station id</th>\n",
       "      <th>end station name</th>\n",
       "      <th>end station latitude</th>\n",
       "      <th>end station longitude</th>\n",
       "      <th>bikeid</th>\n",
       "      <th>usertype</th>\n",
       "      <th>birth year</th>\n",
       "      <th>gender</th>\n",
       "      <th>start_day</th>\n",
       "      <th>start_day_again</th>\n",
       "      <th>is_weekend</th>\n",
       "      <th>start_moment</th>\n",
       "      <th>is_circle_trip</th>\n",
       "      <th>june_day</th>\n",
       "    </tr>\n",
       "  </thead>\n",
       "  <tbody>\n",
       "    <tr>\n",
       "      <th>0</th>\n",
       "      <td>1338</td>\n",
       "      <td>2015-06-01 00:00:00</td>\n",
       "      <td>2015-06-01 00:22:00</td>\n",
       "      <td>128</td>\n",
       "      <td>MacDougal St &amp; Prince St</td>\n",
       "      <td>40.727103</td>\n",
       "      <td>-74.002971</td>\n",
       "      <td>2021</td>\n",
       "      <td>W 45 St &amp; 8 Ave</td>\n",
       "      <td>40.759291</td>\n",
       "      <td>-73.988597</td>\n",
       "      <td>20721</td>\n",
       "      <td>Subscriber</td>\n",
       "      <td>1984.0</td>\n",
       "      <td>1</td>\n",
       "      <td>Monday</td>\n",
       "      <td>Monday</td>\n",
       "      <td>0</td>\n",
       "      <td>night</td>\n",
       "      <td>0</td>\n",
       "      <td>1</td>\n",
       "    </tr>\n",
       "    <tr>\n",
       "      <th>1</th>\n",
       "      <td>290</td>\n",
       "      <td>2015-06-01 00:00:00</td>\n",
       "      <td>2015-06-01 00:05:00</td>\n",
       "      <td>438</td>\n",
       "      <td>St Marks Pl &amp; 1 Ave</td>\n",
       "      <td>40.727791</td>\n",
       "      <td>-73.985649</td>\n",
       "      <td>312</td>\n",
       "      <td>Allen St &amp; E Houston St</td>\n",
       "      <td>40.722055</td>\n",
       "      <td>-73.989111</td>\n",
       "      <td>21606</td>\n",
       "      <td>Subscriber</td>\n",
       "      <td>1997.0</td>\n",
       "      <td>1</td>\n",
       "      <td>Monday</td>\n",
       "      <td>Monday</td>\n",
       "      <td>0</td>\n",
       "      <td>night</td>\n",
       "      <td>0</td>\n",
       "      <td>1</td>\n",
       "    </tr>\n",
       "    <tr>\n",
       "      <th>2</th>\n",
       "      <td>634</td>\n",
       "      <td>2015-06-01 00:01:00</td>\n",
       "      <td>2015-06-01 00:11:00</td>\n",
       "      <td>383</td>\n",
       "      <td>Greenwich Ave &amp; Charles St</td>\n",
       "      <td>40.735238</td>\n",
       "      <td>-74.000271</td>\n",
       "      <td>388</td>\n",
       "      <td>W 26 St &amp; 10 Ave</td>\n",
       "      <td>40.749718</td>\n",
       "      <td>-74.002950</td>\n",
       "      <td>16595</td>\n",
       "      <td>Subscriber</td>\n",
       "      <td>1993.0</td>\n",
       "      <td>1</td>\n",
       "      <td>Monday</td>\n",
       "      <td>Monday</td>\n",
       "      <td>0</td>\n",
       "      <td>night</td>\n",
       "      <td>0</td>\n",
       "      <td>1</td>\n",
       "    </tr>\n",
       "    <tr>\n",
       "      <th>3</th>\n",
       "      <td>159</td>\n",
       "      <td>2015-06-01 00:01:00</td>\n",
       "      <td>2015-06-01 00:04:00</td>\n",
       "      <td>361</td>\n",
       "      <td>Allen St &amp; Hester St</td>\n",
       "      <td>40.716059</td>\n",
       "      <td>-73.991908</td>\n",
       "      <td>531</td>\n",
       "      <td>Forsyth St &amp; Broome St</td>\n",
       "      <td>40.718939</td>\n",
       "      <td>-73.992663</td>\n",
       "      <td>16949</td>\n",
       "      <td>Subscriber</td>\n",
       "      <td>1981.0</td>\n",
       "      <td>1</td>\n",
       "      <td>Monday</td>\n",
       "      <td>Monday</td>\n",
       "      <td>0</td>\n",
       "      <td>night</td>\n",
       "      <td>0</td>\n",
       "      <td>1</td>\n",
       "    </tr>\n",
       "    <tr>\n",
       "      <th>4</th>\n",
       "      <td>1233</td>\n",
       "      <td>2015-06-01 00:02:00</td>\n",
       "      <td>2015-06-01 00:22:00</td>\n",
       "      <td>382</td>\n",
       "      <td>University Pl &amp; E 14 St</td>\n",
       "      <td>40.734927</td>\n",
       "      <td>-73.992005</td>\n",
       "      <td>532</td>\n",
       "      <td>S 5 Pl &amp; S 4 St</td>\n",
       "      <td>40.710451</td>\n",
       "      <td>-73.960876</td>\n",
       "      <td>17028</td>\n",
       "      <td>Customer</td>\n",
       "      <td>1979.0</td>\n",
       "      <td>0</td>\n",
       "      <td>Monday</td>\n",
       "      <td>Monday</td>\n",
       "      <td>0</td>\n",
       "      <td>night</td>\n",
       "      <td>0</td>\n",
       "      <td>1</td>\n",
       "    </tr>\n",
       "    <tr>\n",
       "      <th>...</th>\n",
       "      <td>...</td>\n",
       "      <td>...</td>\n",
       "      <td>...</td>\n",
       "      <td>...</td>\n",
       "      <td>...</td>\n",
       "      <td>...</td>\n",
       "      <td>...</td>\n",
       "      <td>...</td>\n",
       "      <td>...</td>\n",
       "      <td>...</td>\n",
       "      <td>...</td>\n",
       "      <td>...</td>\n",
       "      <td>...</td>\n",
       "      <td>...</td>\n",
       "      <td>...</td>\n",
       "      <td>...</td>\n",
       "      <td>...</td>\n",
       "      <td>...</td>\n",
       "      <td>...</td>\n",
       "      <td>...</td>\n",
       "      <td>...</td>\n",
       "    </tr>\n",
       "    <tr>\n",
       "      <th>897731</th>\n",
       "      <td>276</td>\n",
       "      <td>2015-06-30 00:00:00</td>\n",
       "      <td>2015-06-30 00:05:00</td>\n",
       "      <td>326</td>\n",
       "      <td>E 11 St &amp; 1 Ave</td>\n",
       "      <td>40.729538</td>\n",
       "      <td>-73.984267</td>\n",
       "      <td>403</td>\n",
       "      <td>E 2 St &amp; 2 Ave</td>\n",
       "      <td>40.725029</td>\n",
       "      <td>-73.990697</td>\n",
       "      <td>21527</td>\n",
       "      <td>Subscriber</td>\n",
       "      <td>1993.0</td>\n",
       "      <td>2</td>\n",
       "      <td>Tuesday</td>\n",
       "      <td>Tuesday</td>\n",
       "      <td>0</td>\n",
       "      <td>night</td>\n",
       "      <td>0</td>\n",
       "      <td>30</td>\n",
       "    </tr>\n",
       "    <tr>\n",
       "      <th>897732</th>\n",
       "      <td>391</td>\n",
       "      <td>2015-06-30 00:00:00</td>\n",
       "      <td>2015-06-30 00:07:00</td>\n",
       "      <td>325</td>\n",
       "      <td>E 19 St &amp; 3 Ave</td>\n",
       "      <td>40.736245</td>\n",
       "      <td>-73.984738</td>\n",
       "      <td>440</td>\n",
       "      <td>E 45 St &amp; 3 Ave</td>\n",
       "      <td>40.752554</td>\n",
       "      <td>-73.972826</td>\n",
       "      <td>17841</td>\n",
       "      <td>Subscriber</td>\n",
       "      <td>1976.0</td>\n",
       "      <td>1</td>\n",
       "      <td>Tuesday</td>\n",
       "      <td>Tuesday</td>\n",
       "      <td>0</td>\n",
       "      <td>night</td>\n",
       "      <td>0</td>\n",
       "      <td>30</td>\n",
       "    </tr>\n",
       "    <tr>\n",
       "      <th>897733</th>\n",
       "      <td>546</td>\n",
       "      <td>2015-06-30 00:01:00</td>\n",
       "      <td>2015-06-30 00:10:00</td>\n",
       "      <td>368</td>\n",
       "      <td>Carmine St &amp; 6 Ave</td>\n",
       "      <td>40.730386</td>\n",
       "      <td>-74.002150</td>\n",
       "      <td>438</td>\n",
       "      <td>St Marks Pl &amp; 1 Ave</td>\n",
       "      <td>40.727791</td>\n",
       "      <td>-73.985649</td>\n",
       "      <td>17563</td>\n",
       "      <td>Subscriber</td>\n",
       "      <td>1970.0</td>\n",
       "      <td>1</td>\n",
       "      <td>Tuesday</td>\n",
       "      <td>Tuesday</td>\n",
       "      <td>0</td>\n",
       "      <td>night</td>\n",
       "      <td>0</td>\n",
       "      <td>30</td>\n",
       "    </tr>\n",
       "    <tr>\n",
       "      <th>897734</th>\n",
       "      <td>495</td>\n",
       "      <td>2015-06-30 00:01:00</td>\n",
       "      <td>2015-06-30 00:09:00</td>\n",
       "      <td>294</td>\n",
       "      <td>Washington Square E</td>\n",
       "      <td>40.730494</td>\n",
       "      <td>-73.995721</td>\n",
       "      <td>474</td>\n",
       "      <td>5 Ave &amp; E 29 St</td>\n",
       "      <td>40.745168</td>\n",
       "      <td>-73.986831</td>\n",
       "      <td>18086</td>\n",
       "      <td>Subscriber</td>\n",
       "      <td>1987.0</td>\n",
       "      <td>1</td>\n",
       "      <td>Tuesday</td>\n",
       "      <td>Tuesday</td>\n",
       "      <td>0</td>\n",
       "      <td>night</td>\n",
       "      <td>0</td>\n",
       "      <td>30</td>\n",
       "    </tr>\n",
       "    <tr>\n",
       "      <th>897735</th>\n",
       "      <td>1814</td>\n",
       "      <td>2015-06-30 00:01:00</td>\n",
       "      <td>2015-06-30 00:31:00</td>\n",
       "      <td>328</td>\n",
       "      <td>Watts St &amp; Greenwich St</td>\n",
       "      <td>40.724055</td>\n",
       "      <td>-74.009660</td>\n",
       "      <td>83</td>\n",
       "      <td>Atlantic Ave &amp; Fort Greene Pl</td>\n",
       "      <td>40.683826</td>\n",
       "      <td>-73.976323</td>\n",
       "      <td>16975</td>\n",
       "      <td>Subscriber</td>\n",
       "      <td>1965.0</td>\n",
       "      <td>2</td>\n",
       "      <td>Tuesday</td>\n",
       "      <td>Tuesday</td>\n",
       "      <td>0</td>\n",
       "      <td>night</td>\n",
       "      <td>0</td>\n",
       "      <td>30</td>\n",
       "    </tr>\n",
       "  </tbody>\n",
       "</table>\n",
       "<p>300 rows × 21 columns</p>\n",
       "</div>"
      ],
      "text/plain": [
       "        tripduration           starttime            stoptime  \\\n",
       "0               1338 2015-06-01 00:00:00 2015-06-01 00:22:00   \n",
       "1                290 2015-06-01 00:00:00 2015-06-01 00:05:00   \n",
       "2                634 2015-06-01 00:01:00 2015-06-01 00:11:00   \n",
       "3                159 2015-06-01 00:01:00 2015-06-01 00:04:00   \n",
       "4               1233 2015-06-01 00:02:00 2015-06-01 00:22:00   \n",
       "...              ...                 ...                 ...   \n",
       "897731           276 2015-06-30 00:00:00 2015-06-30 00:05:00   \n",
       "897732           391 2015-06-30 00:00:00 2015-06-30 00:07:00   \n",
       "897733           546 2015-06-30 00:01:00 2015-06-30 00:10:00   \n",
       "897734           495 2015-06-30 00:01:00 2015-06-30 00:09:00   \n",
       "897735          1814 2015-06-30 00:01:00 2015-06-30 00:31:00   \n",
       "\n",
       "        start station id          start station name  start station latitude  \\\n",
       "0                    128    MacDougal St & Prince St               40.727103   \n",
       "1                    438         St Marks Pl & 1 Ave               40.727791   \n",
       "2                    383  Greenwich Ave & Charles St               40.735238   \n",
       "3                    361        Allen St & Hester St               40.716059   \n",
       "4                    382     University Pl & E 14 St               40.734927   \n",
       "...                  ...                         ...                     ...   \n",
       "897731               326             E 11 St & 1 Ave               40.729538   \n",
       "897732               325             E 19 St & 3 Ave               40.736245   \n",
       "897733               368          Carmine St & 6 Ave               40.730386   \n",
       "897734               294         Washington Square E               40.730494   \n",
       "897735               328     Watts St & Greenwich St               40.724055   \n",
       "\n",
       "        start station longitude  end station id  \\\n",
       "0                    -74.002971            2021   \n",
       "1                    -73.985649             312   \n",
       "2                    -74.000271             388   \n",
       "3                    -73.991908             531   \n",
       "4                    -73.992005             532   \n",
       "...                         ...             ...   \n",
       "897731               -73.984267             403   \n",
       "897732               -73.984738             440   \n",
       "897733               -74.002150             438   \n",
       "897734               -73.995721             474   \n",
       "897735               -74.009660              83   \n",
       "\n",
       "                     end station name  end station latitude  \\\n",
       "0                     W 45 St & 8 Ave             40.759291   \n",
       "1             Allen St & E Houston St             40.722055   \n",
       "2                    W 26 St & 10 Ave             40.749718   \n",
       "3              Forsyth St & Broome St             40.718939   \n",
       "4                     S 5 Pl & S 4 St             40.710451   \n",
       "...                               ...                   ...   \n",
       "897731                 E 2 St & 2 Ave             40.725029   \n",
       "897732                E 45 St & 3 Ave             40.752554   \n",
       "897733            St Marks Pl & 1 Ave             40.727791   \n",
       "897734                5 Ave & E 29 St             40.745168   \n",
       "897735  Atlantic Ave & Fort Greene Pl             40.683826   \n",
       "\n",
       "        end station longitude  bikeid    usertype  birth year  gender  \\\n",
       "0                  -73.988597   20721  Subscriber      1984.0       1   \n",
       "1                  -73.989111   21606  Subscriber      1997.0       1   \n",
       "2                  -74.002950   16595  Subscriber      1993.0       1   \n",
       "3                  -73.992663   16949  Subscriber      1981.0       1   \n",
       "4                  -73.960876   17028    Customer      1979.0       0   \n",
       "...                       ...     ...         ...         ...     ...   \n",
       "897731             -73.990697   21527  Subscriber      1993.0       2   \n",
       "897732             -73.972826   17841  Subscriber      1976.0       1   \n",
       "897733             -73.985649   17563  Subscriber      1970.0       1   \n",
       "897734             -73.986831   18086  Subscriber      1987.0       1   \n",
       "897735             -73.976323   16975  Subscriber      1965.0       2   \n",
       "\n",
       "       start_day start_day_again  is_weekend start_moment  is_circle_trip  \\\n",
       "0         Monday          Monday           0        night               0   \n",
       "1         Monday          Monday           0        night               0   \n",
       "2         Monday          Monday           0        night               0   \n",
       "3         Monday          Monday           0        night               0   \n",
       "4         Monday          Monday           0        night               0   \n",
       "...          ...             ...         ...          ...             ...   \n",
       "897731   Tuesday         Tuesday           0        night               0   \n",
       "897732   Tuesday         Tuesday           0        night               0   \n",
       "897733   Tuesday         Tuesday           0        night               0   \n",
       "897734   Tuesday         Tuesday           0        night               0   \n",
       "897735   Tuesday         Tuesday           0        night               0   \n",
       "\n",
       "        june_day  \n",
       "0              1  \n",
       "1              1  \n",
       "2              1  \n",
       "3              1  \n",
       "4              1  \n",
       "...          ...  \n",
       "897731        30  \n",
       "897732        30  \n",
       "897733        30  \n",
       "897734        30  \n",
       "897735        30  \n",
       "\n",
       "[300 rows x 21 columns]"
      ]
     },
     "execution_count": 40,
     "metadata": {},
     "output_type": "execute_result"
    }
   ],
   "source": [
    "grouped_by_data.head(10)"
   ]
  },
  {
   "cell_type": "code",
   "execution_count": 41,
   "metadata": {
    "scrolled": true
   },
   "outputs": [
    {
     "data": {
      "text/html": [
       "<div>\n",
       "<style scoped>\n",
       "    .dataframe tbody tr th:only-of-type {\n",
       "        vertical-align: middle;\n",
       "    }\n",
       "\n",
       "    .dataframe tbody tr th {\n",
       "        vertical-align: top;\n",
       "    }\n",
       "\n",
       "    .dataframe thead th {\n",
       "        text-align: right;\n",
       "    }\n",
       "</style>\n",
       "<table border=\"1\" class=\"dataframe\">\n",
       "  <thead>\n",
       "    <tr style=\"text-align: right;\">\n",
       "      <th></th>\n",
       "      <th>june_day</th>\n",
       "      <th>numberoftrips</th>\n",
       "      <th>uniqueStartstationid</th>\n",
       "    </tr>\n",
       "  </thead>\n",
       "  <tbody>\n",
       "    <tr>\n",
       "      <th>0</th>\n",
       "      <td>1</td>\n",
       "      <td>15256</td>\n",
       "      <td>318</td>\n",
       "    </tr>\n",
       "    <tr>\n",
       "      <th>1</th>\n",
       "      <td>2</td>\n",
       "      <td>11962</td>\n",
       "      <td>318</td>\n",
       "    </tr>\n",
       "    <tr>\n",
       "      <th>2</th>\n",
       "      <td>3</td>\n",
       "      <td>34422</td>\n",
       "      <td>319</td>\n",
       "    </tr>\n",
       "    <tr>\n",
       "      <th>3</th>\n",
       "      <td>4</td>\n",
       "      <td>32659</td>\n",
       "      <td>319</td>\n",
       "    </tr>\n",
       "    <tr>\n",
       "      <th>4</th>\n",
       "      <td>5</td>\n",
       "      <td>31186</td>\n",
       "      <td>319</td>\n",
       "    </tr>\n",
       "  </tbody>\n",
       "</table>\n",
       "</div>"
      ],
      "text/plain": [
       "   june_day  numberoftrips  uniqueStartstationid\n",
       "0         1          15256                   318\n",
       "1         2          11962                   318\n",
       "2         3          34422                   319\n",
       "3         4          32659                   319\n",
       "4         5          31186                   319"
      ]
     },
     "execution_count": 41,
     "metadata": {},
     "output_type": "execute_result"
    }
   ],
   "source": [
    "#### GROUP THE DATA BY JUNE DAY ####\n",
    "df = grouped_by_data.aggregate({'tripduration': pd.Series.count, 'start station id': pd.Series.nunique})\n",
    "df.columns = ['june_day', 'numberoftrips', 'uniqueStartstationid']\n",
    "df.head()"
   ]
  },
  {
   "cell_type": "markdown",
   "metadata": {
    "id": "0nYk2BVmqd--"
   },
   "source": [
    "### <font color='red'>4.3) Aggregate the grouped by data with respect to mean weekend, and number of trips, using the <i>.count()</i> and <i>.mean()</i> methods of <i>data.groupby()</i></font>"
   ]
  },
  {
   "cell_type": "code",
   "execution_count": 42,
   "metadata": {
    "id": "GGvE3gETqd-_"
   },
   "outputs": [],
   "source": [
    "aggregate_count_trips = grouped_by_data.count()\n",
    "aggregate_weekend = grouped_by_data.mean()"
   ]
  },
  {
   "cell_type": "code",
   "execution_count": 43,
   "metadata": {
    "id": "OpeBQD5cqd-_"
   },
   "outputs": [
    {
     "data": {
      "text/html": [
       "<div>\n",
       "<style scoped>\n",
       "    .dataframe tbody tr th:only-of-type {\n",
       "        vertical-align: middle;\n",
       "    }\n",
       "\n",
       "    .dataframe tbody tr th {\n",
       "        vertical-align: top;\n",
       "    }\n",
       "\n",
       "    .dataframe thead th {\n",
       "        text-align: right;\n",
       "    }\n",
       "</style>\n",
       "<table border=\"1\" class=\"dataframe\">\n",
       "  <thead>\n",
       "    <tr style=\"text-align: right;\">\n",
       "      <th></th>\n",
       "      <th>june_day</th>\n",
       "      <th>tripduration</th>\n",
       "      <th>starttime</th>\n",
       "      <th>stoptime</th>\n",
       "      <th>start station id</th>\n",
       "      <th>start station name</th>\n",
       "      <th>start station latitude</th>\n",
       "      <th>start station longitude</th>\n",
       "      <th>end station id</th>\n",
       "      <th>end station name</th>\n",
       "      <th>end station latitude</th>\n",
       "      <th>end station longitude</th>\n",
       "      <th>bikeid</th>\n",
       "      <th>usertype</th>\n",
       "      <th>birth year</th>\n",
       "      <th>gender</th>\n",
       "      <th>start_day</th>\n",
       "      <th>start_day_again</th>\n",
       "      <th>is_weekend</th>\n",
       "      <th>start_moment</th>\n",
       "      <th>is_circle_trip</th>\n",
       "    </tr>\n",
       "  </thead>\n",
       "  <tbody>\n",
       "    <tr>\n",
       "      <th>0</th>\n",
       "      <td>1</td>\n",
       "      <td>15256</td>\n",
       "      <td>15256</td>\n",
       "      <td>15256</td>\n",
       "      <td>15256</td>\n",
       "      <td>15256</td>\n",
       "      <td>15256</td>\n",
       "      <td>15256</td>\n",
       "      <td>15256</td>\n",
       "      <td>15256</td>\n",
       "      <td>15256</td>\n",
       "      <td>15256</td>\n",
       "      <td>15256</td>\n",
       "      <td>15256</td>\n",
       "      <td>15256</td>\n",
       "      <td>15256</td>\n",
       "      <td>15256</td>\n",
       "      <td>15256</td>\n",
       "      <td>15256</td>\n",
       "      <td>15256</td>\n",
       "      <td>15256</td>\n",
       "    </tr>\n",
       "    <tr>\n",
       "      <th>1</th>\n",
       "      <td>2</td>\n",
       "      <td>11962</td>\n",
       "      <td>11962</td>\n",
       "      <td>11962</td>\n",
       "      <td>11962</td>\n",
       "      <td>11962</td>\n",
       "      <td>11962</td>\n",
       "      <td>11962</td>\n",
       "      <td>11962</td>\n",
       "      <td>11962</td>\n",
       "      <td>11962</td>\n",
       "      <td>11962</td>\n",
       "      <td>11962</td>\n",
       "      <td>11962</td>\n",
       "      <td>11962</td>\n",
       "      <td>11962</td>\n",
       "      <td>11962</td>\n",
       "      <td>11962</td>\n",
       "      <td>11962</td>\n",
       "      <td>11962</td>\n",
       "      <td>11962</td>\n",
       "    </tr>\n",
       "    <tr>\n",
       "      <th>2</th>\n",
       "      <td>3</td>\n",
       "      <td>34422</td>\n",
       "      <td>34422</td>\n",
       "      <td>34422</td>\n",
       "      <td>34422</td>\n",
       "      <td>34422</td>\n",
       "      <td>34422</td>\n",
       "      <td>34422</td>\n",
       "      <td>34422</td>\n",
       "      <td>34422</td>\n",
       "      <td>34422</td>\n",
       "      <td>34422</td>\n",
       "      <td>34422</td>\n",
       "      <td>34422</td>\n",
       "      <td>34422</td>\n",
       "      <td>34422</td>\n",
       "      <td>34422</td>\n",
       "      <td>34422</td>\n",
       "      <td>34422</td>\n",
       "      <td>34422</td>\n",
       "      <td>34422</td>\n",
       "    </tr>\n",
       "    <tr>\n",
       "      <th>3</th>\n",
       "      <td>4</td>\n",
       "      <td>32659</td>\n",
       "      <td>32659</td>\n",
       "      <td>32659</td>\n",
       "      <td>32659</td>\n",
       "      <td>32659</td>\n",
       "      <td>32659</td>\n",
       "      <td>32659</td>\n",
       "      <td>32659</td>\n",
       "      <td>32659</td>\n",
       "      <td>32659</td>\n",
       "      <td>32659</td>\n",
       "      <td>32659</td>\n",
       "      <td>32659</td>\n",
       "      <td>32659</td>\n",
       "      <td>32659</td>\n",
       "      <td>32659</td>\n",
       "      <td>32659</td>\n",
       "      <td>32659</td>\n",
       "      <td>32659</td>\n",
       "      <td>32659</td>\n",
       "    </tr>\n",
       "    <tr>\n",
       "      <th>4</th>\n",
       "      <td>5</td>\n",
       "      <td>31186</td>\n",
       "      <td>31186</td>\n",
       "      <td>31186</td>\n",
       "      <td>31186</td>\n",
       "      <td>31186</td>\n",
       "      <td>31186</td>\n",
       "      <td>31186</td>\n",
       "      <td>31186</td>\n",
       "      <td>31186</td>\n",
       "      <td>31186</td>\n",
       "      <td>31186</td>\n",
       "      <td>31186</td>\n",
       "      <td>31186</td>\n",
       "      <td>31186</td>\n",
       "      <td>31186</td>\n",
       "      <td>31186</td>\n",
       "      <td>31186</td>\n",
       "      <td>31186</td>\n",
       "      <td>31186</td>\n",
       "      <td>31186</td>\n",
       "    </tr>\n",
       "  </tbody>\n",
       "</table>\n",
       "</div>"
      ],
      "text/plain": [
       "   june_day  tripduration  starttime  stoptime  start station id  \\\n",
       "0         1         15256      15256     15256             15256   \n",
       "1         2         11962      11962     11962             11962   \n",
       "2         3         34422      34422     34422             34422   \n",
       "3         4         32659      32659     32659             32659   \n",
       "4         5         31186      31186     31186             31186   \n",
       "\n",
       "   start station name  start station latitude  start station longitude  \\\n",
       "0               15256                   15256                    15256   \n",
       "1               11962                   11962                    11962   \n",
       "2               34422                   34422                    34422   \n",
       "3               32659                   32659                    32659   \n",
       "4               31186                   31186                    31186   \n",
       "\n",
       "   end station id  end station name  end station latitude  \\\n",
       "0           15256             15256                 15256   \n",
       "1           11962             11962                 11962   \n",
       "2           34422             34422                 34422   \n",
       "3           32659             32659                 32659   \n",
       "4           31186             31186                 31186   \n",
       "\n",
       "   end station longitude  bikeid  usertype  birth year  gender  start_day  \\\n",
       "0                  15256   15256     15256       15256   15256      15256   \n",
       "1                  11962   11962     11962       11962   11962      11962   \n",
       "2                  34422   34422     34422       34422   34422      34422   \n",
       "3                  32659   32659     32659       32659   32659      32659   \n",
       "4                  31186   31186     31186       31186   31186      31186   \n",
       "\n",
       "   start_day_again  is_weekend  start_moment  is_circle_trip  \n",
       "0            15256       15256         15256           15256  \n",
       "1            11962       11962         11962           11962  \n",
       "2            34422       34422         34422           34422  \n",
       "3            32659       32659         32659           32659  \n",
       "4            31186       31186         31186           31186  "
      ]
     },
     "execution_count": 43,
     "metadata": {},
     "output_type": "execute_result"
    }
   ],
   "source": [
    "aggregate_count_trips.head()"
   ]
  },
  {
   "cell_type": "code",
   "execution_count": 44,
   "metadata": {},
   "outputs": [
    {
     "data": {
      "text/html": [
       "<div>\n",
       "<style scoped>\n",
       "    .dataframe tbody tr th:only-of-type {\n",
       "        vertical-align: middle;\n",
       "    }\n",
       "\n",
       "    .dataframe tbody tr th {\n",
       "        vertical-align: top;\n",
       "    }\n",
       "\n",
       "    .dataframe thead th {\n",
       "        text-align: right;\n",
       "    }\n",
       "</style>\n",
       "<table border=\"1\" class=\"dataframe\">\n",
       "  <thead>\n",
       "    <tr style=\"text-align: right;\">\n",
       "      <th></th>\n",
       "      <th>june_day</th>\n",
       "      <th>tripduration</th>\n",
       "      <th>start station id</th>\n",
       "      <th>start station latitude</th>\n",
       "      <th>start station longitude</th>\n",
       "      <th>end station id</th>\n",
       "      <th>end station latitude</th>\n",
       "      <th>end station longitude</th>\n",
       "      <th>bikeid</th>\n",
       "      <th>birth year</th>\n",
       "      <th>gender</th>\n",
       "      <th>is_weekend</th>\n",
       "      <th>is_circle_trip</th>\n",
       "    </tr>\n",
       "  </thead>\n",
       "  <tbody>\n",
       "    <tr>\n",
       "      <th>0</th>\n",
       "      <td>1</td>\n",
       "      <td>627.730991</td>\n",
       "      <td>450.520713</td>\n",
       "      <td>40.734524</td>\n",
       "      <td>-73.990879</td>\n",
       "      <td>453.176390</td>\n",
       "      <td>40.734646</td>\n",
       "      <td>-73.990806</td>\n",
       "      <td>18137.335671</td>\n",
       "      <td>1975.928028</td>\n",
       "      <td>1.130637</td>\n",
       "      <td>0.0</td>\n",
       "      <td>0.014224</td>\n",
       "    </tr>\n",
       "    <tr>\n",
       "      <th>1</th>\n",
       "      <td>2</td>\n",
       "      <td>614.143956</td>\n",
       "      <td>454.560609</td>\n",
       "      <td>40.735852</td>\n",
       "      <td>-73.990253</td>\n",
       "      <td>453.535278</td>\n",
       "      <td>40.735498</td>\n",
       "      <td>-73.990682</td>\n",
       "      <td>18051.873683</td>\n",
       "      <td>1975.822939</td>\n",
       "      <td>1.136516</td>\n",
       "      <td>0.0</td>\n",
       "      <td>0.014379</td>\n",
       "    </tr>\n",
       "    <tr>\n",
       "      <th>2</th>\n",
       "      <td>3</td>\n",
       "      <td>774.042734</td>\n",
       "      <td>461.436087</td>\n",
       "      <td>40.735366</td>\n",
       "      <td>-73.991243</td>\n",
       "      <td>458.232671</td>\n",
       "      <td>40.735033</td>\n",
       "      <td>-73.991357</td>\n",
       "      <td>18112.613561</td>\n",
       "      <td>1975.976149</td>\n",
       "      <td>1.102812</td>\n",
       "      <td>0.0</td>\n",
       "      <td>0.019116</td>\n",
       "    </tr>\n",
       "    <tr>\n",
       "      <th>3</th>\n",
       "      <td>4</td>\n",
       "      <td>745.476836</td>\n",
       "      <td>458.591414</td>\n",
       "      <td>40.735692</td>\n",
       "      <td>-73.991034</td>\n",
       "      <td>459.198046</td>\n",
       "      <td>40.735406</td>\n",
       "      <td>-73.991197</td>\n",
       "      <td>18116.641875</td>\n",
       "      <td>1976.104535</td>\n",
       "      <td>1.117181</td>\n",
       "      <td>0.0</td>\n",
       "      <td>0.015310</td>\n",
       "    </tr>\n",
       "    <tr>\n",
       "      <th>4</th>\n",
       "      <td>5</td>\n",
       "      <td>761.503655</td>\n",
       "      <td>457.455397</td>\n",
       "      <td>40.734856</td>\n",
       "      <td>-73.991007</td>\n",
       "      <td>454.380716</td>\n",
       "      <td>40.734594</td>\n",
       "      <td>-73.991221</td>\n",
       "      <td>18135.890528</td>\n",
       "      <td>1976.267203</td>\n",
       "      <td>1.101776</td>\n",
       "      <td>0.0</td>\n",
       "      <td>0.017636</td>\n",
       "    </tr>\n",
       "  </tbody>\n",
       "</table>\n",
       "</div>"
      ],
      "text/plain": [
       "   june_day  tripduration  start station id  start station latitude  \\\n",
       "0         1    627.730991        450.520713               40.734524   \n",
       "1         2    614.143956        454.560609               40.735852   \n",
       "2         3    774.042734        461.436087               40.735366   \n",
       "3         4    745.476836        458.591414               40.735692   \n",
       "4         5    761.503655        457.455397               40.734856   \n",
       "\n",
       "   start station longitude  end station id  end station latitude  \\\n",
       "0               -73.990879      453.176390             40.734646   \n",
       "1               -73.990253      453.535278             40.735498   \n",
       "2               -73.991243      458.232671             40.735033   \n",
       "3               -73.991034      459.198046             40.735406   \n",
       "4               -73.991007      454.380716             40.734594   \n",
       "\n",
       "   end station longitude        bikeid   birth year    gender  is_weekend  \\\n",
       "0             -73.990806  18137.335671  1975.928028  1.130637         0.0   \n",
       "1             -73.990682  18051.873683  1975.822939  1.136516         0.0   \n",
       "2             -73.991357  18112.613561  1975.976149  1.102812         0.0   \n",
       "3             -73.991197  18116.641875  1976.104535  1.117181         0.0   \n",
       "4             -73.991221  18135.890528  1976.267203  1.101776         0.0   \n",
       "\n",
       "   is_circle_trip  \n",
       "0        0.014224  \n",
       "1        0.014379  \n",
       "2        0.019116  \n",
       "3        0.015310  \n",
       "4        0.017636  "
      ]
     },
     "execution_count": 44,
     "metadata": {},
     "output_type": "execute_result"
    }
   ],
   "source": [
    "aggregate_weekend.head()"
   ]
  },
  {
   "cell_type": "markdown",
   "metadata": {
    "id": "JeA7lsSnqd-_"
   },
   "source": [
    "### <font color='red'>4.4) Understand what the code below does. How do you understand the plots ? You can look up the following functions:</font>\n",
    "- fig, ax1 = plt.subplots()\n",
    "- ax2=ax1.twinx()\n",
    "- ax1.plot(), ax2.plot()\n",
    "- any other options to set the ticks labels, colors, titles ..."
   ]
  },
  {
   "cell_type": "code",
   "execution_count": 45,
   "metadata": {
    "id": "cUBvOFFRqd-_",
    "jupyter": {
     "outputs_hidden": false
    }
   },
   "outputs": [
    {
     "data": {
      "image/png": "[encoded data removed]",
      "text/plain": [
       "<Figure size 1080x720 with 2 Axes>"
      ]
     },
     "metadata": {},
     "output_type": "display_data"
    }
   ],
   "source": [
    "sns.set_style('white')\n",
    "\n",
    "fig, ax1 = plt.subplots(figsize=(15,10))\n",
    "\n",
    "june_day = aggregate_count_trips.index\n",
    "\n",
    "number_trips = aggregate_count_trips.tripduration\n",
    "ax1.plot(june_day, number_trips, 'b')\n",
    "ax1.set_xlabel('Day in June')\n",
    "for ticklabel in ax1.get_yticklabels():\n",
    "    ticklabel.set_color('b')\n",
    "ax1.set_ylabel('Number of trips',color='b')\n",
    "\n",
    "ax2 = ax1.twinx() #add another axis\n",
    "weekend = aggregate_weekend['is_weekend']\n",
    "ax2.plot(june_day, weekend, 'k--')\n",
    "for ticklabel in ax2.get_yticklabels():\n",
    "    ticklabel.set_color('k')\n",
    "ax2.set_ylabel('Weekend',color='k')\n",
    "plt.title('Number of trips and weekend per day in June', fontsize=17)\n",
    "plt.show()\n",
    "\n",
    "#start_moment"
   ]
  },
  {
   "cell_type": "markdown",
   "metadata": {},
   "source": [
    "Kelihatan bahwa jumlah trip turun saat <i>weekend</i>."
   ]
  },
  {
   "cell_type": "markdown",
   "metadata": {
    "id": "vTYHHWnYqd_A"
   },
   "source": [
    "## 5) Trip distances and speeds <font color='blue'> (15 min) </font>"
   ]
  },
  {
   "cell_type": "markdown",
   "metadata": {
    "id": "FNoMnuhRqd_A"
   },
   "source": [
    "### <font color='red'>Import the haversine package, that computes the haversine distance from one coordinate to another</font>"
   ]
  },
  {
   "cell_type": "code",
   "execution_count": 46,
   "metadata": {},
   "outputs": [
    {
     "data": {
      "text/html": [
       "<div>\n",
       "<style scoped>\n",
       "    .dataframe tbody tr th:only-of-type {\n",
       "        vertical-align: middle;\n",
       "    }\n",
       "\n",
       "    .dataframe tbody tr th {\n",
       "        vertical-align: top;\n",
       "    }\n",
       "\n",
       "    .dataframe thead th {\n",
       "        text-align: right;\n",
       "    }\n",
       "</style>\n",
       "<table border=\"1\" class=\"dataframe\">\n",
       "  <thead>\n",
       "    <tr style=\"text-align: right;\">\n",
       "      <th></th>\n",
       "      <th>tripduration</th>\n",
       "      <th>starttime</th>\n",
       "      <th>stoptime</th>\n",
       "      <th>start station id</th>\n",
       "      <th>start station name</th>\n",
       "      <th>start station latitude</th>\n",
       "      <th>start station longitude</th>\n",
       "      <th>end station id</th>\n",
       "      <th>end station name</th>\n",
       "      <th>end station latitude</th>\n",
       "      <th>end station longitude</th>\n",
       "      <th>bikeid</th>\n",
       "      <th>usertype</th>\n",
       "      <th>birth year</th>\n",
       "      <th>gender</th>\n",
       "      <th>start_day</th>\n",
       "      <th>start_day_again</th>\n",
       "      <th>is_weekend</th>\n",
       "      <th>start_moment</th>\n",
       "      <th>is_circle_trip</th>\n",
       "      <th>june_day</th>\n",
       "    </tr>\n",
       "  </thead>\n",
       "  <tbody>\n",
       "    <tr>\n",
       "      <th>271389</th>\n",
       "      <td>451</td>\n",
       "      <td>2015-06-10 16:10:00</td>\n",
       "      <td>2015-06-10 16:17:00</td>\n",
       "      <td>284</td>\n",
       "      <td>Greenwich Ave &amp; 8 Ave</td>\n",
       "      <td>40.739017</td>\n",
       "      <td>-74.002638</td>\n",
       "      <td>293</td>\n",
       "      <td>Lafayette St &amp; E 8 St</td>\n",
       "      <td>40.730287</td>\n",
       "      <td>-73.990765</td>\n",
       "      <td>18828</td>\n",
       "      <td>Subscriber</td>\n",
       "      <td>1949.0</td>\n",
       "      <td>1</td>\n",
       "      <td>Wednesday</td>\n",
       "      <td>Wednesday</td>\n",
       "      <td>0</td>\n",
       "      <td>afternoon</td>\n",
       "      <td>0</td>\n",
       "      <td>10</td>\n",
       "    </tr>\n",
       "    <tr>\n",
       "      <th>783786</th>\n",
       "      <td>1099</td>\n",
       "      <td>2015-06-25 21:44:00</td>\n",
       "      <td>2015-06-25 22:03:00</td>\n",
       "      <td>327</td>\n",
       "      <td>Vesey Pl &amp; River Terrace</td>\n",
       "      <td>40.715338</td>\n",
       "      <td>-74.016584</td>\n",
       "      <td>482</td>\n",
       "      <td>W 15 St &amp; 7 Ave</td>\n",
       "      <td>40.739355</td>\n",
       "      <td>-73.999318</td>\n",
       "      <td>15943</td>\n",
       "      <td>Subscriber</td>\n",
       "      <td>1977.0</td>\n",
       "      <td>1</td>\n",
       "      <td>Thursday</td>\n",
       "      <td>Thursday</td>\n",
       "      <td>0</td>\n",
       "      <td>evening</td>\n",
       "      <td>0</td>\n",
       "      <td>25</td>\n",
       "    </tr>\n",
       "    <tr>\n",
       "      <th>101376</th>\n",
       "      <td>1401</td>\n",
       "      <td>2015-06-05 09:11:00</td>\n",
       "      <td>2015-06-05 09:34:00</td>\n",
       "      <td>475</td>\n",
       "      <td>E 16 St &amp; Irving Pl</td>\n",
       "      <td>40.735243</td>\n",
       "      <td>-73.987586</td>\n",
       "      <td>471</td>\n",
       "      <td>Grand St &amp; Havemeyer St</td>\n",
       "      <td>40.712868</td>\n",
       "      <td>-73.956981</td>\n",
       "      <td>20830</td>\n",
       "      <td>Subscriber</td>\n",
       "      <td>1981.0</td>\n",
       "      <td>2</td>\n",
       "      <td>Friday</td>\n",
       "      <td>Friday</td>\n",
       "      <td>0</td>\n",
       "      <td>morning</td>\n",
       "      <td>0</td>\n",
       "      <td>5</td>\n",
       "    </tr>\n",
       "    <tr>\n",
       "      <th>737804</th>\n",
       "      <td>114</td>\n",
       "      <td>2015-06-24 19:08:00</td>\n",
       "      <td>2015-06-24 19:10:00</td>\n",
       "      <td>485</td>\n",
       "      <td>W 37 St &amp; 5 Ave</td>\n",
       "      <td>40.750380</td>\n",
       "      <td>-73.983390</td>\n",
       "      <td>362</td>\n",
       "      <td>Broadway &amp; W 37 St</td>\n",
       "      <td>40.751726</td>\n",
       "      <td>-73.987535</td>\n",
       "      <td>21061</td>\n",
       "      <td>Subscriber</td>\n",
       "      <td>1978.0</td>\n",
       "      <td>1</td>\n",
       "      <td>Wednesday</td>\n",
       "      <td>Wednesday</td>\n",
       "      <td>0</td>\n",
       "      <td>evening</td>\n",
       "      <td>0</td>\n",
       "      <td>24</td>\n",
       "    </tr>\n",
       "    <tr>\n",
       "      <th>733744</th>\n",
       "      <td>474</td>\n",
       "      <td>2015-06-24 18:10:00</td>\n",
       "      <td>2015-06-24 18:18:00</td>\n",
       "      <td>293</td>\n",
       "      <td>Lafayette St &amp; E 8 St</td>\n",
       "      <td>40.730287</td>\n",
       "      <td>-73.990765</td>\n",
       "      <td>537</td>\n",
       "      <td>Lexington Ave &amp; E 24 St</td>\n",
       "      <td>40.740259</td>\n",
       "      <td>-73.984092</td>\n",
       "      <td>18698</td>\n",
       "      <td>Subscriber</td>\n",
       "      <td>1984.0</td>\n",
       "      <td>2</td>\n",
       "      <td>Wednesday</td>\n",
       "      <td>Wednesday</td>\n",
       "      <td>0</td>\n",
       "      <td>afternoon</td>\n",
       "      <td>0</td>\n",
       "      <td>24</td>\n",
       "    </tr>\n",
       "  </tbody>\n",
       "</table>\n",
       "</div>"
      ],
      "text/plain": [
       "        tripduration           starttime            stoptime  \\\n",
       "271389           451 2015-06-10 16:10:00 2015-06-10 16:17:00   \n",
       "783786          1099 2015-06-25 21:44:00 2015-06-25 22:03:00   \n",
       "101376          1401 2015-06-05 09:11:00 2015-06-05 09:34:00   \n",
       "737804           114 2015-06-24 19:08:00 2015-06-24 19:10:00   \n",
       "733744           474 2015-06-24 18:10:00 2015-06-24 18:18:00   \n",
       "\n",
       "        start station id        start station name  start station latitude  \\\n",
       "271389               284     Greenwich Ave & 8 Ave               40.739017   \n",
       "783786               327  Vesey Pl & River Terrace               40.715338   \n",
       "101376               475       E 16 St & Irving Pl               40.735243   \n",
       "737804               485           W 37 St & 5 Ave               40.750380   \n",
       "733744               293     Lafayette St & E 8 St               40.730287   \n",
       "\n",
       "        start station longitude  end station id         end station name  \\\n",
       "271389               -74.002638             293    Lafayette St & E 8 St   \n",
       "783786               -74.016584             482          W 15 St & 7 Ave   \n",
       "101376               -73.987586             471  Grand St & Havemeyer St   \n",
       "737804               -73.983390             362       Broadway & W 37 St   \n",
       "733744               -73.990765             537  Lexington Ave & E 24 St   \n",
       "\n",
       "        end station latitude  end station longitude  bikeid    usertype  \\\n",
       "271389             40.730287             -73.990765   18828  Subscriber   \n",
       "783786             40.739355             -73.999318   15943  Subscriber   \n",
       "101376             40.712868             -73.956981   20830  Subscriber   \n",
       "737804             40.751726             -73.987535   21061  Subscriber   \n",
       "733744             40.740259             -73.984092   18698  Subscriber   \n",
       "\n",
       "        birth year  gender  start_day start_day_again  is_weekend  \\\n",
       "271389      1949.0       1  Wednesday       Wednesday           0   \n",
       "783786      1977.0       1   Thursday        Thursday           0   \n",
       "101376      1981.0       2     Friday          Friday           0   \n",
       "737804      1978.0       1  Wednesday       Wednesday           0   \n",
       "733744      1984.0       2  Wednesday       Wednesday           0   \n",
       "\n",
       "       start_moment  is_circle_trip  june_day  \n",
       "271389    afternoon               0        10  \n",
       "783786      evening               0        25  \n",
       "101376      morning               0         5  \n",
       "737804      evening               0        24  \n",
       "733744    afternoon               0        24  "
      ]
     },
     "execution_count": 46,
     "metadata": {},
     "output_type": "execute_result"
    }
   ],
   "source": [
    "data.sample(5)"
   ]
  },
  {
   "cell_type": "code",
   "execution_count": 47,
   "metadata": {},
   "outputs": [
    {
     "data": {
      "text/html": [
       "<div>\n",
       "<style scoped>\n",
       "    .dataframe tbody tr th:only-of-type {\n",
       "        vertical-align: middle;\n",
       "    }\n",
       "\n",
       "    .dataframe tbody tr th {\n",
       "        vertical-align: top;\n",
       "    }\n",
       "\n",
       "    .dataframe thead th {\n",
       "        text-align: right;\n",
       "    }\n",
       "</style>\n",
       "<table border=\"1\" class=\"dataframe\">\n",
       "  <thead>\n",
       "    <tr style=\"text-align: right;\">\n",
       "      <th></th>\n",
       "      <th>tripduration</th>\n",
       "      <th>starttime</th>\n",
       "      <th>stoptime</th>\n",
       "      <th>start station id</th>\n",
       "      <th>start station name</th>\n",
       "      <th>start station latitude</th>\n",
       "      <th>start station longitude</th>\n",
       "      <th>end station id</th>\n",
       "      <th>end station name</th>\n",
       "      <th>end station latitude</th>\n",
       "      <th>end station longitude</th>\n",
       "      <th>bikeid</th>\n",
       "      <th>usertype</th>\n",
       "      <th>birth year</th>\n",
       "      <th>gender</th>\n",
       "      <th>start_day</th>\n",
       "      <th>start_day_again</th>\n",
       "      <th>is_weekend</th>\n",
       "      <th>start_moment</th>\n",
       "      <th>is_circle_trip</th>\n",
       "      <th>june_day</th>\n",
       "    </tr>\n",
       "  </thead>\n",
       "  <tbody>\n",
       "    <tr>\n",
       "      <th>651867</th>\n",
       "      <td>615</td>\n",
       "      <td>2015-06-22 14:26:00</td>\n",
       "      <td>2015-06-22 14:36:00</td>\n",
       "      <td>507</td>\n",
       "      <td>E 25 St &amp; 2 Ave</td>\n",
       "      <td>40.739126</td>\n",
       "      <td>-73.979738</td>\n",
       "      <td>339</td>\n",
       "      <td>Avenue D &amp; E 12 St</td>\n",
       "      <td>40.725806</td>\n",
       "      <td>-73.974225</td>\n",
       "      <td>16405</td>\n",
       "      <td>Subscriber</td>\n",
       "      <td>1956.0</td>\n",
       "      <td>1</td>\n",
       "      <td>Monday</td>\n",
       "      <td>Monday</td>\n",
       "      <td>0</td>\n",
       "      <td>afternoon</td>\n",
       "      <td>0</td>\n",
       "      <td>22</td>\n",
       "    </tr>\n",
       "    <tr>\n",
       "      <th>268732</th>\n",
       "      <td>233</td>\n",
       "      <td>2015-06-10 14:46:00</td>\n",
       "      <td>2015-06-10 14:50:00</td>\n",
       "      <td>285</td>\n",
       "      <td>Broadway &amp; E 14 St</td>\n",
       "      <td>40.734546</td>\n",
       "      <td>-73.990741</td>\n",
       "      <td>300</td>\n",
       "      <td>Shevchenko Pl &amp; E 7 St</td>\n",
       "      <td>40.728145</td>\n",
       "      <td>-73.990214</td>\n",
       "      <td>14793</td>\n",
       "      <td>Subscriber</td>\n",
       "      <td>1976.0</td>\n",
       "      <td>1</td>\n",
       "      <td>Wednesday</td>\n",
       "      <td>Wednesday</td>\n",
       "      <td>0</td>\n",
       "      <td>afternoon</td>\n",
       "      <td>0</td>\n",
       "      <td>10</td>\n",
       "    </tr>\n",
       "  </tbody>\n",
       "</table>\n",
       "</div>"
      ],
      "text/plain": [
       "        tripduration           starttime            stoptime  \\\n",
       "651867           615 2015-06-22 14:26:00 2015-06-22 14:36:00   \n",
       "268732           233 2015-06-10 14:46:00 2015-06-10 14:50:00   \n",
       "\n",
       "        start station id  start station name  start station latitude  \\\n",
       "651867               507     E 25 St & 2 Ave               40.739126   \n",
       "268732               285  Broadway & E 14 St               40.734546   \n",
       "\n",
       "        start station longitude  end station id        end station name  \\\n",
       "651867               -73.979738             339      Avenue D & E 12 St   \n",
       "268732               -73.990741             300  Shevchenko Pl & E 7 St   \n",
       "\n",
       "        end station latitude  end station longitude  bikeid    usertype  \\\n",
       "651867             40.725806             -73.974225   16405  Subscriber   \n",
       "268732             40.728145             -73.990214   14793  Subscriber   \n",
       "\n",
       "        birth year  gender  start_day start_day_again  is_weekend  \\\n",
       "651867      1956.0       1     Monday          Monday           0   \n",
       "268732      1976.0       1  Wednesday       Wednesday           0   \n",
       "\n",
       "       start_moment  is_circle_trip  june_day  \n",
       "651867    afternoon               0        22  \n",
       "268732    afternoon               0        10  "
      ]
     },
     "execution_count": 47,
     "metadata": {},
     "output_type": "execute_result"
    }
   ],
   "source": [
    "pd.set_option('display.max_columns', None)\n",
    "data.sample(2)"
   ]
  },
  {
   "cell_type": "code",
   "execution_count": 48,
   "metadata": {},
   "outputs": [
    {
     "name": "stdout",
     "output_type": "stream",
     "text": [
      "Help on CallableDynamicDoc in module pandas._config.config object:\n",
      "\n",
      "class CallableDynamicDoc(builtins.object)\n",
      " |  CallableDynamicDoc(func, doc_tmpl)\n",
      " |  \n",
      " |  Methods defined here:\n",
      " |  \n",
      " |  __call__(self, *args, **kwds)\n",
      " |      Call self as a function.\n",
      " |  \n",
      " |  __init__(self, func, doc_tmpl)\n",
      " |      Initialize self.  See help(type(self)) for accurate signature.\n",
      " |  \n",
      " |  ----------------------------------------------------------------------\n",
      " |  Data descriptors defined here:\n",
      " |  \n",
      " |  __dict__\n",
      " |      dictionary for instance variables (if defined)\n",
      " |  \n",
      " |  __weakref__\n",
      " |      list of weak references to the object (if defined)\n",
      "\n"
     ]
    }
   ],
   "source": [
    "help(pd.set_option)"
   ]
  },
  {
   "cell_type": "code",
   "execution_count": 49,
   "metadata": {
    "id": "zvCIBycqqd_A"
   },
   "outputs": [],
   "source": [
    "from haversine import haversine"
   ]
  },
  {
   "cell_type": "code",
   "execution_count": 50,
   "metadata": {},
   "outputs": [
    {
     "name": "stdout",
     "output_type": "stream",
     "text": [
      "Help on function haversine in module haversine.haversine:\n",
      "\n",
      "haversine(point1, point2, unit=<Unit.KILOMETERS: 'km'>)\n",
      "    Calculate the great-circle distance between two points on the Earth surface.\n",
      "    \n",
      "    Takes two 2-tuples, containing the latitude and longitude of each point in decimal degrees,\n",
      "    and, optionally, a unit of length.\n",
      "    \n",
      "    :param point1: first point; tuple of (latitude, longitude) in decimal degrees\n",
      "    :param point2: second point; tuple of (latitude, longitude) in decimal degrees\n",
      "    :param unit: a member of haversine.Unit, or, equivalently, a string containing the\n",
      "                 initials of its corresponding unit of measurement (i.e. miles = mi)\n",
      "                 default 'km' (kilometers).\n",
      "    \n",
      "    Example: ``haversine((45.7597, 4.8422), (48.8567, 2.3508), unit=Unit.METERS)``\n",
      "    \n",
      "    Precondition: ``unit`` is a supported unit (supported units are listed in the `Unit` enum)\n",
      "    \n",
      "    :return: the distance between the two points in the requested unit, as a float.\n",
      "    \n",
      "    The default returned unit is kilometers. The default unit can be changed by\n",
      "    setting the unit parameter to a member of ``haversine.Unit``\n",
      "    (e.g. ``haversine.Unit.INCHES``), or, equivalently, to a string containing the\n",
      "    corresponding abbreviation (e.g. 'in'). All available units can be found in the ``Unit`` enum.\n",
      "\n"
     ]
    }
   ],
   "source": [
    "help(haversine)"
   ]
  },
  {
   "cell_type": "markdown",
   "metadata": {
    "id": "cScxJo5yqd_B"
   },
   "source": [
    "### <font color='red'>Understand how the <i>haversine</i> function from the package can be used to compute a distance by running the following blocks</font>"
   ]
  },
  {
   "cell_type": "code",
   "execution_count": 51,
   "metadata": {
    "id": "0sOj19Iwqd_B"
   },
   "outputs": [],
   "source": [
    "x = data.iloc[6]"
   ]
  },
  {
   "cell_type": "code",
   "execution_count": 52,
   "metadata": {
    "id": "_5CGBh2Vqd_B"
   },
   "outputs": [
    {
     "data": {
      "text/plain": [
       "tripduration                               766\n",
       "starttime                  2015-06-01 00:04:00\n",
       "stoptime                   2015-06-01 00:17:00\n",
       "start station id                           346\n",
       "start station name         Bank St & Hudson St\n",
       "start station latitude               40.736529\n",
       "start station longitude              -74.00618\n",
       "end station id                            2003\n",
       "end station name               1 Ave & E 18 St\n",
       "end station latitude                 40.733812\n",
       "end station longitude               -73.980544\n",
       "bikeid                                   15978\n",
       "usertype                            Subscriber\n",
       "birth year                              1976.0\n",
       "gender                                       1\n",
       "start_day                               Monday\n",
       "start_day_again                         Monday\n",
       "is_weekend                                   0\n",
       "start_moment                             night\n",
       "is_circle_trip                               0\n",
       "june_day                                     1\n",
       "Name: 6, dtype: object"
      ]
     },
     "execution_count": 52,
     "metadata": {},
     "output_type": "execute_result"
    }
   ],
   "source": [
    "x"
   ]
  },
  {
   "cell_type": "code",
   "execution_count": 53,
   "metadata": {
    "id": "B5v75o1wqd_C"
   },
   "outputs": [
    {
     "data": {
      "text/plain": [
       "2.18101973053599"
      ]
     },
     "execution_count": 53,
     "metadata": {},
     "output_type": "execute_result"
    }
   ],
   "source": [
    "haversine((x['start station latitude'], x['start station longitude']), (x['end station latitude'], x['end station longitude']))"
   ]
  },
  {
   "cell_type": "code",
   "execution_count": 54,
   "metadata": {
    "id": "6F6vPbpPqd_C",
    "jupyter": {
     "outputs_hidden": false
    }
   },
   "outputs": [
    {
     "name": "stdout",
     "output_type": "stream",
     "text": [
      "Traveled haversine distance for trip 0: 2.18 kilometers\n"
     ]
    }
   ],
   "source": [
    "print('Traveled haversine distance for trip 0: {:.2f} kilometers'.format(\n",
    "    haversine((x['start station latitude'], x['start station longitude']),\n",
    "              (x['end station latitude'], x['end station longitude']))))#,miles=True))\n",
    "#by default, it will give result in kilometers. we can change it to miles by adding miles=True in the hyperparameter"
   ]
  },
  {
   "cell_type": "markdown",
   "metadata": {
    "id": "1LG4Ux1wqd_C"
   },
   "source": [
    "### <font color='red'>5.1) Complete the following function so it returns, for a given observation, the haversine distance from a start station to the end station</font>"
   ]
  },
  {
   "cell_type": "code",
   "execution_count": 55,
   "metadata": {
    "id": "h_BMu-s_qd_D",
    "jupyter": {
     "outputs_hidden": false
    }
   },
   "outputs": [],
   "source": [
    "def distance_stations(x):\n",
    "    start_lat = x['start station latitude']\n",
    "    start_long = x['start station longitude']\n",
    "    end_lat = x['end station latitude']\n",
    "    end_long = x['end station longitude']\n",
    "    return haversine((start_lat,start_long), (end_lat,end_long))\n",
    "#### COMPLETE THE FUNCTION SO IT RETURNS THE DISTANCE FROM START TO END ####"
   ]
  },
  {
   "cell_type": "markdown",
   "metadata": {
    "id": "qmIQT0Svqd_D"
   },
   "source": [
    "### <font color='red'>5.2) Please create a new variable called 'traveled_distance' and use distance_stations function to compute the distance between 2 stations</font>"
   ]
  },
  {
   "cell_type": "code",
   "execution_count": 56,
   "metadata": {},
   "outputs": [
    {
     "name": "stdout",
     "output_type": "stream",
     "text": [
      "Help on function apply in module pandas.core.frame:\n",
      "\n",
      "apply(self, func, axis=0, raw=False, result_type=None, args=(), **kwds)\n",
      "    Apply a function along an axis of the DataFrame.\n",
      "    \n",
      "    Objects passed to the function are Series objects whose index is\n",
      "    either the DataFrame's index (``axis=0``) or the DataFrame's columns\n",
      "    (``axis=1``). By default (``result_type=None``), the final return type\n",
      "    is inferred from the return type of the applied function. Otherwise,\n",
      "    it depends on the `result_type` argument.\n",
      "    \n",
      "    Parameters\n",
      "    ----------\n",
      "    func : function\n",
      "        Function to apply to each column or row.\n",
      "    axis : {0 or 'index', 1 or 'columns'}, default 0\n",
      "        Axis along which the function is applied:\n",
      "    \n",
      "        * 0 or 'index': apply function to each column.\n",
      "        * 1 or 'columns': apply function to each row.\n",
      "    \n",
      "    raw : bool, default False\n",
      "        Determines if row or column is passed as a Series or ndarray object:\n",
      "    \n",
      "        * ``False`` : passes each row or column as a Series to the\n",
      "          function.\n",
      "        * ``True`` : the passed function will receive ndarray objects\n",
      "          instead.\n",
      "          If you are just applying a NumPy reduction function this will\n",
      "          achieve much better performance.\n",
      "    \n",
      "    result_type : {'expand', 'reduce', 'broadcast', None}, default None\n",
      "        These only act when ``axis=1`` (columns):\n",
      "    \n",
      "        * 'expand' : list-like results will be turned into columns.\n",
      "        * 'reduce' : returns a Series if possible rather than expanding\n",
      "          list-like results. This is the opposite of 'expand'.\n",
      "        * 'broadcast' : results will be broadcast to the original shape\n",
      "          of the DataFrame, the original index and columns will be\n",
      "          retained.\n",
      "    \n",
      "        The default behaviour (None) depends on the return value of the\n",
      "        applied function: list-like results will be returned as a Series\n",
      "        of those. However if the apply function returns a Series these\n",
      "        are expanded to columns.\n",
      "    args : tuple\n",
      "        Positional arguments to pass to `func` in addition to the\n",
      "        array/series.\n",
      "    **kwds\n",
      "        Additional keyword arguments to pass as keywords arguments to\n",
      "        `func`.\n",
      "    \n",
      "    Returns\n",
      "    -------\n",
      "    Series or DataFrame\n",
      "        Result of applying ``func`` along the given axis of the\n",
      "        DataFrame.\n",
      "    \n",
      "    See Also\n",
      "    --------\n",
      "    DataFrame.applymap: For elementwise operations.\n",
      "    DataFrame.aggregate: Only perform aggregating type operations.\n",
      "    DataFrame.transform: Only perform transforming type operations.\n",
      "    \n",
      "    Examples\n",
      "    --------\n",
      "    >>> df = pd.DataFrame([[4, 9]] * 3, columns=['A', 'B'])\n",
      "    >>> df\n",
      "       A  B\n",
      "    0  4  9\n",
      "    1  4  9\n",
      "    2  4  9\n",
      "    \n",
      "    Using a numpy universal function (in this case the same as\n",
      "    ``np.sqrt(df)``):\n",
      "    \n",
      "    >>> df.apply(np.sqrt)\n",
      "         A    B\n",
      "    0  2.0  3.0\n",
      "    1  2.0  3.0\n",
      "    2  2.0  3.0\n",
      "    \n",
      "    Using a reducing function on either axis\n",
      "    \n",
      "    >>> df.apply(np.sum, axis=0)\n",
      "    A    12\n",
      "    B    27\n",
      "    dtype: int64\n",
      "    \n",
      "    >>> df.apply(np.sum, axis=1)\n",
      "    0    13\n",
      "    1    13\n",
      "    2    13\n",
      "    dtype: int64\n",
      "    \n",
      "    Returning a list-like will result in a Series\n",
      "    \n",
      "    >>> df.apply(lambda x: [1, 2], axis=1)\n",
      "    0    [1, 2]\n",
      "    1    [1, 2]\n",
      "    2    [1, 2]\n",
      "    dtype: object\n",
      "    \n",
      "    Passing ``result_type='expand'`` will expand list-like results\n",
      "    to columns of a Dataframe\n",
      "    \n",
      "    >>> df.apply(lambda x: [1, 2], axis=1, result_type='expand')\n",
      "       0  1\n",
      "    0  1  2\n",
      "    1  1  2\n",
      "    2  1  2\n",
      "    \n",
      "    Returning a Series inside the function is similar to passing\n",
      "    ``result_type='expand'``. The resulting column names\n",
      "    will be the Series index.\n",
      "    \n",
      "    >>> df.apply(lambda x: pd.Series([1, 2], index=['foo', 'bar']), axis=1)\n",
      "       foo  bar\n",
      "    0    1    2\n",
      "    1    1    2\n",
      "    2    1    2\n",
      "    \n",
      "    Passing ``result_type='broadcast'`` will ensure the same shape\n",
      "    result, whether list-like or scalar is returned by the function,\n",
      "    and broadcast it along the axis. The resulting column names will\n",
      "    be the originals.\n",
      "    \n",
      "    >>> df.apply(lambda x: [1, 2], axis=1, result_type='broadcast')\n",
      "       A  B\n",
      "    0  1  2\n",
      "    1  1  2\n",
      "    2  1  2\n",
      "\n"
     ]
    }
   ],
   "source": [
    "help(pd.DataFrame.apply)"
   ]
  },
  {
   "cell_type": "code",
   "execution_count": 57,
   "metadata": {
    "id": "mnTdM-yDqd_D"
   },
   "outputs": [],
   "source": [
    "data['traveled_distance'] = data.apply(distance_stations, axis = 1)"
   ]
  },
  {
   "cell_type": "code",
   "execution_count": 58,
   "metadata": {},
   "outputs": [
    {
     "data": {
      "text/html": [
       "<div>\n",
       "<style scoped>\n",
       "    .dataframe tbody tr th:only-of-type {\n",
       "        vertical-align: middle;\n",
       "    }\n",
       "\n",
       "    .dataframe tbody tr th {\n",
       "        vertical-align: top;\n",
       "    }\n",
       "\n",
       "    .dataframe thead th {\n",
       "        text-align: right;\n",
       "    }\n",
       "</style>\n",
       "<table border=\"1\" class=\"dataframe\">\n",
       "  <thead>\n",
       "    <tr style=\"text-align: right;\">\n",
       "      <th></th>\n",
       "      <th>start station name</th>\n",
       "      <th>end station name</th>\n",
       "      <th>traveled_distance</th>\n",
       "    </tr>\n",
       "  </thead>\n",
       "  <tbody>\n",
       "    <tr>\n",
       "      <th>480846</th>\n",
       "      <td>Spruce St &amp; Nassau St</td>\n",
       "      <td>Warren St &amp; Church St</td>\n",
       "      <td>0.473146</td>\n",
       "    </tr>\n",
       "    <tr>\n",
       "      <th>439917</th>\n",
       "      <td>Pershing Square North</td>\n",
       "      <td>Broadway &amp; W 55 St</td>\n",
       "      <td>1.530948</td>\n",
       "    </tr>\n",
       "    <tr>\n",
       "      <th>614913</th>\n",
       "      <td>E 3 St &amp; 1 Ave</td>\n",
       "      <td>W 13 St &amp; 5 Ave</td>\n",
       "      <td>1.323374</td>\n",
       "    </tr>\n",
       "    <tr>\n",
       "      <th>418229</th>\n",
       "      <td>E 11 St &amp; 2 Ave</td>\n",
       "      <td>E 19 St &amp; 3 Ave</td>\n",
       "      <td>0.663296</td>\n",
       "    </tr>\n",
       "    <tr>\n",
       "      <th>7460</th>\n",
       "      <td>South End Ave &amp; Liberty St</td>\n",
       "      <td>Allen St &amp; Rivington St</td>\n",
       "      <td>2.377481</td>\n",
       "    </tr>\n",
       "  </tbody>\n",
       "</table>\n",
       "</div>"
      ],
      "text/plain": [
       "                start station name         end station name  traveled_distance\n",
       "480846       Spruce St & Nassau St    Warren St & Church St           0.473146\n",
       "439917       Pershing Square North       Broadway & W 55 St           1.530948\n",
       "614913              E 3 St & 1 Ave          W 13 St & 5 Ave           1.323374\n",
       "418229             E 11 St & 2 Ave          E 19 St & 3 Ave           0.663296\n",
       "7460    South End Ave & Liberty St  Allen St & Rivington St           2.377481"
      ]
     },
     "execution_count": 58,
     "metadata": {},
     "output_type": "execute_result"
    }
   ],
   "source": [
    "data[['start station name', 'end station name', 'traveled_distance']].sample(5)"
   ]
  },
  {
   "cell_type": "markdown",
   "metadata": {
    "id": "8a1GV0RDqd_E"
   },
   "source": [
    "### <font color='red'>5.3) Show <i>samples</i> of data, and see how the traveled distance has been added as a new feature in the dataset</font>"
   ]
  },
  {
   "cell_type": "code",
   "execution_count": 59,
   "metadata": {
    "id": "1poBbe4iqd_F"
   },
   "outputs": [],
   "source": [
    "distance_station_data = data[['start station name', 'end station name', 'traveled_distance']]"
   ]
  },
  {
   "cell_type": "code",
   "execution_count": 60,
   "metadata": {
    "id": "XjE400NBqd_F"
   },
   "outputs": [
    {
     "data": {
      "text/html": [
       "<div>\n",
       "<style scoped>\n",
       "    .dataframe tbody tr th:only-of-type {\n",
       "        vertical-align: middle;\n",
       "    }\n",
       "\n",
       "    .dataframe tbody tr th {\n",
       "        vertical-align: top;\n",
       "    }\n",
       "\n",
       "    .dataframe thead th {\n",
       "        text-align: right;\n",
       "    }\n",
       "</style>\n",
       "<table border=\"1\" class=\"dataframe\">\n",
       "  <thead>\n",
       "    <tr style=\"text-align: right;\">\n",
       "      <th></th>\n",
       "      <th>start station name</th>\n",
       "      <th>end station name</th>\n",
       "      <th>traveled_distance</th>\n",
       "    </tr>\n",
       "  </thead>\n",
       "  <tbody>\n",
       "    <tr>\n",
       "      <th>0</th>\n",
       "      <td>MacDougal St &amp; Prince St</td>\n",
       "      <td>W 45 St &amp; 8 Ave</td>\n",
       "      <td>3.778532</td>\n",
       "    </tr>\n",
       "    <tr>\n",
       "      <th>1</th>\n",
       "      <td>St Marks Pl &amp; 1 Ave</td>\n",
       "      <td>Allen St &amp; E Houston St</td>\n",
       "      <td>0.701381</td>\n",
       "    </tr>\n",
       "    <tr>\n",
       "      <th>2</th>\n",
       "      <td>Greenwich Ave &amp; Charles St</td>\n",
       "      <td>W 26 St &amp; 10 Ave</td>\n",
       "      <td>1.625823</td>\n",
       "    </tr>\n",
       "    <tr>\n",
       "      <th>3</th>\n",
       "      <td>Allen St &amp; Hester St</td>\n",
       "      <td>Forsyth St &amp; Broome St</td>\n",
       "      <td>0.326548</td>\n",
       "    </tr>\n",
       "    <tr>\n",
       "      <th>4</th>\n",
       "      <td>University Pl &amp; E 14 St</td>\n",
       "      <td>S 5 Pl &amp; S 4 St</td>\n",
       "      <td>3.780067</td>\n",
       "    </tr>\n",
       "  </tbody>\n",
       "</table>\n",
       "</div>"
      ],
      "text/plain": [
       "           start station name         end station name  traveled_distance\n",
       "0    MacDougal St & Prince St          W 45 St & 8 Ave           3.778532\n",
       "1         St Marks Pl & 1 Ave  Allen St & E Houston St           0.701381\n",
       "2  Greenwich Ave & Charles St         W 26 St & 10 Ave           1.625823\n",
       "3        Allen St & Hester St   Forsyth St & Broome St           0.326548\n",
       "4     University Pl & E 14 St          S 5 Pl & S 4 St           3.780067"
      ]
     },
     "execution_count": 60,
     "metadata": {},
     "output_type": "execute_result"
    }
   ],
   "source": [
    "distance_station_data.head()"
   ]
  },
  {
   "cell_type": "code",
   "execution_count": 61,
   "metadata": {
    "id": "1AE9p7wjqd_G"
   },
   "outputs": [
    {
     "data": {
      "text/html": [
       "<div>\n",
       "<style scoped>\n",
       "    .dataframe tbody tr th:only-of-type {\n",
       "        vertical-align: middle;\n",
       "    }\n",
       "\n",
       "    .dataframe tbody tr th {\n",
       "        vertical-align: top;\n",
       "    }\n",
       "\n",
       "    .dataframe thead th {\n",
       "        text-align: right;\n",
       "    }\n",
       "</style>\n",
       "<table border=\"1\" class=\"dataframe\">\n",
       "  <thead>\n",
       "    <tr style=\"text-align: right;\">\n",
       "      <th></th>\n",
       "      <th>start station name</th>\n",
       "      <th>end station name</th>\n",
       "      <th>traveled_distance</th>\n",
       "    </tr>\n",
       "  </thead>\n",
       "  <tbody>\n",
       "    <tr>\n",
       "      <th>0</th>\n",
       "      <td>MacDougal St &amp; Prince St</td>\n",
       "      <td>W 45 St &amp; 8 Ave</td>\n",
       "      <td>3.778532</td>\n",
       "    </tr>\n",
       "    <tr>\n",
       "      <th>84248</th>\n",
       "      <td>MacDougal St &amp; Prince St</td>\n",
       "      <td>W 45 St &amp; 8 Ave</td>\n",
       "      <td>3.778532</td>\n",
       "    </tr>\n",
       "    <tr>\n",
       "      <th>143919</th>\n",
       "      <td>MacDougal St &amp; Prince St</td>\n",
       "      <td>W 45 St &amp; 8 Ave</td>\n",
       "      <td>3.778532</td>\n",
       "    </tr>\n",
       "    <tr>\n",
       "      <th>183876</th>\n",
       "      <td>MacDougal St &amp; Prince St</td>\n",
       "      <td>W 45 St &amp; 8 Ave</td>\n",
       "      <td>3.778532</td>\n",
       "    </tr>\n",
       "    <tr>\n",
       "      <th>211443</th>\n",
       "      <td>MacDougal St &amp; Prince St</td>\n",
       "      <td>W 45 St &amp; 8 Ave</td>\n",
       "      <td>3.778532</td>\n",
       "    </tr>\n",
       "  </tbody>\n",
       "</table>\n",
       "</div>"
      ],
      "text/plain": [
       "              start station name end station name  traveled_distance\n",
       "0       MacDougal St & Prince St  W 45 St & 8 Ave           3.778532\n",
       "84248   MacDougal St & Prince St  W 45 St & 8 Ave           3.778532\n",
       "143919  MacDougal St & Prince St  W 45 St & 8 Ave           3.778532\n",
       "183876  MacDougal St & Prince St  W 45 St & 8 Ave           3.778532\n",
       "211443  MacDougal St & Prince St  W 45 St & 8 Ave           3.778532"
      ]
     },
     "execution_count": 61,
     "metadata": {},
     "output_type": "execute_result"
    }
   ],
   "source": [
    "distance_station_data[(distance_station_data['start station name'] == 'MacDougal St & Prince St') & (distance_station_data['end station name'] == 'W 45 St & 8 Ave')].head()"
   ]
  },
  {
   "cell_type": "code",
   "execution_count": 62,
   "metadata": {
    "id": "INMFypJpqd_H"
   },
   "outputs": [
    {
     "data": {
      "text/html": [
       "<div>\n",
       "<style scoped>\n",
       "    .dataframe tbody tr th:only-of-type {\n",
       "        vertical-align: middle;\n",
       "    }\n",
       "\n",
       "    .dataframe tbody tr th {\n",
       "        vertical-align: top;\n",
       "    }\n",
       "\n",
       "    .dataframe thead th {\n",
       "        text-align: right;\n",
       "    }\n",
       "</style>\n",
       "<table border=\"1\" class=\"dataframe\">\n",
       "  <thead>\n",
       "    <tr style=\"text-align: right;\">\n",
       "      <th></th>\n",
       "      <th>start station name</th>\n",
       "      <th>end station name</th>\n",
       "      <th>traveled_distance</th>\n",
       "    </tr>\n",
       "  </thead>\n",
       "  <tbody>\n",
       "    <tr>\n",
       "      <th>88</th>\n",
       "      <td>Lexington Ave &amp; E 24 St</td>\n",
       "      <td>Lexington Ave &amp; E 24 St</td>\n",
       "      <td>0.0</td>\n",
       "    </tr>\n",
       "    <tr>\n",
       "      <th>101</th>\n",
       "      <td>South End Ave &amp; Liberty St</td>\n",
       "      <td>South End Ave &amp; Liberty St</td>\n",
       "      <td>0.0</td>\n",
       "    </tr>\n",
       "    <tr>\n",
       "      <th>107</th>\n",
       "      <td>Broadway &amp; E 14 St</td>\n",
       "      <td>Broadway &amp; E 14 St</td>\n",
       "      <td>0.0</td>\n",
       "    </tr>\n",
       "    <tr>\n",
       "      <th>111</th>\n",
       "      <td>West St &amp; Chambers St</td>\n",
       "      <td>West St &amp; Chambers St</td>\n",
       "      <td>0.0</td>\n",
       "    </tr>\n",
       "    <tr>\n",
       "      <th>119</th>\n",
       "      <td>E 14 St &amp; Avenue B</td>\n",
       "      <td>E 14 St &amp; Avenue B</td>\n",
       "      <td>0.0</td>\n",
       "    </tr>\n",
       "  </tbody>\n",
       "</table>\n",
       "</div>"
      ],
      "text/plain": [
       "             start station name            end station name  traveled_distance\n",
       "88      Lexington Ave & E 24 St     Lexington Ave & E 24 St                0.0\n",
       "101  South End Ave & Liberty St  South End Ave & Liberty St                0.0\n",
       "107          Broadway & E 14 St          Broadway & E 14 St                0.0\n",
       "111       West St & Chambers St       West St & Chambers St                0.0\n",
       "119          E 14 St & Avenue B          E 14 St & Avenue B                0.0"
      ]
     },
     "execution_count": 62,
     "metadata": {},
     "output_type": "execute_result"
    }
   ],
   "source": [
    "distance_station_data[distance_station_data.traveled_distance == 0].head()"
   ]
  },
  {
   "cell_type": "markdown",
   "metadata": {
    "id": "GTRvL8rhqd_H"
   },
   "source": [
    "### <font color='red'>5.4) Compute the average speed (in km/h) by dividing two dataframe columns</font>"
   ]
  },
  {
   "cell_type": "code",
   "execution_count": 63,
   "metadata": {},
   "outputs": [],
   "source": [
    "data['trip_duration_hours'] = data['tripduration'].apply(lambda x: x/3600)"
   ]
  },
  {
   "cell_type": "code",
   "execution_count": 64,
   "metadata": {},
   "outputs": [
    {
     "data": {
      "text/html": [
       "<div>\n",
       "<style scoped>\n",
       "    .dataframe tbody tr th:only-of-type {\n",
       "        vertical-align: middle;\n",
       "    }\n",
       "\n",
       "    .dataframe tbody tr th {\n",
       "        vertical-align: top;\n",
       "    }\n",
       "\n",
       "    .dataframe thead th {\n",
       "        text-align: right;\n",
       "    }\n",
       "</style>\n",
       "<table border=\"1\" class=\"dataframe\">\n",
       "  <thead>\n",
       "    <tr style=\"text-align: right;\">\n",
       "      <th></th>\n",
       "      <th>tripduration</th>\n",
       "      <th>trip_duration_hours</th>\n",
       "    </tr>\n",
       "  </thead>\n",
       "  <tbody>\n",
       "    <tr>\n",
       "      <th>324537</th>\n",
       "      <td>748</td>\n",
       "      <td>0.207778</td>\n",
       "    </tr>\n",
       "    <tr>\n",
       "      <th>266525</th>\n",
       "      <td>999</td>\n",
       "      <td>0.277500</td>\n",
       "    </tr>\n",
       "    <tr>\n",
       "      <th>167113</th>\n",
       "      <td>616</td>\n",
       "      <td>0.171111</td>\n",
       "    </tr>\n",
       "    <tr>\n",
       "      <th>455413</th>\n",
       "      <td>522</td>\n",
       "      <td>0.145000</td>\n",
       "    </tr>\n",
       "    <tr>\n",
       "      <th>262870</th>\n",
       "      <td>1655</td>\n",
       "      <td>0.459722</td>\n",
       "    </tr>\n",
       "  </tbody>\n",
       "</table>\n",
       "</div>"
      ],
      "text/plain": [
       "        tripduration  trip_duration_hours\n",
       "324537           748             0.207778\n",
       "266525           999             0.277500\n",
       "167113           616             0.171111\n",
       "455413           522             0.145000\n",
       "262870          1655             0.459722"
      ]
     },
     "execution_count": 64,
     "metadata": {},
     "output_type": "execute_result"
    }
   ],
   "source": [
    "data[['tripduration', 'trip_duration_hours']].sample(5)"
   ]
  },
  {
   "cell_type": "code",
   "execution_count": 65,
   "metadata": {
    "id": "ewelypTxqd_H",
    "jupyter": {
     "outputs_hidden": false
    }
   },
   "outputs": [
    {
     "data": {
      "text/html": [
       "<div>\n",
       "<style scoped>\n",
       "    .dataframe tbody tr th:only-of-type {\n",
       "        vertical-align: middle;\n",
       "    }\n",
       "\n",
       "    .dataframe tbody tr th {\n",
       "        vertical-align: top;\n",
       "    }\n",
       "\n",
       "    .dataframe thead th {\n",
       "        text-align: right;\n",
       "    }\n",
       "</style>\n",
       "<table border=\"1\" class=\"dataframe\">\n",
       "  <thead>\n",
       "    <tr style=\"text-align: right;\">\n",
       "      <th></th>\n",
       "      <th>traveled_distance</th>\n",
       "      <th>tripduration</th>\n",
       "      <th>average_speed</th>\n",
       "    </tr>\n",
       "  </thead>\n",
       "  <tbody>\n",
       "    <tr>\n",
       "      <th>54860</th>\n",
       "      <td>5.169836</td>\n",
       "      <td>1899</td>\n",
       "      <td>9.800637</td>\n",
       "    </tr>\n",
       "    <tr>\n",
       "      <th>830043</th>\n",
       "      <td>1.747511</td>\n",
       "      <td>867</td>\n",
       "      <td>7.256101</td>\n",
       "    </tr>\n",
       "    <tr>\n",
       "      <th>527378</th>\n",
       "      <td>0.751042</td>\n",
       "      <td>371</td>\n",
       "      <td>7.287740</td>\n",
       "    </tr>\n",
       "    <tr>\n",
       "      <th>516552</th>\n",
       "      <td>0.734789</td>\n",
       "      <td>266</td>\n",
       "      <td>9.944511</td>\n",
       "    </tr>\n",
       "    <tr>\n",
       "      <th>675360</th>\n",
       "      <td>2.323151</td>\n",
       "      <td>773</td>\n",
       "      <td>10.819331</td>\n",
       "    </tr>\n",
       "  </tbody>\n",
       "</table>\n",
       "</div>"
      ],
      "text/plain": [
       "        traveled_distance  tripduration  average_speed\n",
       "54860            5.169836          1899       9.800637\n",
       "830043           1.747511           867       7.256101\n",
       "527378           0.751042           371       7.287740\n",
       "516552           0.734789           266       9.944511\n",
       "675360           2.323151           773      10.819331"
      ]
     },
     "execution_count": 65,
     "metadata": {},
     "output_type": "execute_result"
    }
   ],
   "source": [
    "data['average_speed'] = data.apply(lambda x: x['traveled_distance']/(x['trip_duration_hours']), axis = 1)\n",
    "col = ['traveled_distance', 'tripduration', 'average_speed']\n",
    "data[col].sample(5)\n",
    "#### COMPUTE THE AVERAGE SPEED HERE ####"
   ]
  },
  {
   "cell_type": "code",
   "execution_count": 66,
   "metadata": {},
   "outputs": [
    {
     "name": "stdout",
     "output_type": "stream",
     "text": [
      "8.686372349654757\n"
     ]
    }
   ],
   "source": [
    "mean_speed = mean(data['average_speed'][data['average_speed'] != 0])\n",
    "print(mean_speed)"
   ]
  },
  {
   "cell_type": "code",
   "execution_count": 82,
   "metadata": {
    "id": "gudyRYPHqd_I"
   },
   "outputs": [
    {
     "data": {
      "text/plain": [
       "8.686372349654757"
      ]
     },
     "execution_count": 82,
     "metadata": {},
     "output_type": "execute_result"
    }
   ],
   "source": [
    "data['average_speed'].median()"
   ]
  },
  {
   "cell_type": "code",
   "execution_count": 68,
   "metadata": {},
   "outputs": [
    {
     "data": {
      "text/plain": [
       "8.497435237692601"
      ]
     },
     "execution_count": 68,
     "metadata": {},
     "output_type": "execute_result"
    }
   ],
   "source": [
    "data['average_speed'].mean()"
   ]
  },
  {
   "cell_type": "code",
   "execution_count": 69,
   "metadata": {
    "id": "opRRGdWUqd_I"
   },
   "outputs": [
    {
     "data": {
      "text/html": [
       "<div>\n",
       "<style scoped>\n",
       "    .dataframe tbody tr th:only-of-type {\n",
       "        vertical-align: middle;\n",
       "    }\n",
       "\n",
       "    .dataframe tbody tr th {\n",
       "        vertical-align: top;\n",
       "    }\n",
       "\n",
       "    .dataframe thead th {\n",
       "        text-align: right;\n",
       "    }\n",
       "</style>\n",
       "<table border=\"1\" class=\"dataframe\">\n",
       "  <thead>\n",
       "    <tr style=\"text-align: right;\">\n",
       "      <th></th>\n",
       "      <th>tripduration</th>\n",
       "      <th>starttime</th>\n",
       "      <th>stoptime</th>\n",
       "      <th>start station id</th>\n",
       "      <th>start station name</th>\n",
       "      <th>start station latitude</th>\n",
       "      <th>start station longitude</th>\n",
       "      <th>end station id</th>\n",
       "      <th>end station name</th>\n",
       "      <th>end station latitude</th>\n",
       "      <th>end station longitude</th>\n",
       "      <th>bikeid</th>\n",
       "      <th>usertype</th>\n",
       "      <th>birth year</th>\n",
       "      <th>gender</th>\n",
       "      <th>start_day</th>\n",
       "      <th>start_day_again</th>\n",
       "      <th>is_weekend</th>\n",
       "      <th>start_moment</th>\n",
       "      <th>is_circle_trip</th>\n",
       "      <th>june_day</th>\n",
       "      <th>traveled_distance</th>\n",
       "      <th>trip_duration_hours</th>\n",
       "      <th>average_speed</th>\n",
       "    </tr>\n",
       "  </thead>\n",
       "  <tbody>\n",
       "    <tr>\n",
       "      <th>352938</th>\n",
       "      <td>66</td>\n",
       "      <td>2015-06-12 18:00:00</td>\n",
       "      <td>2015-06-12 18:01:00</td>\n",
       "      <td>385</td>\n",
       "      <td>E 55 St &amp; 2 Ave</td>\n",
       "      <td>40.757973</td>\n",
       "      <td>-73.966033</td>\n",
       "      <td>361</td>\n",
       "      <td>Allen St &amp; Hester St</td>\n",
       "      <td>40.716059</td>\n",
       "      <td>-73.991908</td>\n",
       "      <td>20957</td>\n",
       "      <td>Subscriber</td>\n",
       "      <td>1953.0</td>\n",
       "      <td>1</td>\n",
       "      <td>Friday</td>\n",
       "      <td>Friday</td>\n",
       "      <td>0</td>\n",
       "      <td>afternoon</td>\n",
       "      <td>0</td>\n",
       "      <td>12</td>\n",
       "      <td>5.145346</td>\n",
       "      <td>0.018333</td>\n",
       "      <td>280.655240</td>\n",
       "    </tr>\n",
       "    <tr>\n",
       "      <th>781464</th>\n",
       "      <td>72</td>\n",
       "      <td>2015-06-25 20:16:00</td>\n",
       "      <td>2015-06-25 20:17:00</td>\n",
       "      <td>327</td>\n",
       "      <td>Vesey Pl &amp; River Terrace</td>\n",
       "      <td>40.715338</td>\n",
       "      <td>-74.016584</td>\n",
       "      <td>515</td>\n",
       "      <td>W 43 St &amp; 10 Ave</td>\n",
       "      <td>40.760094</td>\n",
       "      <td>-73.994618</td>\n",
       "      <td>21654</td>\n",
       "      <td>Subscriber</td>\n",
       "      <td>1978.0</td>\n",
       "      <td>2</td>\n",
       "      <td>Thursday</td>\n",
       "      <td>Thursday</td>\n",
       "      <td>0</td>\n",
       "      <td>evening</td>\n",
       "      <td>0</td>\n",
       "      <td>25</td>\n",
       "      <td>5.309648</td>\n",
       "      <td>0.020000</td>\n",
       "      <td>265.482382</td>\n",
       "    </tr>\n",
       "  </tbody>\n",
       "</table>\n",
       "</div>"
      ],
      "text/plain": [
       "        tripduration           starttime            stoptime  \\\n",
       "352938            66 2015-06-12 18:00:00 2015-06-12 18:01:00   \n",
       "781464            72 2015-06-25 20:16:00 2015-06-25 20:17:00   \n",
       "\n",
       "        start station id        start station name  start station latitude  \\\n",
       "352938               385           E 55 St & 2 Ave               40.757973   \n",
       "781464               327  Vesey Pl & River Terrace               40.715338   \n",
       "\n",
       "        start station longitude  end station id      end station name  \\\n",
       "352938               -73.966033             361  Allen St & Hester St   \n",
       "781464               -74.016584             515      W 43 St & 10 Ave   \n",
       "\n",
       "        end station latitude  end station longitude  bikeid    usertype  \\\n",
       "352938             40.716059             -73.991908   20957  Subscriber   \n",
       "781464             40.760094             -73.994618   21654  Subscriber   \n",
       "\n",
       "        birth year  gender start_day start_day_again  is_weekend start_moment  \\\n",
       "352938      1953.0       1    Friday          Friday           0    afternoon   \n",
       "781464      1978.0       2  Thursday        Thursday           0      evening   \n",
       "\n",
       "        is_circle_trip  june_day  traveled_distance  trip_duration_hours  \\\n",
       "352938               0        12           5.145346             0.018333   \n",
       "781464               0        25           5.309648             0.020000   \n",
       "\n",
       "        average_speed  \n",
       "352938     280.655240  \n",
       "781464     265.482382  "
      ]
     },
     "execution_count": 69,
     "metadata": {},
     "output_type": "execute_result"
    }
   ],
   "source": [
    "data[data['average_speed'] > 200]"
   ]
  },
  {
   "cell_type": "code",
   "execution_count": 70,
   "metadata": {
    "id": "vM2mSRzrqd_I"
   },
   "outputs": [
    {
     "data": {
      "text/html": [
       "<div>\n",
       "<style scoped>\n",
       "    .dataframe tbody tr th:only-of-type {\n",
       "        vertical-align: middle;\n",
       "    }\n",
       "\n",
       "    .dataframe tbody tr th {\n",
       "        vertical-align: top;\n",
       "    }\n",
       "\n",
       "    .dataframe thead th {\n",
       "        text-align: right;\n",
       "    }\n",
       "</style>\n",
       "<table border=\"1\" class=\"dataframe\">\n",
       "  <thead>\n",
       "    <tr style=\"text-align: right;\">\n",
       "      <th></th>\n",
       "      <th>start station name</th>\n",
       "      <th>end station name</th>\n",
       "      <th>traveled_distance</th>\n",
       "      <th>average_speed</th>\n",
       "    </tr>\n",
       "  </thead>\n",
       "  <tbody>\n",
       "    <tr>\n",
       "      <th>88</th>\n",
       "      <td>Lexington Ave &amp; E 24 St</td>\n",
       "      <td>Lexington Ave &amp; E 24 St</td>\n",
       "      <td>0.0</td>\n",
       "      <td>0.0</td>\n",
       "    </tr>\n",
       "    <tr>\n",
       "      <th>101</th>\n",
       "      <td>South End Ave &amp; Liberty St</td>\n",
       "      <td>South End Ave &amp; Liberty St</td>\n",
       "      <td>0.0</td>\n",
       "      <td>0.0</td>\n",
       "    </tr>\n",
       "    <tr>\n",
       "      <th>107</th>\n",
       "      <td>Broadway &amp; E 14 St</td>\n",
       "      <td>Broadway &amp; E 14 St</td>\n",
       "      <td>0.0</td>\n",
       "      <td>0.0</td>\n",
       "    </tr>\n",
       "    <tr>\n",
       "      <th>111</th>\n",
       "      <td>West St &amp; Chambers St</td>\n",
       "      <td>West St &amp; Chambers St</td>\n",
       "      <td>0.0</td>\n",
       "      <td>0.0</td>\n",
       "    </tr>\n",
       "    <tr>\n",
       "      <th>119</th>\n",
       "      <td>E 14 St &amp; Avenue B</td>\n",
       "      <td>E 14 St &amp; Avenue B</td>\n",
       "      <td>0.0</td>\n",
       "      <td>0.0</td>\n",
       "    </tr>\n",
       "  </tbody>\n",
       "</table>\n",
       "</div>"
      ],
      "text/plain": [
       "             start station name            end station name  \\\n",
       "88      Lexington Ave & E 24 St     Lexington Ave & E 24 St   \n",
       "101  South End Ave & Liberty St  South End Ave & Liberty St   \n",
       "107          Broadway & E 14 St          Broadway & E 14 St   \n",
       "111       West St & Chambers St       West St & Chambers St   \n",
       "119          E 14 St & Avenue B          E 14 St & Avenue B   \n",
       "\n",
       "     traveled_distance  average_speed  \n",
       "88                 0.0            0.0  \n",
       "101                0.0            0.0  \n",
       "107                0.0            0.0  \n",
       "111                0.0            0.0  \n",
       "119                0.0            0.0  "
      ]
     },
     "execution_count": 70,
     "metadata": {},
     "output_type": "execute_result"
    }
   ],
   "source": [
    "col = ['start station name', 'end station name', 'traveled_distance', 'average_speed']\n",
    "data[data.average_speed == 0][col].head(5)"
   ]
  },
  {
   "cell_type": "markdown",
   "metadata": {
    "id": "NCVXFmqQqd_J"
   },
   "source": [
    "### <font color='red'>Run the following block to compute the mean speed on non-loopy trips </font>"
   ]
  },
  {
   "cell_type": "code",
   "execution_count": 71,
   "metadata": {
    "id": "J0quCTO1qd_Q"
   },
   "outputs": [
    {
     "data": {
      "text/plain": [
       "8.686372349654757"
      ]
     },
     "execution_count": 71,
     "metadata": {},
     "output_type": "execute_result"
    }
   ],
   "source": [
    "mean_speed = mean(data['average_speed'][data['average_speed'] != 0])\n",
    "mean_speed"
   ]
  },
  {
   "cell_type": "code",
   "execution_count": 72,
   "metadata": {
    "id": "Kte1qc-uqd_R"
   },
   "outputs": [
    {
     "data": {
      "text/plain": [
       "8.686372349654757"
      ]
     },
     "execution_count": 72,
     "metadata": {},
     "output_type": "execute_result"
    }
   ],
   "source": [
    "data[data.average_speed != 0].average_speed.mean()"
   ]
  },
  {
   "cell_type": "markdown",
   "metadata": {
    "id": "02sziInZqd_R"
   },
   "source": [
    "### <font color='red'>5.5) Keep only trips for which the speed is under 50 km/h </font>"
   ]
  },
  {
   "cell_type": "code",
   "execution_count": 73,
   "metadata": {
    "id": "y0U13YJGqd_R",
    "jupyter": {
     "outputs_hidden": false
    }
   },
   "outputs": [],
   "source": [
    "data = data[data['average_speed'] < 50]\n",
    "    \n",
    "    #### ENTER YOUR FILTERING CONDITION HERE ####\n",
    "            #### WARNING : THIS WILL ERASE THE RAW DATA SO MAKE SURE IT IS CORRECT! ####\n",
    "            #### MAKE TESTS ON THE SLICING CONDITION BEFORE ERASING THE DATA ####]"
   ]
  },
  {
   "cell_type": "code",
   "execution_count": 74,
   "metadata": {},
   "outputs": [
    {
     "data": {
      "text/html": [
       "<div>\n",
       "<style scoped>\n",
       "    .dataframe tbody tr th:only-of-type {\n",
       "        vertical-align: middle;\n",
       "    }\n",
       "\n",
       "    .dataframe tbody tr th {\n",
       "        vertical-align: top;\n",
       "    }\n",
       "\n",
       "    .dataframe thead th {\n",
       "        text-align: right;\n",
       "    }\n",
       "</style>\n",
       "<table border=\"1\" class=\"dataframe\">\n",
       "  <thead>\n",
       "    <tr style=\"text-align: right;\">\n",
       "      <th></th>\n",
       "      <th>tripduration</th>\n",
       "      <th>starttime</th>\n",
       "      <th>stoptime</th>\n",
       "      <th>start station id</th>\n",
       "      <th>start station name</th>\n",
       "      <th>start station latitude</th>\n",
       "      <th>start station longitude</th>\n",
       "      <th>end station id</th>\n",
       "      <th>end station name</th>\n",
       "      <th>end station latitude</th>\n",
       "      <th>end station longitude</th>\n",
       "      <th>bikeid</th>\n",
       "      <th>usertype</th>\n",
       "      <th>birth year</th>\n",
       "      <th>gender</th>\n",
       "      <th>start_day</th>\n",
       "      <th>start_day_again</th>\n",
       "      <th>is_weekend</th>\n",
       "      <th>start_moment</th>\n",
       "      <th>is_circle_trip</th>\n",
       "      <th>june_day</th>\n",
       "      <th>traveled_distance</th>\n",
       "      <th>trip_duration_hours</th>\n",
       "      <th>average_speed</th>\n",
       "    </tr>\n",
       "  </thead>\n",
       "  <tbody>\n",
       "  </tbody>\n",
       "</table>\n",
       "</div>"
      ],
      "text/plain": [
       "Empty DataFrame\n",
       "Columns: [tripduration, starttime, stoptime, start station id, start station name, start station latitude, start station longitude, end station id, end station name, end station latitude, end station longitude, bikeid, usertype, birth year, gender, start_day, start_day_again, is_weekend, start_moment, is_circle_trip, june_day, traveled_distance, trip_duration_hours, average_speed]\n",
       "Index: []"
      ]
     },
     "execution_count": 74,
     "metadata": {},
     "output_type": "execute_result"
    }
   ],
   "source": [
    "data[data['average_speed'] > 50]"
   ]
  },
  {
   "cell_type": "code",
   "execution_count": 75,
   "metadata": {
    "id": "93KKIDpYqd_S"
   },
   "outputs": [
    {
     "data": {
      "text/plain": [
       "(935588, 24)"
      ]
     },
     "execution_count": 75,
     "metadata": {},
     "output_type": "execute_result"
    }
   ],
   "source": [
    "data.shape"
   ]
  },
  {
   "cell_type": "markdown",
   "metadata": {
    "id": "fi0Lr8hLqd_S"
   },
   "source": [
    "### <font color='red'>What does the following block do ?</font>"
   ]
  },
  {
   "cell_type": "code",
   "execution_count": 81,
   "metadata": {},
   "outputs": [],
   "source": [
    "data.loc[data['average_speed']==0,'average_speed'] = mean_speed # mengganti yang speednya 0 dengan rata-rata speed\n",
    "# karena ada durasi, speed nggak mungkin 0. paling masuk akal dengan menggantinya dengan mean speed\n",
    "# perlu dilakukan karena "
   ]
  },
  {
   "cell_type": "markdown",
   "metadata": {
    "id": "g-wyzvcxqd_S"
   },
   "source": [
    "### <font color='red'>5.6) Using <i>seaborn.distplot</i>, plot the distribution of speeds</font>"
   ]
  },
  {
   "cell_type": "code",
   "execution_count": 77,
   "metadata": {
    "id": "YqIcUoubqd_T",
    "jupyter": {
     "outputs_hidden": false
    }
   },
   "outputs": [
    {
     "data": {
      "image/png": "[encoded data removed]",
      "text/plain": [
       "<Figure size 1440x720 with 1 Axes>"
      ]
     },
     "metadata": {},
     "output_type": "display_data"
    }
   ],
   "source": [
    "plt.figure(figsize=(20,10))\n",
    "sns.distplot(data['average_speed'])\n",
    "#### PLOT THE DISTRIBUTION OF SPEEDS ####\n",
    "plt.show()"
   ]
  },
  {
   "cell_type": "markdown",
   "metadata": {
    "id": "RBKXaO91qd_T"
   },
   "source": [
    "### <font color='red'>5.7) Subsidiary question : plot the average speed vs. the total distance. What do you observe ? You can use the following function: </font>\n",
    "- seaborn.regplot()\n",
    "- data_sample = data.sample(1000) so as not to overload the graph"
   ]
  },
  {
   "cell_type": "code",
   "execution_count": 85,
   "metadata": {
    "id": "Q6lQZesUqd_T",
    "jupyter": {
     "outputs_hidden": false
    }
   },
   "outputs": [
    {
     "data": {
      "image/png": "[encoded data removed]",
      "text/plain": [
       "<Figure size 1440x720 with 1 Axes>"
      ]
     },
     "metadata": {},
     "output_type": "display_data"
    }
   ],
   "source": [
    "data_sample = data.sample(1000)\n",
    "plt.figure(figsize=[20,10])\n",
    "sns.regplot(x = 'traveled_distance', y = 'average_speed', data=data_sample, color = 'gold')\n",
    "sns.set(rc={'axes.facecolor':'cornflowerblue'})#, 'figure.facecolor':'cornflowerblue'})\n",
    "plt.xlabel('traveled distance')\n",
    "plt.ylabel('average speed')\n",
    "plt.title('Travelled Distance vs Average Speed')\n",
    "plt.show()"
   ]
  },
  {
   "cell_type": "markdown",
   "metadata": {},
   "source": [
    "standard deviation masih jauh. korelasinya tidak tinggi. korelasinya positif.\n",
    "ada yang speednya kecil jaraknya tinggi, speednya tinggi jaraknya dekat."
   ]
  },
  {
   "cell_type": "markdown",
   "metadata": {
    "id": "8GPP99v7qd_U"
   },
   "source": [
    "# Save dataset to csv file"
   ]
  },
  {
   "cell_type": "code",
   "execution_count": 79,
   "metadata": {
    "id": "0SgPGpiNqd_U"
   },
   "outputs": [
    {
     "data": {
      "text/plain": [
       "array(['tripduration', 'starttime', 'stoptime', 'start station id',\n",
       "       'start station name', 'start station latitude',\n",
       "       'start station longitude', 'end station id', 'end station name',\n",
       "       'end station latitude', 'end station longitude', 'bikeid',\n",
       "       'usertype', 'birth year', 'gender', 'start_day', 'start_day_again',\n",
       "       'is_weekend', 'start_moment', 'is_circle_trip', 'june_day',\n",
       "       'traveled_distance', 'trip_duration_hours', 'average_speed'],\n",
       "      dtype=object)"
      ]
     },
     "execution_count": 79,
     "metadata": {},
     "output_type": "execute_result"
    }
   ],
   "source": [
    "data.columns.values"
   ]
  },
  {
   "cell_type": "code",
   "execution_count": 86,
   "metadata": {
    "id": "dqRIdb1Bqd_U"
   },
   "outputs": [],
   "source": [
    "col = ['tripduration', 'starttime', 'stoptime', 'start station id', 'start station name', 'start station latitude',\n",
    "       'start station longitude', 'end station id', 'end station name', 'end station latitude', 'end station longitude',\n",
    "       'bikeid', 'usertype', 'birth year', 'gender', 'start_day', 'is_weekend', 'start_moment', 'is_circle_trip', 'june_day',\n",
    "       'traveled_distance', 'average_speed']\n",
    "data[col].to_csv('data_after_feature_engineering.csv', index = False)"
   ]
  },
  {
   "cell_type": "markdown",
   "metadata": {
    "id": "jrzFQ3zlqd_V"
   },
   "source": [
    "## 2) Exercise <font color='blue'> (10 min) </font>"
   ]
  },
  {
   "cell_type": "markdown",
   "metadata": {
    "id": "bUsqLNQLqd_V",
    "jupyter": {
     "outputs_hidden": true
    }
   },
   "source": [
    "### <font color='red'>2.1) Any other interesting features that we need to create to enrich the data?</font>"
   ]
  },
  {
   "cell_type": "code",
   "execution_count": 87,
   "metadata": {},
   "outputs": [],
   "source": [
    "data_2 = pd.read_csv(\"data_after_feature_engineering.csv\")"
   ]
  },
  {
   "cell_type": "code",
   "execution_count": 89,
   "metadata": {},
   "outputs": [
    {
     "data": {
      "text/html": [
       "<div>\n",
       "<style scoped>\n",
       "    .dataframe tbody tr th:only-of-type {\n",
       "        vertical-align: middle;\n",
       "    }\n",
       "\n",
       "    .dataframe tbody tr th {\n",
       "        vertical-align: top;\n",
       "    }\n",
       "\n",
       "    .dataframe thead th {\n",
       "        text-align: right;\n",
       "    }\n",
       "</style>\n",
       "<table border=\"1\" class=\"dataframe\">\n",
       "  <thead>\n",
       "    <tr style=\"text-align: right;\">\n",
       "      <th></th>\n",
       "      <th>tripduration</th>\n",
       "      <th>starttime</th>\n",
       "      <th>stoptime</th>\n",
       "      <th>start station id</th>\n",
       "      <th>start station name</th>\n",
       "      <th>start station latitude</th>\n",
       "      <th>start station longitude</th>\n",
       "      <th>end station id</th>\n",
       "      <th>end station name</th>\n",
       "      <th>end station latitude</th>\n",
       "      <th>end station longitude</th>\n",
       "      <th>bikeid</th>\n",
       "      <th>usertype</th>\n",
       "      <th>birth year</th>\n",
       "      <th>gender</th>\n",
       "      <th>start_day</th>\n",
       "      <th>is_weekend</th>\n",
       "      <th>start_moment</th>\n",
       "      <th>is_circle_trip</th>\n",
       "      <th>june_day</th>\n",
       "      <th>traveled_distance</th>\n",
       "      <th>average_speed</th>\n",
       "    </tr>\n",
       "  </thead>\n",
       "  <tbody>\n",
       "    <tr>\n",
       "      <th>342953</th>\n",
       "      <td>1328</td>\n",
       "      <td>2015-06-12 14:09:00</td>\n",
       "      <td>2015-06-12 14:31:00</td>\n",
       "      <td>498</td>\n",
       "      <td>Broadway &amp; W 32 St</td>\n",
       "      <td>40.748549</td>\n",
       "      <td>-73.988084</td>\n",
       "      <td>2010</td>\n",
       "      <td>Grand St &amp; Greene St</td>\n",
       "      <td>40.721655</td>\n",
       "      <td>-74.002347</td>\n",
       "      <td>15486</td>\n",
       "      <td>Customer</td>\n",
       "      <td>1979.0</td>\n",
       "      <td>0</td>\n",
       "      <td>Friday</td>\n",
       "      <td>0</td>\n",
       "      <td>afternoon</td>\n",
       "      <td>0</td>\n",
       "      <td>12</td>\n",
       "      <td>3.222901</td>\n",
       "      <td>8.736779</td>\n",
       "    </tr>\n",
       "    <tr>\n",
       "      <th>671301</th>\n",
       "      <td>146</td>\n",
       "      <td>2015-06-22 21:43:00</td>\n",
       "      <td>2015-06-22 21:46:00</td>\n",
       "      <td>423</td>\n",
       "      <td>W 54 St &amp; 9 Ave</td>\n",
       "      <td>40.765849</td>\n",
       "      <td>-73.986905</td>\n",
       "      <td>468</td>\n",
       "      <td>Broadway &amp; W 55 St</td>\n",
       "      <td>40.765265</td>\n",
       "      <td>-73.981923</td>\n",
       "      <td>20849</td>\n",
       "      <td>Subscriber</td>\n",
       "      <td>1981.0</td>\n",
       "      <td>1</td>\n",
       "      <td>Monday</td>\n",
       "      <td>0</td>\n",
       "      <td>evening</td>\n",
       "      <td>0</td>\n",
       "      <td>22</td>\n",
       "      <td>0.424542</td>\n",
       "      <td>10.468161</td>\n",
       "    </tr>\n",
       "    <tr>\n",
       "      <th>742163</th>\n",
       "      <td>394</td>\n",
       "      <td>2015-06-24 20:44:00</td>\n",
       "      <td>2015-06-24 20:50:00</td>\n",
       "      <td>363</td>\n",
       "      <td>West Thames St</td>\n",
       "      <td>40.708347</td>\n",
       "      <td>-74.017134</td>\n",
       "      <td>304</td>\n",
       "      <td>Broadway &amp; Battery Pl</td>\n",
       "      <td>40.704633</td>\n",
       "      <td>-74.013617</td>\n",
       "      <td>14798</td>\n",
       "      <td>Subscriber</td>\n",
       "      <td>1972.0</td>\n",
       "      <td>1</td>\n",
       "      <td>Wednesday</td>\n",
       "      <td>0</td>\n",
       "      <td>evening</td>\n",
       "      <td>0</td>\n",
       "      <td>24</td>\n",
       "      <td>0.508355</td>\n",
       "      <td>4.644865</td>\n",
       "    </tr>\n",
       "    <tr>\n",
       "      <th>98211</th>\n",
       "      <td>188</td>\n",
       "      <td>2015-06-05 08:11:00</td>\n",
       "      <td>2015-06-05 08:14:00</td>\n",
       "      <td>453</td>\n",
       "      <td>W 22 St &amp; 8 Ave</td>\n",
       "      <td>40.744751</td>\n",
       "      <td>-73.999154</td>\n",
       "      <td>459</td>\n",
       "      <td>W 20 St &amp; 11 Ave</td>\n",
       "      <td>40.746745</td>\n",
       "      <td>-74.007756</td>\n",
       "      <td>15469</td>\n",
       "      <td>Subscriber</td>\n",
       "      <td>1989.0</td>\n",
       "      <td>1</td>\n",
       "      <td>Friday</td>\n",
       "      <td>0</td>\n",
       "      <td>morning</td>\n",
       "      <td>0</td>\n",
       "      <td>5</td>\n",
       "      <td>0.757834</td>\n",
       "      <td>14.511710</td>\n",
       "    </tr>\n",
       "    <tr>\n",
       "      <th>653777</th>\n",
       "      <td>1074</td>\n",
       "      <td>2015-06-22 15:34:00</td>\n",
       "      <td>2015-06-22 15:52:00</td>\n",
       "      <td>511</td>\n",
       "      <td>E 14 St &amp; Avenue B</td>\n",
       "      <td>40.729387</td>\n",
       "      <td>-73.977724</td>\n",
       "      <td>442</td>\n",
       "      <td>W 27 St &amp; 7 Ave</td>\n",
       "      <td>40.746647</td>\n",
       "      <td>-73.993915</td>\n",
       "      <td>17527</td>\n",
       "      <td>Subscriber</td>\n",
       "      <td>1990.0</td>\n",
       "      <td>1</td>\n",
       "      <td>Monday</td>\n",
       "      <td>0</td>\n",
       "      <td>afternoon</td>\n",
       "      <td>0</td>\n",
       "      <td>22</td>\n",
       "      <td>2.354633</td>\n",
       "      <td>7.892623</td>\n",
       "    </tr>\n",
       "    <tr>\n",
       "      <th>708156</th>\n",
       "      <td>1582</td>\n",
       "      <td>2015-06-24 07:25:00</td>\n",
       "      <td>2015-06-24 07:51:00</td>\n",
       "      <td>375</td>\n",
       "      <td>Mercer St &amp; Bleecker St</td>\n",
       "      <td>40.726795</td>\n",
       "      <td>-73.996951</td>\n",
       "      <td>290</td>\n",
       "      <td>2 Ave &amp; E 58 St</td>\n",
       "      <td>40.760203</td>\n",
       "      <td>-73.964785</td>\n",
       "      <td>19536</td>\n",
       "      <td>Subscriber</td>\n",
       "      <td>1962.0</td>\n",
       "      <td>2</td>\n",
       "      <td>Wednesday</td>\n",
       "      <td>0</td>\n",
       "      <td>morning</td>\n",
       "      <td>0</td>\n",
       "      <td>24</td>\n",
       "      <td>4.598172</td>\n",
       "      <td>10.463602</td>\n",
       "    </tr>\n",
       "    <tr>\n",
       "      <th>854726</th>\n",
       "      <td>745</td>\n",
       "      <td>2015-06-28 19:09:00</td>\n",
       "      <td>2015-06-28 19:21:00</td>\n",
       "      <td>301</td>\n",
       "      <td>E 2 St &amp; Avenue B</td>\n",
       "      <td>40.722174</td>\n",
       "      <td>-73.983688</td>\n",
       "      <td>382</td>\n",
       "      <td>University Pl &amp; E 14 St</td>\n",
       "      <td>40.734927</td>\n",
       "      <td>-73.992005</td>\n",
       "      <td>16334</td>\n",
       "      <td>Subscriber</td>\n",
       "      <td>1984.0</td>\n",
       "      <td>1</td>\n",
       "      <td>Sunday</td>\n",
       "      <td>1</td>\n",
       "      <td>evening</td>\n",
       "      <td>0</td>\n",
       "      <td>28</td>\n",
       "      <td>1.581761</td>\n",
       "      <td>7.643408</td>\n",
       "    </tr>\n",
       "    <tr>\n",
       "      <th>22783</th>\n",
       "      <td>592</td>\n",
       "      <td>2015-06-02 16:31:00</td>\n",
       "      <td>2015-06-02 16:41:00</td>\n",
       "      <td>465</td>\n",
       "      <td>Broadway &amp; W 41 St</td>\n",
       "      <td>40.755136</td>\n",
       "      <td>-73.986580</td>\n",
       "      <td>499</td>\n",
       "      <td>Broadway &amp; W 60 St</td>\n",
       "      <td>40.769155</td>\n",
       "      <td>-73.981918</td>\n",
       "      <td>15174</td>\n",
       "      <td>Subscriber</td>\n",
       "      <td>1961.0</td>\n",
       "      <td>2</td>\n",
       "      <td>Tuesday</td>\n",
       "      <td>0</td>\n",
       "      <td>afternoon</td>\n",
       "      <td>0</td>\n",
       "      <td>2</td>\n",
       "      <td>1.607583</td>\n",
       "      <td>9.775843</td>\n",
       "    </tr>\n",
       "    <tr>\n",
       "      <th>334863</th>\n",
       "      <td>450</td>\n",
       "      <td>2015-06-12 09:17:00</td>\n",
       "      <td>2015-06-12 09:24:00</td>\n",
       "      <td>439</td>\n",
       "      <td>E 4 St &amp; 2 Ave</td>\n",
       "      <td>40.726281</td>\n",
       "      <td>-73.989780</td>\n",
       "      <td>497</td>\n",
       "      <td>E 17 St &amp; Broadway</td>\n",
       "      <td>40.737050</td>\n",
       "      <td>-73.990093</td>\n",
       "      <td>14629</td>\n",
       "      <td>Subscriber</td>\n",
       "      <td>1983.0</td>\n",
       "      <td>2</td>\n",
       "      <td>Friday</td>\n",
       "      <td>0</td>\n",
       "      <td>morning</td>\n",
       "      <td>0</td>\n",
       "      <td>12</td>\n",
       "      <td>1.197765</td>\n",
       "      <td>9.582120</td>\n",
       "    </tr>\n",
       "    <tr>\n",
       "      <th>199541</th>\n",
       "      <td>460</td>\n",
       "      <td>2015-06-08 16:20:00</td>\n",
       "      <td>2015-06-08 16:27:00</td>\n",
       "      <td>509</td>\n",
       "      <td>9 Ave &amp; W 22 St</td>\n",
       "      <td>40.745497</td>\n",
       "      <td>-74.001971</td>\n",
       "      <td>247</td>\n",
       "      <td>Perry St &amp; Bleecker St</td>\n",
       "      <td>40.735354</td>\n",
       "      <td>-74.004831</td>\n",
       "      <td>19590</td>\n",
       "      <td>Subscriber</td>\n",
       "      <td>1978.0</td>\n",
       "      <td>1</td>\n",
       "      <td>Monday</td>\n",
       "      <td>0</td>\n",
       "      <td>afternoon</td>\n",
       "      <td>0</td>\n",
       "      <td>8</td>\n",
       "      <td>1.153330</td>\n",
       "      <td>9.026057</td>\n",
       "    </tr>\n",
       "  </tbody>\n",
       "</table>\n",
       "</div>"
      ],
      "text/plain": [
       "        tripduration            starttime             stoptime  \\\n",
       "342953          1328  2015-06-12 14:09:00  2015-06-12 14:31:00   \n",
       "671301           146  2015-06-22 21:43:00  2015-06-22 21:46:00   \n",
       "742163           394  2015-06-24 20:44:00  2015-06-24 20:50:00   \n",
       "98211            188  2015-06-05 08:11:00  2015-06-05 08:14:00   \n",
       "653777          1074  2015-06-22 15:34:00  2015-06-22 15:52:00   \n",
       "708156          1582  2015-06-24 07:25:00  2015-06-24 07:51:00   \n",
       "854726           745  2015-06-28 19:09:00  2015-06-28 19:21:00   \n",
       "22783            592  2015-06-02 16:31:00  2015-06-02 16:41:00   \n",
       "334863           450  2015-06-12 09:17:00  2015-06-12 09:24:00   \n",
       "199541           460  2015-06-08 16:20:00  2015-06-08 16:27:00   \n",
       "\n",
       "        start station id       start station name  start station latitude  \\\n",
       "342953               498       Broadway & W 32 St               40.748549   \n",
       "671301               423          W 54 St & 9 Ave               40.765849   \n",
       "742163               363           West Thames St               40.708347   \n",
       "98211                453          W 22 St & 8 Ave               40.744751   \n",
       "653777               511       E 14 St & Avenue B               40.729387   \n",
       "708156               375  Mercer St & Bleecker St               40.726795   \n",
       "854726               301        E 2 St & Avenue B               40.722174   \n",
       "22783                465       Broadway & W 41 St               40.755136   \n",
       "334863               439           E 4 St & 2 Ave               40.726281   \n",
       "199541               509          9 Ave & W 22 St               40.745497   \n",
       "\n",
       "        start station longitude  end station id         end station name  \\\n",
       "342953               -73.988084            2010     Grand St & Greene St   \n",
       "671301               -73.986905             468       Broadway & W 55 St   \n",
       "742163               -74.017134             304    Broadway & Battery Pl   \n",
       "98211                -73.999154             459         W 20 St & 11 Ave   \n",
       "653777               -73.977724             442          W 27 St & 7 Ave   \n",
       "708156               -73.996951             290          2 Ave & E 58 St   \n",
       "854726               -73.983688             382  University Pl & E 14 St   \n",
       "22783                -73.986580             499       Broadway & W 60 St   \n",
       "334863               -73.989780             497       E 17 St & Broadway   \n",
       "199541               -74.001971             247   Perry St & Bleecker St   \n",
       "\n",
       "        end station latitude  end station longitude  bikeid    usertype  \\\n",
       "342953             40.721655             -74.002347   15486    Customer   \n",
       "671301             40.765265             -73.981923   20849  Subscriber   \n",
       "742163             40.704633             -74.013617   14798  Subscriber   \n",
       "98211              40.746745             -74.007756   15469  Subscriber   \n",
       "653777             40.746647             -73.993915   17527  Subscriber   \n",
       "708156             40.760203             -73.964785   19536  Subscriber   \n",
       "854726             40.734927             -73.992005   16334  Subscriber   \n",
       "22783              40.769155             -73.981918   15174  Subscriber   \n",
       "334863             40.737050             -73.990093   14629  Subscriber   \n",
       "199541             40.735354             -74.004831   19590  Subscriber   \n",
       "\n",
       "        birth year  gender  start_day  is_weekend start_moment  \\\n",
       "342953      1979.0       0     Friday           0    afternoon   \n",
       "671301      1981.0       1     Monday           0      evening   \n",
       "742163      1972.0       1  Wednesday           0      evening   \n",
       "98211       1989.0       1     Friday           0      morning   \n",
       "653777      1990.0       1     Monday           0    afternoon   \n",
       "708156      1962.0       2  Wednesday           0      morning   \n",
       "854726      1984.0       1     Sunday           1      evening   \n",
       "22783       1961.0       2    Tuesday           0    afternoon   \n",
       "334863      1983.0       2     Friday           0      morning   \n",
       "199541      1978.0       1     Monday           0    afternoon   \n",
       "\n",
       "        is_circle_trip  june_day  traveled_distance  average_speed  \n",
       "342953               0        12           3.222901       8.736779  \n",
       "671301               0        22           0.424542      10.468161  \n",
       "742163               0        24           0.508355       4.644865  \n",
       "98211                0         5           0.757834      14.511710  \n",
       "653777               0        22           2.354633       7.892623  \n",
       "708156               0        24           4.598172      10.463602  \n",
       "854726               0        28           1.581761       7.643408  \n",
       "22783                0         2           1.607583       9.775843  \n",
       "334863               0        12           1.197765       9.582120  \n",
       "199541               0         8           1.153330       9.026057  "
      ]
     },
     "execution_count": 89,
     "metadata": {},
     "output_type": "execute_result"
    }
   ],
   "source": [
    "data_2.sample(10)"
   ]
  },
  {
   "cell_type": "markdown",
   "metadata": {},
   "source": [
    "bikin variabel umur.\n",
    "\n",
    "bikin variabel kelompok usia.\n",
    "\n",
    "grouping orang-orang yang mulai dan selesainya di waktu yang sama dan tempat yang sama, siapa tahu mereka memang bareng-bareng."
   ]
  },
  {
   "cell_type": "code",
   "execution_count": null,
   "metadata": {},
   "outputs": [],
   "source": []
  },
  {
   "cell_type": "code",
   "execution_count": null,
   "metadata": {},
   "outputs": [],
   "source": []
  },
  {
   "cell_type": "code",
   "execution_count": null,
   "metadata": {},
   "outputs": [],
   "source": []
  },
  {
   "cell_type": "code",
   "execution_count": null,
   "metadata": {},
   "outputs": [],
   "source": []
  }
 ],
 "metadata": {
  "colab": {
   "name": "DataPrep_3_Feature_Engineering.ipynb",
   "provenance": []
  },
  "kernelspec": {
   "display_name": "Python 3",
   "language": "python",
   "name": "python3"
  },
  "language_info": {
   "codemirror_mode": {
    "name": "ipython",
    "version": 3
   },
   "file_extension": ".py",
   "mimetype": "text/x-python",
   "name": "python",
   "nbconvert_exporter": "python",
   "pygments_lexer": "ipython3",
   "version": "3.7.1"
  }
 },
 "nbformat": 4,
 "nbformat_minor": 1
}
